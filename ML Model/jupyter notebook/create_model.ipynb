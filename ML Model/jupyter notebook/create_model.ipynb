{
 "cells": [
  {
   "cell_type": "markdown",
   "metadata": {},
   "source": [
    "# WINE QUALITY ESTIMATION PROJECT"
   ]
  },
  {
   "cell_type": "markdown",
   "metadata": {},
   "source": [
    "## Problem Statement\n",
    "Use machine learning to determine which physiochemical properties make a wine 'good'!\n",
    "\n",
    "## About dataset features\n",
    "### fixed acidity\n",
    "\n",
    "The predominant fixed acids found in wines are tartaric, malic, citric, and succinic.  Their respective levels found in wine can vary greatly but in general one would expect to see 1,000 to 4,000 mg/L tartaric acid, 0 to 8,000 mg/L malic acid, 0 to 500 mg/L citric acid, and 500 to 2,000 mg/L succinic acid.  All of these acids originate in grapes with the exception of succinic acid, which is produced by yeast during the fermentation process.  Grapes also contain ascorbic acid (Vitamin C), but this is lost during fermentation.  It is also legal to add fumaric acid as a preservative.\n",
    "\n",
    "Currently winemakers in California  are pushing wines to high pH levels, as high as 4.0, while 20 years ago pH's above 3.6 were unusual.  This makes wines taste softer, popular with wine writers today.\n",
    "\n",
    "### volatile acidity\n",
    "\n",
    "Volatile acidity (VA) is a measure of the wine's volatile (or gaseous) acids. The primary volatile acid in wine is acetic acid, which is also the primary acid associated with the smell and taste of vinegar. However, commercial vinegars have a concentration of 3 to 9 percent acetic acid (30 to 90 grams per liter, g/L), which is 30 to 90 times the allowable levels in wine.\n",
    "\n",
    "Volatile acidity concentration is regulated by the federal Tax and Trade Bureau, and allowable levels for various wine styles can be found in the Code of Federal Regulations (CFR). In general, per the CFR: \"The maximum volatile acidity, calculated as acetic acid and exclusive of sulfur dioxide, is 0.14 g/100 mL for red wine and 0.12 g/100 mL for white wines.\" This is equivalent to 1.4 and 1.2 g/L acetic acid for red and white wines, respectively.\n",
    "\n",
    "### citric acid\n",
    "\n",
    "Citric acid is often added to wines to increase acidity, complement a specific flavor or prevent ferric hazes. It can be added to finished wines to increase acidity and give a “fresh” flavor. The disadvantage of adding citric acid is its microbial instability. Since bacteria use citric acid in their metabolism, it may increase the growth of unwanted microbes. Often to increase acidity of wine, winemakers will add tartaric acid instead.\n",
    "\n",
    "### residual sugar\n",
    "\n",
    "Residual Sugar, or RS for short, refers to any natural grape sugars that are leftover after fermentation ceases (whether on purpose or not). The juice of wine grapes starts out intensely sweet, and fermentation uses up that sugar as the yeasts feast upon it.\n",
    "\n",
    "### chlorides\n",
    "\n",
    "The amount of chloride in wine is influenced by both the terroir and type of grape, and the importance of quantification lies in the fact that wine flavor is strongly impacted by this particular ion, which, in high concentration, gives the wine an undesirable salty taste and significantly decreases its market appeal. Quantification also helps determining wine origin and different grape varieties used in the wine, thus justifying the difference in wine regulations from country to country.\n",
    "\n",
    "### free sulfur dioxide\n",
    "\n",
    "SO2 that is present in wine but has not yet reacted is considered “free.” Free SO2 is what is still available to protect the wine. Be particularly attentive to the amount used , and this is the last addition that can be performed.\n",
    "\n",
    "### total sulfur dioxide\n",
    "\n",
    "Simply put, Total Sulfur Dioxide (TSO2) is the portion of SO2 that is free in the wine plus the portion that is bound to other chemicals in the wine such as aldehydes, pigments, or sugars. Simply put, Total Sulfur Dioxide (TSO2) is the portion of SO2 that is free in the wine plus the portion that is bound to other chemicals in the wine such as aldehydes, pigments, or sugars.\n",
    "\n",
    "### density\n",
    "\n",
    "The typical density or specific gravity of the must (the term we give to wine before we add or pitch the yeast) is generally between 1.080 and 1.090. This essentially means your wine is 8-9% more dense than water. One of the most important parameters in wine production is the sugar content of the grapes. Accurately determining this value is crucial to deciding when to harvest for the highest quality wine.\n",
    "\n",
    "### pH\n",
    "\n",
    "Typically, the pH level of a wine ranges from 3 to 4. Red wines with higher acidity are more likely to be a bright ruby color, as the lower pH gives them a red hue. Higher pH, less-acidic red wines can take on a blue or purple hue.\n",
    "\n",
    "Acidity is an essential component of any wine's profile, and it greatly influences overall perception. “If the pH is higher, the wine will be softer and rounder, and if the pH is lower, it will feel more linear,” says Cadamatre.\n",
    "\n",
    "### sulphates\n",
    "\n",
    "Added sulfites preserve freshness and protect wine from oxidation, and unwanted bacteria and yeasts. Without added sulfites, a 1961 Bordeaux would be considered trash vinegar rather than a treasure.\n",
    "A well made dry red wine typically has about 50 mg/l sulfites. Wines with lower acidity need more sulfites than higher acidity wines. Wines with more color (i.e., red wines) tend to need less sulfites than clear wines (i.e., white wines).\n",
    "\n",
    "### alcohol\n",
    "\n",
    "Wine can have anywhere between 5% and 23% ABV. The average alcohol content of wine is about 12%. This amount varies depending on the variety of wine, as well as the winemaker and their desired ABV. Some wines within the same family can even see differences in the alcohol content due to the location of the vineyard and winery.\n",
    "\n",
    "### quality\n",
    "This is the target variable to be estimated (predicted). It is a numeric figure that shows the quality of the wine ranging from 0 being very poor to 10 being very good."
   ]
  },
  {
   "cell_type": "code",
   "execution_count": 1,
   "metadata": {},
   "outputs": [],
   "source": [
    "import pandas as pd\n",
    "import numpy as np\n",
    "%matplotlib inline\n",
    "import matplotlib.pyplot as plt"
   ]
  },
  {
   "cell_type": "markdown",
   "metadata": {},
   "source": [
    "## Performing Exploratory Data Analysis (EDA) on the data set"
   ]
  },
  {
   "cell_type": "code",
   "execution_count": 2,
   "metadata": {},
   "outputs": [
    {
     "data": {
      "text/html": [
       "<div>\n",
       "<style scoped>\n",
       "    .dataframe tbody tr th:only-of-type {\n",
       "        vertical-align: middle;\n",
       "    }\n",
       "\n",
       "    .dataframe tbody tr th {\n",
       "        vertical-align: top;\n",
       "    }\n",
       "\n",
       "    .dataframe thead th {\n",
       "        text-align: right;\n",
       "    }\n",
       "</style>\n",
       "<table border=\"1\" class=\"dataframe\">\n",
       "  <thead>\n",
       "    <tr style=\"text-align: right;\">\n",
       "      <th></th>\n",
       "      <th>fixed acidity</th>\n",
       "      <th>volatile acidity</th>\n",
       "      <th>citric acid</th>\n",
       "      <th>residual sugar</th>\n",
       "      <th>chlorides</th>\n",
       "      <th>free sulfur dioxide</th>\n",
       "      <th>total sulfur dioxide</th>\n",
       "      <th>density</th>\n",
       "      <th>pH</th>\n",
       "      <th>sulphates</th>\n",
       "      <th>alcohol</th>\n",
       "      <th>quality</th>\n",
       "    </tr>\n",
       "  </thead>\n",
       "  <tbody>\n",
       "    <tr>\n",
       "      <th>0</th>\n",
       "      <td>7.5</td>\n",
       "      <td>0.14</td>\n",
       "      <td>0.34</td>\n",
       "      <td>1.3</td>\n",
       "      <td>0.055</td>\n",
       "      <td>50.0</td>\n",
       "      <td>153.0</td>\n",
       "      <td>0.99450</td>\n",
       "      <td>3.29</td>\n",
       "      <td>0.80</td>\n",
       "      <td>9.6</td>\n",
       "      <td>6.0</td>\n",
       "    </tr>\n",
       "    <tr>\n",
       "      <th>1</th>\n",
       "      <td>6.8</td>\n",
       "      <td>0.32</td>\n",
       "      <td>0.32</td>\n",
       "      <td>8.7</td>\n",
       "      <td>0.029</td>\n",
       "      <td>31.0</td>\n",
       "      <td>105.0</td>\n",
       "      <td>0.99146</td>\n",
       "      <td>3.00</td>\n",
       "      <td>0.34</td>\n",
       "      <td>12.3</td>\n",
       "      <td>7.0</td>\n",
       "    </tr>\n",
       "    <tr>\n",
       "      <th>2</th>\n",
       "      <td>7.5</td>\n",
       "      <td>0.28</td>\n",
       "      <td>0.34</td>\n",
       "      <td>4.2</td>\n",
       "      <td>0.028</td>\n",
       "      <td>36.0</td>\n",
       "      <td>116.0</td>\n",
       "      <td>0.99100</td>\n",
       "      <td>2.99</td>\n",
       "      <td>0.41</td>\n",
       "      <td>12.3</td>\n",
       "      <td>8.0</td>\n",
       "    </tr>\n",
       "    <tr>\n",
       "      <th>3</th>\n",
       "      <td>6.5</td>\n",
       "      <td>0.24</td>\n",
       "      <td>0.32</td>\n",
       "      <td>7.6</td>\n",
       "      <td>0.038</td>\n",
       "      <td>48.0</td>\n",
       "      <td>203.0</td>\n",
       "      <td>0.99580</td>\n",
       "      <td>3.45</td>\n",
       "      <td>0.54</td>\n",
       "      <td>9.7</td>\n",
       "      <td>7.0</td>\n",
       "    </tr>\n",
       "    <tr>\n",
       "      <th>4</th>\n",
       "      <td>6.9</td>\n",
       "      <td>0.21</td>\n",
       "      <td>0.62</td>\n",
       "      <td>6.3</td>\n",
       "      <td>0.042</td>\n",
       "      <td>7.0</td>\n",
       "      <td>109.0</td>\n",
       "      <td>0.99358</td>\n",
       "      <td>2.96</td>\n",
       "      <td>0.59</td>\n",
       "      <td>10.2</td>\n",
       "      <td>6.0</td>\n",
       "    </tr>\n",
       "  </tbody>\n",
       "</table>\n",
       "</div>"
      ],
      "text/plain": [
       "   fixed acidity  volatile acidity  citric acid  residual sugar  chlorides  \\\n",
       "0            7.5              0.14         0.34             1.3      0.055   \n",
       "1            6.8              0.32         0.32             8.7      0.029   \n",
       "2            7.5              0.28         0.34             4.2      0.028   \n",
       "3            6.5              0.24         0.32             7.6      0.038   \n",
       "4            6.9              0.21         0.62             6.3      0.042   \n",
       "\n",
       "   free sulfur dioxide  total sulfur dioxide  density    pH  sulphates  \\\n",
       "0                 50.0                 153.0  0.99450  3.29       0.80   \n",
       "1                 31.0                 105.0  0.99146  3.00       0.34   \n",
       "2                 36.0                 116.0  0.99100  2.99       0.41   \n",
       "3                 48.0                 203.0  0.99580  3.45       0.54   \n",
       "4                  7.0                 109.0  0.99358  2.96       0.59   \n",
       "\n",
       "   alcohol  quality  \n",
       "0      9.6      6.0  \n",
       "1     12.3      7.0  \n",
       "2     12.3      8.0  \n",
       "3      9.7      7.0  \n",
       "4     10.2      6.0  "
      ]
     },
     "execution_count": 2,
     "metadata": {},
     "output_type": "execute_result"
    }
   ],
   "source": [
    "# importing the data to notebook\n",
    "wine_dataframe = pd.read_csv('../data/wine-model-training-data.csv')\n",
    "# displaying the first five rows of the dataframe\n",
    "wine_dataframe.head()"
   ]
  },
  {
   "cell_type": "code",
   "execution_count": 3,
   "metadata": {},
   "outputs": [
    {
     "data": {
      "text/html": [
       "<div>\n",
       "<style scoped>\n",
       "    .dataframe tbody tr th:only-of-type {\n",
       "        vertical-align: middle;\n",
       "    }\n",
       "\n",
       "    .dataframe tbody tr th {\n",
       "        vertical-align: top;\n",
       "    }\n",
       "\n",
       "    .dataframe thead th {\n",
       "        text-align: right;\n",
       "    }\n",
       "</style>\n",
       "<table border=\"1\" class=\"dataframe\">\n",
       "  <thead>\n",
       "    <tr style=\"text-align: right;\">\n",
       "      <th></th>\n",
       "      <th>fixed acidity</th>\n",
       "      <th>volatile acidity</th>\n",
       "      <th>citric acid</th>\n",
       "      <th>residual sugar</th>\n",
       "      <th>chlorides</th>\n",
       "      <th>free sulfur dioxide</th>\n",
       "      <th>total sulfur dioxide</th>\n",
       "      <th>density</th>\n",
       "      <th>pH</th>\n",
       "      <th>sulphates</th>\n",
       "      <th>alcohol</th>\n",
       "      <th>quality</th>\n",
       "    </tr>\n",
       "  </thead>\n",
       "  <tbody>\n",
       "    <tr>\n",
       "      <th>count</th>\n",
       "      <td>4163.000000</td>\n",
       "      <td>4163.000000</td>\n",
       "      <td>4163.000000</td>\n",
       "      <td>4163.000000</td>\n",
       "      <td>4163.000000</td>\n",
       "      <td>4163.000000</td>\n",
       "      <td>4163.000000</td>\n",
       "      <td>4163.000000</td>\n",
       "      <td>4163.000000</td>\n",
       "      <td>4163.000000</td>\n",
       "      <td>4163.000000</td>\n",
       "      <td>4163.000000</td>\n",
       "    </tr>\n",
       "    <tr>\n",
       "      <th>mean</th>\n",
       "      <td>6.855261</td>\n",
       "      <td>0.278129</td>\n",
       "      <td>0.334396</td>\n",
       "      <td>6.453543</td>\n",
       "      <td>0.045880</td>\n",
       "      <td>35.482705</td>\n",
       "      <td>138.786332</td>\n",
       "      <td>0.994053</td>\n",
       "      <td>3.188751</td>\n",
       "      <td>0.490110</td>\n",
       "      <td>10.512357</td>\n",
       "      <td>5.877732</td>\n",
       "    </tr>\n",
       "    <tr>\n",
       "      <th>std</th>\n",
       "      <td>0.847440</td>\n",
       "      <td>0.101028</td>\n",
       "      <td>0.120258</td>\n",
       "      <td>5.111890</td>\n",
       "      <td>0.022191</td>\n",
       "      <td>17.151113</td>\n",
       "      <td>42.442138</td>\n",
       "      <td>0.003014</td>\n",
       "      <td>0.150602</td>\n",
       "      <td>0.113939</td>\n",
       "      <td>1.234535</td>\n",
       "      <td>0.885676</td>\n",
       "    </tr>\n",
       "    <tr>\n",
       "      <th>min</th>\n",
       "      <td>3.800000</td>\n",
       "      <td>0.080000</td>\n",
       "      <td>0.000000</td>\n",
       "      <td>0.600000</td>\n",
       "      <td>0.009000</td>\n",
       "      <td>3.000000</td>\n",
       "      <td>9.000000</td>\n",
       "      <td>0.987110</td>\n",
       "      <td>2.720000</td>\n",
       "      <td>0.230000</td>\n",
       "      <td>8.000000</td>\n",
       "      <td>3.000000</td>\n",
       "    </tr>\n",
       "    <tr>\n",
       "      <th>25%</th>\n",
       "      <td>6.300000</td>\n",
       "      <td>0.210000</td>\n",
       "      <td>0.270000</td>\n",
       "      <td>1.700000</td>\n",
       "      <td>0.036000</td>\n",
       "      <td>23.000000</td>\n",
       "      <td>109.000000</td>\n",
       "      <td>0.991755</td>\n",
       "      <td>3.090000</td>\n",
       "      <td>0.410000</td>\n",
       "      <td>9.500000</td>\n",
       "      <td>5.000000</td>\n",
       "    </tr>\n",
       "    <tr>\n",
       "      <th>50%</th>\n",
       "      <td>6.800000</td>\n",
       "      <td>0.260000</td>\n",
       "      <td>0.320000</td>\n",
       "      <td>5.300000</td>\n",
       "      <td>0.043000</td>\n",
       "      <td>34.000000</td>\n",
       "      <td>134.000000</td>\n",
       "      <td>0.993800</td>\n",
       "      <td>3.180000</td>\n",
       "      <td>0.470000</td>\n",
       "      <td>10.400000</td>\n",
       "      <td>6.000000</td>\n",
       "    </tr>\n",
       "    <tr>\n",
       "      <th>75%</th>\n",
       "      <td>7.300000</td>\n",
       "      <td>0.320000</td>\n",
       "      <td>0.390000</td>\n",
       "      <td>10.000000</td>\n",
       "      <td>0.050000</td>\n",
       "      <td>46.000000</td>\n",
       "      <td>168.000000</td>\n",
       "      <td>0.996200</td>\n",
       "      <td>3.280000</td>\n",
       "      <td>0.550000</td>\n",
       "      <td>11.400000</td>\n",
       "      <td>6.000000</td>\n",
       "    </tr>\n",
       "    <tr>\n",
       "      <th>max</th>\n",
       "      <td>14.200000</td>\n",
       "      <td>1.100000</td>\n",
       "      <td>1.660000</td>\n",
       "      <td>65.800000</td>\n",
       "      <td>0.346000</td>\n",
       "      <td>289.000000</td>\n",
       "      <td>440.000000</td>\n",
       "      <td>1.038980</td>\n",
       "      <td>3.820000</td>\n",
       "      <td>1.060000</td>\n",
       "      <td>14.200000</td>\n",
       "      <td>9.000000</td>\n",
       "    </tr>\n",
       "  </tbody>\n",
       "</table>\n",
       "</div>"
      ],
      "text/plain": [
       "       fixed acidity  volatile acidity  citric acid  residual sugar  \\\n",
       "count    4163.000000       4163.000000  4163.000000     4163.000000   \n",
       "mean        6.855261          0.278129     0.334396        6.453543   \n",
       "std         0.847440          0.101028     0.120258        5.111890   \n",
       "min         3.800000          0.080000     0.000000        0.600000   \n",
       "25%         6.300000          0.210000     0.270000        1.700000   \n",
       "50%         6.800000          0.260000     0.320000        5.300000   \n",
       "75%         7.300000          0.320000     0.390000       10.000000   \n",
       "max        14.200000          1.100000     1.660000       65.800000   \n",
       "\n",
       "         chlorides  free sulfur dioxide  total sulfur dioxide      density  \\\n",
       "count  4163.000000          4163.000000           4163.000000  4163.000000   \n",
       "mean      0.045880            35.482705            138.786332     0.994053   \n",
       "std       0.022191            17.151113             42.442138     0.003014   \n",
       "min       0.009000             3.000000              9.000000     0.987110   \n",
       "25%       0.036000            23.000000            109.000000     0.991755   \n",
       "50%       0.043000            34.000000            134.000000     0.993800   \n",
       "75%       0.050000            46.000000            168.000000     0.996200   \n",
       "max       0.346000           289.000000            440.000000     1.038980   \n",
       "\n",
       "                pH    sulphates      alcohol      quality  \n",
       "count  4163.000000  4163.000000  4163.000000  4163.000000  \n",
       "mean      3.188751     0.490110    10.512357     5.877732  \n",
       "std       0.150602     0.113939     1.234535     0.885676  \n",
       "min       2.720000     0.230000     8.000000     3.000000  \n",
       "25%       3.090000     0.410000     9.500000     5.000000  \n",
       "50%       3.180000     0.470000    10.400000     6.000000  \n",
       "75%       3.280000     0.550000    11.400000     6.000000  \n",
       "max       3.820000     1.060000    14.200000     9.000000  "
      ]
     },
     "execution_count": 3,
     "metadata": {},
     "output_type": "execute_result"
    }
   ],
   "source": [
    "# data info.\n",
    "wine_dataframe.describe()"
   ]
  },
  {
   "cell_type": "code",
   "execution_count": 4,
   "metadata": {},
   "outputs": [
    {
     "name": "stdout",
     "output_type": "stream",
     "text": [
      "fixed acidity : 68\n",
      "volatile acidity : 120\n",
      "citric acid : 85\n",
      "residual sugar : 299\n",
      "chlorides : 152\n",
      "free sulfur dioxide : 129\n",
      "total sulfur dioxide : 243\n",
      "density : 844\n",
      "pH : 100\n",
      "sulphates : 76\n",
      "alcohol : 101\n",
      "quality : 7\n"
     ]
    }
   ],
   "source": [
    "# displaying the number of unique values of columns\n",
    "for s in wine_dataframe.columns:\n",
    "    l = len(wine_dataframe[s].value_counts())\n",
    "    print(s,\":\", l)"
   ]
  },
  {
   "cell_type": "code",
   "execution_count": 5,
   "metadata": {},
   "outputs": [
    {
     "data": {
      "text/plain": [
       "array([6., 7., 8., 5., 4., 3., 9.])"
      ]
     },
     "execution_count": 5,
     "metadata": {},
     "output_type": "execute_result"
    }
   ],
   "source": [
    "# avalable qualities in dataset\n",
    "unique_qualities = (wine_dataframe.quality.unique())\n",
    "unique_qualities"
   ]
  },
  {
   "cell_type": "code",
   "execution_count": 6,
   "metadata": {},
   "outputs": [
    {
     "data": {
      "image/png": "[encoded data removed]",
      "text/plain": [
       "<Figure size 864x720 with 12 Axes>"
      ]
     },
     "metadata": {
      "needs_background": "light"
     },
     "output_type": "display_data"
    }
   ],
   "source": [
    "# the distribution of the data\n",
    "wine_dataframe.hist(figsize=(12, 10), bins=50);"
   ]
  },
  {
   "cell_type": "markdown",
   "metadata": {},
   "source": [
    "Outliers present. could be columns with little number of samples or obsearvation"
   ]
  },
  {
   "cell_type": "code",
   "execution_count": 7,
   "metadata": {},
   "outputs": [
    {
     "data": {
      "image/png": "[encoded data removed]",
      "text/plain": [
       "<Figure size 936x1080 with 12 Axes>"
      ]
     },
     "metadata": {
      "needs_background": "light"
     },
     "output_type": "display_data"
    }
   ],
   "source": [
    "# plotting the columns against the quality to detect ouliers\n",
    "fig, ((axes1, axes2, axes3), (axes4, axes5, axes6), (axes7, axes8, axes9), (axes10, axes11, axes12)) = plt.subplots(ncols=3, nrows=4, figsize=(13, 15))\n",
    "fig.suptitle(\"Features against qualities\", size=20)\n",
    "\n",
    "scatter = axes1.scatter([wine_dataframe.quality], wine_dataframe['quality'], c=wine_dataframe.quality);\n",
    "#axes1.set(ylabel='fixed acidity', xlabel=\"quality\");\n",
    "axes1.legend(*scatter.legend_elements(), title='Quality');\n",
    "\n",
    "axes2.scatter(wine_dataframe.quality, wine_dataframe['fixed acidity'], c=wine_dataframe.quality);\n",
    "axes2.set(ylabel='fixed acidity', xlabel=\"quality\");\n",
    "\n",
    "axes3.scatter(wine_dataframe.quality, wine_dataframe['volatile acidity'], c=wine_dataframe.quality);\n",
    "axes3.set(ylabel='volatile acidity', xlabel=\"quality\");\n",
    "\n",
    "axes4.scatter(wine_dataframe.quality, wine_dataframe['citric acid'], c=wine_dataframe.quality);\n",
    "axes4.set(ylabel='citric acid', xlabel=\"quality\");\n",
    "\n",
    "axes5.scatter(wine_dataframe.quality, wine_dataframe['residual sugar'], c=wine_dataframe.quality);\n",
    "axes5.set(ylabel='residual sugar', xlabel=\"quality\");\n",
    "\n",
    "axes6.scatter(wine_dataframe.quality, wine_dataframe['chlorides'], c=wine_dataframe.quality);\n",
    "axes6.set(ylabel='chlorides', xlabel=\"quality\");\n",
    "\n",
    "axes7.scatter(wine_dataframe.quality, wine_dataframe['free sulfur dioxide'], c=wine_dataframe.quality);\n",
    "axes7.set(ylabel='free sulfur dioxide', xlabel=\"quality\");\n",
    "\n",
    "axes8.scatter(wine_dataframe.quality, wine_dataframe['total sulfur dioxide'], c=wine_dataframe.quality);\n",
    "axes8.set(ylabel='total sulfur dioxide', xlabel=\"quality\");\n",
    "\n",
    "axes9.scatter(wine_dataframe.quality, wine_dataframe['density'], c=wine_dataframe.quality);\n",
    "axes9.set(ylabel='density', xlabel=\"quality\");\n",
    "\n",
    "axes10.scatter(wine_dataframe.quality, wine_dataframe['pH'], c=wine_dataframe.quality);\n",
    "axes10.set(ylabel='pH', xlabel=\"quality\");\n",
    "\n",
    "axes11.scatter(wine_dataframe.quality, wine_dataframe['sulphates'], c=wine_dataframe.quality);\n",
    "axes11.set(ylabel='sulphates', xlabel=\"quality\");\n",
    "\n",
    "axes12.scatter(wine_dataframe.quality, wine_dataframe['alcohol'], c=wine_dataframe.quality);\n",
    "axes12.set(ylabel='alcohol', xlabel=\"quality\");"
   ]
  },
  {
   "cell_type": "code",
   "execution_count": 8,
   "metadata": {},
   "outputs": [],
   "source": [
    "# function to plot a columns against other columns\n",
    "def plotcolumns(dataframe:pd.DataFrame, maincolumn:str, othercolumns:list, orientation=0, quality=0) -> None:\n",
    "    '''\n",
    "    function that plots a scattered plot of a column passed to \"othercolumns\" against a list of columns passed to \"othercolumns\".\n",
    "    '''\n",
    "    if orientation == 0:\n",
    "        dataframe = dataframe[dataframe.quality == quality]\n",
    "        Y = dataframe[maincolumn]\n",
    "        n_axis = len(othercolumns)\n",
    "        if n_axis > 1:\n",
    "            n_rows = (n_axis//2) + (n_axis%2)\n",
    "            n_cols = 2\n",
    "        else:\n",
    "            n_rows = 1\n",
    "            n_cols = 1\n",
    "        fig, axes = plt.subplots(ncols=n_cols, nrows=n_rows, figsize=(13, 4*n_rows))\n",
    "        fig.suptitle( f\"Relationships of {maincolumn} with quality = {quality}\", size=20)\n",
    "        row = 0\n",
    "        for i, column in enumerate(othercolumns):\n",
    "            X = dataframe[column]\n",
    "            axes[row,i%n_cols].scatter(X, Y, c=dataframe.quality);\n",
    "            axes[row,i%n_cols].set(xlabel=maincolumn, ylabel=othercolumns[i]);\n",
    "            axes[row,i%n_cols].legend(dataframe.quality.unique(), title=\"Quality\");\n",
    "            #axes[row,i%n_cols].tick_params(colors='white');\n",
    "            if i % 2 == 1:\n",
    "                row += 1\n",
    "    plt.show()"
   ]
  },
  {
   "cell_type": "code",
   "execution_count": 9,
   "metadata": {},
   "outputs": [
    {
     "data": {
      "text/plain": [
       "array([6., 7., 8., 5., 4., 3., 9.])"
      ]
     },
     "execution_count": 9,
     "metadata": {},
     "output_type": "execute_result"
    }
   ],
   "source": [
    "unique_qualities"
   ]
  },
  {
   "cell_type": "code",
   "execution_count": 10,
   "metadata": {},
   "outputs": [],
   "source": [
    "# # investigating the effect of fixed acidity \n",
    "# for i in range(len(unique_qualities)):\n",
    "#     plotcolumns(wine_dataframe, 'fixed acidity', ['volatile acidity', 'citric acid', 'pH', \"sulphates\"], quality=unique_qualities[i]);"
   ]
  },
  {
   "cell_type": "code",
   "execution_count": 11,
   "metadata": {},
   "outputs": [],
   "source": [
    "# # investigating the effect of fixed acidity \n",
    "# for i in range(len(unique_qualities)):\n",
    "#     plotcolumns(wine_dataframe, 'sulphates', ['chlorides', 'residual sugar', 'free sulfur dioxide', \"total sulfur dioxide\", 'alcohol', 'density'], quality=unique_qualities[i]);"
   ]
  },
  {
   "cell_type": "markdown",
   "metadata": {},
   "source": [
    "## Feature Engineering\n",
    "### Removing outliers"
   ]
  },
  {
   "cell_type": "code",
   "execution_count": 12,
   "metadata": {},
   "outputs": [
    {
     "data": {
      "text/html": [
       "<div>\n",
       "<style scoped>\n",
       "    .dataframe tbody tr th:only-of-type {\n",
       "        vertical-align: middle;\n",
       "    }\n",
       "\n",
       "    .dataframe tbody tr th {\n",
       "        vertical-align: top;\n",
       "    }\n",
       "\n",
       "    .dataframe thead th {\n",
       "        text-align: right;\n",
       "    }\n",
       "</style>\n",
       "<table border=\"1\" class=\"dataframe\">\n",
       "  <thead>\n",
       "    <tr style=\"text-align: right;\">\n",
       "      <th></th>\n",
       "      <th>fixed acidity</th>\n",
       "      <th>volatile acidity</th>\n",
       "      <th>citric acid</th>\n",
       "      <th>residual sugar</th>\n",
       "      <th>chlorides</th>\n",
       "      <th>free sulfur dioxide</th>\n",
       "      <th>total sulfur dioxide</th>\n",
       "      <th>density</th>\n",
       "      <th>pH</th>\n",
       "      <th>sulphates</th>\n",
       "      <th>alcohol</th>\n",
       "      <th>quality</th>\n",
       "    </tr>\n",
       "  </thead>\n",
       "  <tbody>\n",
       "    <tr>\n",
       "      <th>0</th>\n",
       "      <td>7.5</td>\n",
       "      <td>0.14</td>\n",
       "      <td>0.34</td>\n",
       "      <td>1.3</td>\n",
       "      <td>0.055</td>\n",
       "      <td>50.0</td>\n",
       "      <td>153.0</td>\n",
       "      <td>0.99450</td>\n",
       "      <td>3.29</td>\n",
       "      <td>0.80</td>\n",
       "      <td>9.6</td>\n",
       "      <td>6.0</td>\n",
       "    </tr>\n",
       "    <tr>\n",
       "      <th>1</th>\n",
       "      <td>6.8</td>\n",
       "      <td>0.32</td>\n",
       "      <td>0.32</td>\n",
       "      <td>8.7</td>\n",
       "      <td>0.029</td>\n",
       "      <td>31.0</td>\n",
       "      <td>105.0</td>\n",
       "      <td>0.99146</td>\n",
       "      <td>3.00</td>\n",
       "      <td>0.34</td>\n",
       "      <td>12.3</td>\n",
       "      <td>7.0</td>\n",
       "    </tr>\n",
       "    <tr>\n",
       "      <th>2</th>\n",
       "      <td>7.5</td>\n",
       "      <td>0.28</td>\n",
       "      <td>0.34</td>\n",
       "      <td>4.2</td>\n",
       "      <td>0.028</td>\n",
       "      <td>36.0</td>\n",
       "      <td>116.0</td>\n",
       "      <td>0.99100</td>\n",
       "      <td>2.99</td>\n",
       "      <td>0.41</td>\n",
       "      <td>12.3</td>\n",
       "      <td>8.0</td>\n",
       "    </tr>\n",
       "    <tr>\n",
       "      <th>3</th>\n",
       "      <td>6.5</td>\n",
       "      <td>0.24</td>\n",
       "      <td>0.32</td>\n",
       "      <td>7.6</td>\n",
       "      <td>0.038</td>\n",
       "      <td>48.0</td>\n",
       "      <td>203.0</td>\n",
       "      <td>0.99580</td>\n",
       "      <td>3.45</td>\n",
       "      <td>0.54</td>\n",
       "      <td>9.7</td>\n",
       "      <td>7.0</td>\n",
       "    </tr>\n",
       "    <tr>\n",
       "      <th>4</th>\n",
       "      <td>6.9</td>\n",
       "      <td>0.21</td>\n",
       "      <td>0.62</td>\n",
       "      <td>6.3</td>\n",
       "      <td>0.042</td>\n",
       "      <td>7.0</td>\n",
       "      <td>109.0</td>\n",
       "      <td>0.99358</td>\n",
       "      <td>2.96</td>\n",
       "      <td>0.59</td>\n",
       "      <td>10.2</td>\n",
       "      <td>6.0</td>\n",
       "    </tr>\n",
       "  </tbody>\n",
       "</table>\n",
       "</div>"
      ],
      "text/plain": [
       "   fixed acidity  volatile acidity  citric acid  residual sugar  chlorides  \\\n",
       "0            7.5              0.14         0.34             1.3      0.055   \n",
       "1            6.8              0.32         0.32             8.7      0.029   \n",
       "2            7.5              0.28         0.34             4.2      0.028   \n",
       "3            6.5              0.24         0.32             7.6      0.038   \n",
       "4            6.9              0.21         0.62             6.3      0.042   \n",
       "\n",
       "   free sulfur dioxide  total sulfur dioxide  density    pH  sulphates  \\\n",
       "0                 50.0                 153.0  0.99450  3.29       0.80   \n",
       "1                 31.0                 105.0  0.99146  3.00       0.34   \n",
       "2                 36.0                 116.0  0.99100  2.99       0.41   \n",
       "3                 48.0                 203.0  0.99580  3.45       0.54   \n",
       "4                  7.0                 109.0  0.99358  2.96       0.59   \n",
       "\n",
       "   alcohol  quality  \n",
       "0      9.6      6.0  \n",
       "1     12.3      7.0  \n",
       "2     12.3      8.0  \n",
       "3      9.7      7.0  \n",
       "4     10.2      6.0  "
      ]
     },
     "execution_count": 12,
     "metadata": {},
     "output_type": "execute_result"
    }
   ],
   "source": [
    "wine_dataframe2 = wine_dataframe\n",
    "wine_dataframe2 = wine_dataframe2[wine_dataframe2['fixed acidity'] < 13]\n",
    "wine_dataframe2 = wine_dataframe2[wine_dataframe2['residual sugar'] < 60]\n",
    "wine_dataframe2 = wine_dataframe2[wine_dataframe2['chlorides'] < 0.3]\n",
    "wine_dataframe2 = wine_dataframe2[wine_dataframe2['citric acid'] < 1.1]\n",
    "wine_dataframe2.reset_index(drop=True, inplace=True)\n",
    "wine_dataframe2.head()"
   ]
  },
  {
   "cell_type": "code",
   "execution_count": 13,
   "metadata": {},
   "outputs": [
    {
     "data": {
      "text/html": [
       "<div>\n",
       "<style scoped>\n",
       "    .dataframe tbody tr th:only-of-type {\n",
       "        vertical-align: middle;\n",
       "    }\n",
       "\n",
       "    .dataframe tbody tr th {\n",
       "        vertical-align: top;\n",
       "    }\n",
       "\n",
       "    .dataframe thead th {\n",
       "        text-align: right;\n",
       "    }\n",
       "</style>\n",
       "<table border=\"1\" class=\"dataframe\">\n",
       "  <thead>\n",
       "    <tr style=\"text-align: right;\">\n",
       "      <th></th>\n",
       "      <th>fixed acidity</th>\n",
       "      <th>volatile acidity</th>\n",
       "      <th>citric acid</th>\n",
       "      <th>residual sugar</th>\n",
       "      <th>chlorides</th>\n",
       "      <th>free sulfur dioxide</th>\n",
       "      <th>total sulfur dioxide</th>\n",
       "      <th>density</th>\n",
       "      <th>pH</th>\n",
       "      <th>sulphates</th>\n",
       "      <th>alcohol</th>\n",
       "      <th>quality</th>\n",
       "    </tr>\n",
       "  </thead>\n",
       "  <tbody>\n",
       "    <tr>\n",
       "      <th>count</th>\n",
       "      <td>4163.000000</td>\n",
       "      <td>4163.000000</td>\n",
       "      <td>4163.000000</td>\n",
       "      <td>4163.000000</td>\n",
       "      <td>4163.000000</td>\n",
       "      <td>4163.000000</td>\n",
       "      <td>4163.000000</td>\n",
       "      <td>4163.000000</td>\n",
       "      <td>4163.000000</td>\n",
       "      <td>4163.000000</td>\n",
       "      <td>4163.000000</td>\n",
       "      <td>4163.000000</td>\n",
       "    </tr>\n",
       "    <tr>\n",
       "      <th>mean</th>\n",
       "      <td>6.855261</td>\n",
       "      <td>0.278129</td>\n",
       "      <td>0.334396</td>\n",
       "      <td>6.453543</td>\n",
       "      <td>0.045880</td>\n",
       "      <td>35.482705</td>\n",
       "      <td>138.786332</td>\n",
       "      <td>0.994053</td>\n",
       "      <td>3.188751</td>\n",
       "      <td>0.490110</td>\n",
       "      <td>10.512357</td>\n",
       "      <td>5.877732</td>\n",
       "    </tr>\n",
       "    <tr>\n",
       "      <th>std</th>\n",
       "      <td>0.847440</td>\n",
       "      <td>0.101028</td>\n",
       "      <td>0.120258</td>\n",
       "      <td>5.111890</td>\n",
       "      <td>0.022191</td>\n",
       "      <td>17.151113</td>\n",
       "      <td>42.442138</td>\n",
       "      <td>0.003014</td>\n",
       "      <td>0.150602</td>\n",
       "      <td>0.113939</td>\n",
       "      <td>1.234535</td>\n",
       "      <td>0.885676</td>\n",
       "    </tr>\n",
       "    <tr>\n",
       "      <th>min</th>\n",
       "      <td>3.800000</td>\n",
       "      <td>0.080000</td>\n",
       "      <td>0.000000</td>\n",
       "      <td>0.600000</td>\n",
       "      <td>0.009000</td>\n",
       "      <td>3.000000</td>\n",
       "      <td>9.000000</td>\n",
       "      <td>0.987110</td>\n",
       "      <td>2.720000</td>\n",
       "      <td>0.230000</td>\n",
       "      <td>8.000000</td>\n",
       "      <td>3.000000</td>\n",
       "    </tr>\n",
       "    <tr>\n",
       "      <th>25%</th>\n",
       "      <td>6.300000</td>\n",
       "      <td>0.210000</td>\n",
       "      <td>0.270000</td>\n",
       "      <td>1.700000</td>\n",
       "      <td>0.036000</td>\n",
       "      <td>23.000000</td>\n",
       "      <td>109.000000</td>\n",
       "      <td>0.991755</td>\n",
       "      <td>3.090000</td>\n",
       "      <td>0.410000</td>\n",
       "      <td>9.500000</td>\n",
       "      <td>5.000000</td>\n",
       "    </tr>\n",
       "    <tr>\n",
       "      <th>50%</th>\n",
       "      <td>6.800000</td>\n",
       "      <td>0.260000</td>\n",
       "      <td>0.320000</td>\n",
       "      <td>5.300000</td>\n",
       "      <td>0.043000</td>\n",
       "      <td>34.000000</td>\n",
       "      <td>134.000000</td>\n",
       "      <td>0.993800</td>\n",
       "      <td>3.180000</td>\n",
       "      <td>0.470000</td>\n",
       "      <td>10.400000</td>\n",
       "      <td>6.000000</td>\n",
       "    </tr>\n",
       "    <tr>\n",
       "      <th>75%</th>\n",
       "      <td>7.300000</td>\n",
       "      <td>0.320000</td>\n",
       "      <td>0.390000</td>\n",
       "      <td>10.000000</td>\n",
       "      <td>0.050000</td>\n",
       "      <td>46.000000</td>\n",
       "      <td>168.000000</td>\n",
       "      <td>0.996200</td>\n",
       "      <td>3.280000</td>\n",
       "      <td>0.550000</td>\n",
       "      <td>11.400000</td>\n",
       "      <td>6.000000</td>\n",
       "    </tr>\n",
       "    <tr>\n",
       "      <th>max</th>\n",
       "      <td>14.200000</td>\n",
       "      <td>1.100000</td>\n",
       "      <td>1.660000</td>\n",
       "      <td>65.800000</td>\n",
       "      <td>0.346000</td>\n",
       "      <td>289.000000</td>\n",
       "      <td>440.000000</td>\n",
       "      <td>1.038980</td>\n",
       "      <td>3.820000</td>\n",
       "      <td>1.060000</td>\n",
       "      <td>14.200000</td>\n",
       "      <td>9.000000</td>\n",
       "    </tr>\n",
       "  </tbody>\n",
       "</table>\n",
       "</div>"
      ],
      "text/plain": [
       "       fixed acidity  volatile acidity  citric acid  residual sugar  \\\n",
       "count    4163.000000       4163.000000  4163.000000     4163.000000   \n",
       "mean        6.855261          0.278129     0.334396        6.453543   \n",
       "std         0.847440          0.101028     0.120258        5.111890   \n",
       "min         3.800000          0.080000     0.000000        0.600000   \n",
       "25%         6.300000          0.210000     0.270000        1.700000   \n",
       "50%         6.800000          0.260000     0.320000        5.300000   \n",
       "75%         7.300000          0.320000     0.390000       10.000000   \n",
       "max        14.200000          1.100000     1.660000       65.800000   \n",
       "\n",
       "         chlorides  free sulfur dioxide  total sulfur dioxide      density  \\\n",
       "count  4163.000000          4163.000000           4163.000000  4163.000000   \n",
       "mean      0.045880            35.482705            138.786332     0.994053   \n",
       "std       0.022191            17.151113             42.442138     0.003014   \n",
       "min       0.009000             3.000000              9.000000     0.987110   \n",
       "25%       0.036000            23.000000            109.000000     0.991755   \n",
       "50%       0.043000            34.000000            134.000000     0.993800   \n",
       "75%       0.050000            46.000000            168.000000     0.996200   \n",
       "max       0.346000           289.000000            440.000000     1.038980   \n",
       "\n",
       "                pH    sulphates      alcohol      quality  \n",
       "count  4163.000000  4163.000000  4163.000000  4163.000000  \n",
       "mean      3.188751     0.490110    10.512357     5.877732  \n",
       "std       0.150602     0.113939     1.234535     0.885676  \n",
       "min       2.720000     0.230000     8.000000     3.000000  \n",
       "25%       3.090000     0.410000     9.500000     5.000000  \n",
       "50%       3.180000     0.470000    10.400000     6.000000  \n",
       "75%       3.280000     0.550000    11.400000     6.000000  \n",
       "max       3.820000     1.060000    14.200000     9.000000  "
      ]
     },
     "execution_count": 13,
     "metadata": {},
     "output_type": "execute_result"
    }
   ],
   "source": [
    "wine_dataframe.describe()"
   ]
  },
  {
   "cell_type": "code",
   "execution_count": 14,
   "metadata": {},
   "outputs": [
    {
     "data": {
      "text/html": [
       "<div>\n",
       "<style scoped>\n",
       "    .dataframe tbody tr th:only-of-type {\n",
       "        vertical-align: middle;\n",
       "    }\n",
       "\n",
       "    .dataframe tbody tr th {\n",
       "        vertical-align: top;\n",
       "    }\n",
       "\n",
       "    .dataframe thead th {\n",
       "        text-align: right;\n",
       "    }\n",
       "</style>\n",
       "<table border=\"1\" class=\"dataframe\">\n",
       "  <thead>\n",
       "    <tr style=\"text-align: right;\">\n",
       "      <th></th>\n",
       "      <th>fixed acidity</th>\n",
       "      <th>volatile acidity</th>\n",
       "      <th>citric acid</th>\n",
       "      <th>residual sugar</th>\n",
       "      <th>chlorides</th>\n",
       "      <th>free sulfur dioxide</th>\n",
       "      <th>total sulfur dioxide</th>\n",
       "      <th>density</th>\n",
       "      <th>pH</th>\n",
       "      <th>sulphates</th>\n",
       "      <th>alcohol</th>\n",
       "      <th>quality</th>\n",
       "    </tr>\n",
       "  </thead>\n",
       "  <tbody>\n",
       "    <tr>\n",
       "      <th>count</th>\n",
       "      <td>4158.000000</td>\n",
       "      <td>4158.000000</td>\n",
       "      <td>4158.000000</td>\n",
       "      <td>4158.000000</td>\n",
       "      <td>4158.000000</td>\n",
       "      <td>4158.000000</td>\n",
       "      <td>4158.000000</td>\n",
       "      <td>4158.000000</td>\n",
       "      <td>4158.000000</td>\n",
       "      <td>4158.000000</td>\n",
       "      <td>4158.000000</td>\n",
       "      <td>4158.000000</td>\n",
       "    </tr>\n",
       "    <tr>\n",
       "      <th>mean</th>\n",
       "      <td>6.853018</td>\n",
       "      <td>0.277882</td>\n",
       "      <td>0.333973</td>\n",
       "      <td>6.440212</td>\n",
       "      <td>0.045748</td>\n",
       "      <td>35.482564</td>\n",
       "      <td>138.749038</td>\n",
       "      <td>0.994041</td>\n",
       "      <td>3.188730</td>\n",
       "      <td>0.490017</td>\n",
       "      <td>10.512059</td>\n",
       "      <td>5.878066</td>\n",
       "    </tr>\n",
       "    <tr>\n",
       "      <th>std</th>\n",
       "      <td>0.839840</td>\n",
       "      <td>0.100376</td>\n",
       "      <td>0.118461</td>\n",
       "      <td>5.029543</td>\n",
       "      <td>0.021339</td>\n",
       "      <td>17.141864</td>\n",
       "      <td>42.434335</td>\n",
       "      <td>0.002933</td>\n",
       "      <td>0.150598</td>\n",
       "      <td>0.113951</td>\n",
       "      <td>1.234580</td>\n",
       "      <td>0.885993</td>\n",
       "    </tr>\n",
       "    <tr>\n",
       "      <th>min</th>\n",
       "      <td>3.800000</td>\n",
       "      <td>0.080000</td>\n",
       "      <td>0.000000</td>\n",
       "      <td>0.600000</td>\n",
       "      <td>0.009000</td>\n",
       "      <td>3.000000</td>\n",
       "      <td>9.000000</td>\n",
       "      <td>0.987110</td>\n",
       "      <td>2.720000</td>\n",
       "      <td>0.230000</td>\n",
       "      <td>8.000000</td>\n",
       "      <td>3.000000</td>\n",
       "    </tr>\n",
       "    <tr>\n",
       "      <th>25%</th>\n",
       "      <td>6.300000</td>\n",
       "      <td>0.210000</td>\n",
       "      <td>0.270000</td>\n",
       "      <td>1.700000</td>\n",
       "      <td>0.036000</td>\n",
       "      <td>23.000000</td>\n",
       "      <td>109.000000</td>\n",
       "      <td>0.991753</td>\n",
       "      <td>3.090000</td>\n",
       "      <td>0.410000</td>\n",
       "      <td>9.500000</td>\n",
       "      <td>5.000000</td>\n",
       "    </tr>\n",
       "    <tr>\n",
       "      <th>50%</th>\n",
       "      <td>6.800000</td>\n",
       "      <td>0.260000</td>\n",
       "      <td>0.320000</td>\n",
       "      <td>5.300000</td>\n",
       "      <td>0.043000</td>\n",
       "      <td>34.000000</td>\n",
       "      <td>134.000000</td>\n",
       "      <td>0.993800</td>\n",
       "      <td>3.180000</td>\n",
       "      <td>0.470000</td>\n",
       "      <td>10.400000</td>\n",
       "      <td>6.000000</td>\n",
       "    </tr>\n",
       "    <tr>\n",
       "      <th>75%</th>\n",
       "      <td>7.300000</td>\n",
       "      <td>0.320000</td>\n",
       "      <td>0.390000</td>\n",
       "      <td>10.000000</td>\n",
       "      <td>0.050000</td>\n",
       "      <td>46.000000</td>\n",
       "      <td>168.000000</td>\n",
       "      <td>0.996200</td>\n",
       "      <td>3.280000</td>\n",
       "      <td>0.550000</td>\n",
       "      <td>11.400000</td>\n",
       "      <td>6.000000</td>\n",
       "    </tr>\n",
       "    <tr>\n",
       "      <th>max</th>\n",
       "      <td>11.800000</td>\n",
       "      <td>1.100000</td>\n",
       "      <td>1.000000</td>\n",
       "      <td>31.600000</td>\n",
       "      <td>0.290000</td>\n",
       "      <td>289.000000</td>\n",
       "      <td>440.000000</td>\n",
       "      <td>1.010300</td>\n",
       "      <td>3.820000</td>\n",
       "      <td>1.060000</td>\n",
       "      <td>14.200000</td>\n",
       "      <td>9.000000</td>\n",
       "    </tr>\n",
       "  </tbody>\n",
       "</table>\n",
       "</div>"
      ],
      "text/plain": [
       "       fixed acidity  volatile acidity  citric acid  residual sugar  \\\n",
       "count    4158.000000       4158.000000  4158.000000     4158.000000   \n",
       "mean        6.853018          0.277882     0.333973        6.440212   \n",
       "std         0.839840          0.100376     0.118461        5.029543   \n",
       "min         3.800000          0.080000     0.000000        0.600000   \n",
       "25%         6.300000          0.210000     0.270000        1.700000   \n",
       "50%         6.800000          0.260000     0.320000        5.300000   \n",
       "75%         7.300000          0.320000     0.390000       10.000000   \n",
       "max        11.800000          1.100000     1.000000       31.600000   \n",
       "\n",
       "         chlorides  free sulfur dioxide  total sulfur dioxide      density  \\\n",
       "count  4158.000000          4158.000000           4158.000000  4158.000000   \n",
       "mean      0.045748            35.482564            138.749038     0.994041   \n",
       "std       0.021339            17.141864             42.434335     0.002933   \n",
       "min       0.009000             3.000000              9.000000     0.987110   \n",
       "25%       0.036000            23.000000            109.000000     0.991753   \n",
       "50%       0.043000            34.000000            134.000000     0.993800   \n",
       "75%       0.050000            46.000000            168.000000     0.996200   \n",
       "max       0.290000           289.000000            440.000000     1.010300   \n",
       "\n",
       "                pH    sulphates      alcohol      quality  \n",
       "count  4158.000000  4158.000000  4158.000000  4158.000000  \n",
       "mean      3.188730     0.490017    10.512059     5.878066  \n",
       "std       0.150598     0.113951     1.234580     0.885993  \n",
       "min       2.720000     0.230000     8.000000     3.000000  \n",
       "25%       3.090000     0.410000     9.500000     5.000000  \n",
       "50%       3.180000     0.470000    10.400000     6.000000  \n",
       "75%       3.280000     0.550000    11.400000     6.000000  \n",
       "max       3.820000     1.060000    14.200000     9.000000  "
      ]
     },
     "execution_count": 14,
     "metadata": {},
     "output_type": "execute_result"
    }
   ],
   "source": [
    "wine_dataframe2.describe()"
   ]
  },
  {
   "cell_type": "code",
   "execution_count": 15,
   "metadata": {},
   "outputs": [
    {
     "data": {
      "text/plain": [
       "6.0    1865\n",
       "5.0    1236\n",
       "7.0     748\n",
       "8.0     149\n",
       "4.0     139\n",
       "3.0      17\n",
       "9.0       4\n",
       "Name: quality, dtype: int64"
      ]
     },
     "execution_count": 15,
     "metadata": {},
     "output_type": "execute_result"
    }
   ],
   "source": [
    "wine_dataframe2.quality.value_counts()"
   ]
  },
  {
   "cell_type": "markdown",
   "metadata": {},
   "source": [
    "__Performing undersampling of grade 6 samples__"
   ]
  },
  {
   "cell_type": "code",
   "execution_count": 16,
   "metadata": {},
   "outputs": [
    {
     "data": {
      "text/plain": [
       "6.0    1237\n",
       "5.0    1236\n",
       "7.0     748\n",
       "8.0     149\n",
       "4.0     139\n",
       "3.0      17\n",
       "9.0       4\n",
       "Name: quality, dtype: int64"
      ]
     },
     "execution_count": 16,
     "metadata": {},
     "output_type": "execute_result"
    }
   ],
   "source": [
    "d1 = wine_dataframe2[wine_dataframe2.quality == 6].sample(1237, random_state=10) \n",
    "d2 = wine_dataframe2[wine_dataframe2.quality != 6]\n",
    "d1 = pd.concat([d2, d1]);\n",
    "d1.reset_index(drop=True, inplace=True);\n",
    "wine_dataframe3 = d1;\n",
    "wine_dataframe3.quality.value_counts()"
   ]
  },
  {
   "cell_type": "markdown",
   "metadata": {},
   "source": [
    "__Performing oversampling on all data__"
   ]
  },
  {
   "cell_type": "code",
   "execution_count": 17,
   "metadata": {},
   "outputs": [
    {
     "data": {
      "text/plain": [
       "7.0    1237\n",
       "8.0    1237\n",
       "5.0    1237\n",
       "4.0    1237\n",
       "3.0    1237\n",
       "9.0    1237\n",
       "6.0    1237\n",
       "Name: quality, dtype: int64"
      ]
     },
     "execution_count": 17,
     "metadata": {},
     "output_type": "execute_result"
    }
   ],
   "source": [
    "from imblearn.over_sampling import SMOTE, RandomOverSampler\n",
    "# Oversampling with randomoversampler\n",
    "smote = SMOTE(random_state=10, k_neighbors = 3)\n",
    "x_wine_dataframe, y_wine_dataframe = smote.fit_resample(wine_dataframe3.drop('quality', axis=True), wine_dataframe3.quality)\n",
    "x_wine_dataframe['quality'] = y_wine_dataframe\n",
    "wine_dataframe4 = x_wine_dataframe\n",
    "wine_dataframe4.quality.value_counts()"
   ]
  },
  {
   "cell_type": "code",
   "execution_count": 18,
   "metadata": {},
   "outputs": [
    {
     "data": {
      "text/plain": [
       "7.0    1237\n",
       "8.0    1237\n",
       "5.0    1237\n",
       "4.0    1237\n",
       "3.0    1237\n",
       "9.0    1237\n",
       "6.0    1237\n",
       "Name: quality, dtype: int64"
      ]
     },
     "execution_count": 18,
     "metadata": {},
     "output_type": "execute_result"
    }
   ],
   "source": [
    "# Oversampling with randomoversampler\n",
    "rand = RandomOverSampler(random_state=10)\n",
    "x_wine_dataframe, y_wine_dataframe = rand.fit_resample(wine_dataframe3.drop('quality', axis=True), wine_dataframe3.quality)\n",
    "x_wine_dataframe['quality'] = y_wine_dataframe\n",
    "wine_dataframe5 = x_wine_dataframe\n",
    "wine_dataframe5.quality.value_counts()"
   ]
  },
  {
   "cell_type": "code",
   "execution_count": 19,
   "metadata": {},
   "outputs": [
    {
     "data": {
      "image/png": "[encoded data removed]",
      "text/plain": [
       "<Figure size 936x1080 with 12 Axes>"
      ]
     },
     "metadata": {
      "needs_background": "light"
     },
     "output_type": "display_data"
    }
   ],
   "source": [
    "# plotting the columns against the quality for SMOTE ReSampled data\n",
    "fig, ((axes1, axes2, axes3), (axes4, axes5, axes6), (axes7, axes8, axes9), (axes10, axes11, axes12)) = plt.subplots(ncols=3, nrows=4, figsize=(13, 15))\n",
    "fig.suptitle(\"Features against qualities\", size=20)\n",
    "w = wine_dataframe.copy()\n",
    "wine_dataframe = wine_dataframe4\n",
    "scatter = axes1.scatter([wine_dataframe.quality], wine_dataframe['quality'], c=wine_dataframe.quality);\n",
    "#axes1.set(ylabel='fixed acidity', xlabel=\"quality\");\n",
    "axes1.legend(*scatter.legend_elements(), title='Quality');\n",
    "\n",
    "axes2.scatter(wine_dataframe.quality, wine_dataframe['fixed acidity'], c=wine_dataframe.quality);\n",
    "axes2.set(ylabel='fixed acidity', xlabel=\"quality\");\n",
    "\n",
    "axes3.scatter(wine_dataframe.quality, wine_dataframe['volatile acidity'], c=wine_dataframe.quality);\n",
    "axes3.set(ylabel='volatile acidity', xlabel=\"quality\");\n",
    "\n",
    "axes4.scatter(wine_dataframe.quality, wine_dataframe['citric acid'], c=wine_dataframe.quality);\n",
    "axes4.set(ylabel='citric acid', xlabel=\"quality\");\n",
    "\n",
    "axes5.scatter(wine_dataframe.quality, wine_dataframe['residual sugar'], c=wine_dataframe.quality);\n",
    "axes5.set(ylabel='residual sugar', xlabel=\"quality\");\n",
    "\n",
    "axes6.scatter(wine_dataframe.quality, wine_dataframe['chlorides'], c=wine_dataframe.quality);\n",
    "axes6.set(ylabel='chlorides', xlabel=\"quality\");\n",
    "\n",
    "axes7.scatter(wine_dataframe.quality, wine_dataframe['free sulfur dioxide'], c=wine_dataframe.quality);\n",
    "axes7.set(ylabel='free sulfur dioxide', xlabel=\"quality\");\n",
    "\n",
    "axes8.scatter(wine_dataframe.quality, wine_dataframe['total sulfur dioxide'], c=wine_dataframe.quality);\n",
    "axes8.set(ylabel='total sulfur dioxide', xlabel=\"quality\");\n",
    "\n",
    "axes9.scatter(wine_dataframe.quality, wine_dataframe['density'], c=wine_dataframe.quality);\n",
    "axes9.set(ylabel='density', xlabel=\"quality\");\n",
    "\n",
    "axes10.scatter(wine_dataframe.quality, wine_dataframe['pH'], c=wine_dataframe.quality);\n",
    "axes10.set(ylabel='pH', xlabel=\"quality\");\n",
    "\n",
    "axes11.scatter(wine_dataframe.quality, wine_dataframe['sulphates'], c=wine_dataframe.quality);\n",
    "axes11.set(ylabel='sulphates', xlabel=\"quality\");\n",
    "\n",
    "axes12.scatter(wine_dataframe.quality, wine_dataframe['alcohol'], c=wine_dataframe.quality);\n",
    "axes12.set(ylabel='alcohol', xlabel=\"quality\");\n",
    "wine_dataframe = w.copy()"
   ]
  },
  {
   "cell_type": "markdown",
   "metadata": {},
   "source": [
    "wine_dataset (orignal dataset)\n",
    "\n",
    "wine_dataset2 (outliers removed)\n",
    "\n",
    "wine_dataset3 (grade 6 undersampled)\n",
    "\n",
    "wine_dataset4 (wine_dataset3 oversampled with SMOTE)\n",
    "\n",
    "wine_dataset5 (wine_dataset3 oversampled with RandomOverSampler)"
   ]
  },
  {
   "cell_type": "markdown",
   "metadata": {},
   "source": [
    "## Model based exploratory analysis"
   ]
  },
  {
   "cell_type": "code",
   "execution_count": 20,
   "metadata": {},
   "outputs": [],
   "source": [
    "from sklearn.model_selection import train_test_split, cross_validate, RandomizedSearchCV, GridSearchCV\n",
    "from sklearn.metrics import classification_report\n",
    "from sklearn.ensemble import RandomForestClassifier, RandomForestRegressor\n",
    "from sklearn.svm import LinearSVC, SVC, LinearSVR, SVR\n",
    "from sklearn.neighbors import KNeighborsClassifier, KNeighborsRegressor\n",
    "from sklearn.linear_model import LogisticRegression"
   ]
  },
  {
   "cell_type": "code",
   "execution_count": 25,
   "metadata": {},
   "outputs": [],
   "source": [
    "def fit_test_models(cmodels:dict, rmodels:dict, dataframes:list):\n",
    "    '''\n",
    "    test a dataframe against a set of models.\n",
    "    '''\n",
    "    # for name, model in cmodels.items():\n",
    "    #     for i, dataframe in enumerate(dataframes):\n",
    "    #         x_train, x_test, y_train, y_test = train_test_split(dataframe.drop('quality', axis=1), dataframe.quality, test_size=0.15,random_state=10);\n",
    "    #         score = model.fit(x_train, y_train);\n",
    "    #         model = model.fit(x_train, y_train);\n",
    "    #         y_preds = model.predict(x_test);\n",
    "    #         print(\"Model: \", name, \" dataset: \", i);\n",
    "    #         print(classification_report(y_test, y_preds));\n",
    "    for name, model in rmodels.items():\n",
    "        for i, dataframe in enumerate(dataframes):\n",
    "            x_train, x_test, y_train, y_test = train_test_split(dataframe.drop('quality', axis=1), dataframe.quality, test_size=0.15,random_state=10);\n",
    "            score = model.fit(x_train, y_train);\n",
    "            model = model.fit(x_train, y_train);\n",
    "            y_preds = model.predict(x_test);\n",
    "            y_preds = y_preds.round()\n",
    "            print(\"Model: \", name, \" dataset: \", i);\n",
    "            print(classification_report(y_test, y_preds));"
   ]
  },
  {
   "cell_type": "code",
   "execution_count": 28,
   "metadata": {},
   "outputs": [],
   "source": [
    "# fit_test_models({\"Random forest classifier\":RandomForestClassifier(random_state=10),\n",
    "# \"Linear SVC\": LinearSVC(random_state=10),\n",
    "# \"Kneighbors classifier\": KNeighborsClassifier(),\n",
    "# \"Logistic regrssor\": LogisticRegression(random_state=10)},\n",
    "# {\"Random forest regressor\": RandomForestRegressor(random_state=10),\n",
    "# \"Linear SVR\": LinearSVR(random_state=10),\n",
    "# \"Kneighbors Regressor\": KNeighborsRegressor(),}, [wine_dataframe, wine_dataframe2, wine_dataframe3, wine_dataframe4, wine_dataframe5])"
   ]
  },
  {
   "cell_type": "code",
   "execution_count": 38,
   "metadata": {},
   "outputs": [
    {
     "name": "stdout",
     "output_type": "stream",
     "text": [
      "              precision    recall  f1-score   support\n",
      "\n",
      "         3.0       0.97      1.00      0.98       188\n",
      "         4.0       0.87      0.96      0.91       189\n",
      "         5.0       0.71      0.66      0.68       207\n",
      "         6.0       0.57      0.52      0.54       174\n",
      "         7.0       0.79      0.81      0.80       182\n",
      "         8.0       0.94      0.94      0.94       185\n",
      "         9.0       0.99      1.00      1.00       174\n",
      "\n",
      "    accuracy                           0.84      1299\n",
      "   macro avg       0.83      0.84      0.84      1299\n",
      "weighted avg       0.83      0.84      0.84      1299\n",
      "\n"
     ]
    }
   ],
   "source": [
    "model = RandomForestClassifier(random_state=10)\n",
    "x_train, x_test, y_train, y_test = train_test_split(wine_dataframe4.drop('quality', axis=1), wine_dataframe4.quality, test_size=0.15,random_state=10);\n",
    "score = model.fit(x_train, y_train);\n",
    "y_preds = model.predict(x_test);\n",
    "print(classification_report(y_test, y_preds));\n"
   ]
  },
  {
   "cell_type": "code",
   "execution_count": 39,
   "metadata": {},
   "outputs": [
    {
     "name": "stdout",
     "output_type": "stream",
     "text": [
      "              precision    recall  f1-score   support\n",
      "\n",
      "         3.0       0.00      0.00      0.00         3\n",
      "         4.0       0.29      0.67      0.40        24\n",
      "         5.0       0.64      0.64      0.64       219\n",
      "         6.0       0.68      0.52      0.59       330\n",
      "         7.0       0.52      0.68      0.59       132\n",
      "         8.0       0.37      0.42      0.39        26\n",
      "         9.0       0.00      0.00      0.00         1\n",
      "\n",
      "    accuracy                           0.58       735\n",
      "   macro avg       0.36      0.42      0.37       735\n",
      "weighted avg       0.61      0.58      0.59       735\n",
      "\n"
     ]
    },
    {
     "name": "stderr",
     "output_type": "stream",
     "text": [
      "C:\\Users\\Ephraim\\AppData\\Local\\Programs\\Python\\Python39\\lib\\site-packages\\sklearn\\base.py:450: UserWarning: X does not have valid feature names, but RandomForestClassifier was fitted with feature names\n",
      "  warnings.warn(\n",
      "C:\\Users\\Ephraim\\AppData\\Local\\Programs\\Python\\Python39\\lib\\site-packages\\sklearn\\metrics\\_classification.py:1318: UndefinedMetricWarning: Precision and F-score are ill-defined and being set to 0.0 in labels with no predicted samples. Use `zero_division` parameter to control this behavior.\n",
      "  _warn_prf(average, modifier, msg_start, len(result))\n",
      "C:\\Users\\Ephraim\\AppData\\Local\\Programs\\Python\\Python39\\lib\\site-packages\\sklearn\\metrics\\_classification.py:1318: UndefinedMetricWarning: Precision and F-score are ill-defined and being set to 0.0 in labels with no predicted samples. Use `zero_division` parameter to control this behavior.\n",
      "  _warn_prf(average, modifier, msg_start, len(result))\n",
      "C:\\Users\\Ephraim\\AppData\\Local\\Programs\\Python\\Python39\\lib\\site-packages\\sklearn\\metrics\\_classification.py:1318: UndefinedMetricWarning: Precision and F-score are ill-defined and being set to 0.0 in labels with no predicted samples. Use `zero_division` parameter to control this behavior.\n",
      "  _warn_prf(average, modifier, msg_start, len(result))\n"
     ]
    }
   ],
   "source": [
    "y_preds = model.predict(pd.read_csv(\"../data/wine-testing-data.csv\").values)\n",
    "print(classification_report(pd.read_csv(\"../data/wine-quality.csv\").values, y_preds));"
   ]
  },
  {
   "cell_type": "code",
   "execution_count": 44,
   "metadata": {},
   "outputs": [
    {
     "data": {
      "text/plain": [
       "<AxesSubplot:>"
      ]
     },
     "execution_count": 44,
     "metadata": {},
     "output_type": "execute_result"
    },
    {
     "data": {
      "image/png": "[encoded data removed]",
      "text/plain": [
       "<Figure size 432x288 with 1 Axes>"
      ]
     },
     "metadata": {
      "needs_background": "light"
     },
     "output_type": "display_data"
    }
   ],
   "source": [
    "f = pd.Series(model.feature_importances_, index=model.feature_names_in_)\n",
    "fig, ax = plt.subplots()\n",
    "f.plot.bar(ax=ax )"
   ]
  },
  {
   "cell_type": "code",
   "execution_count": 29,
   "metadata": {},
   "outputs": [
    {
     "data": {
      "text/html": [
       "<div>\n",
       "<style scoped>\n",
       "    .dataframe tbody tr th:only-of-type {\n",
       "        vertical-align: middle;\n",
       "    }\n",
       "\n",
       "    .dataframe tbody tr th {\n",
       "        vertical-align: top;\n",
       "    }\n",
       "\n",
       "    .dataframe thead th {\n",
       "        text-align: right;\n",
       "    }\n",
       "</style>\n",
       "<table border=\"1\" class=\"dataframe\">\n",
       "  <thead>\n",
       "    <tr style=\"text-align: right;\">\n",
       "      <th></th>\n",
       "      <th>fixed acidity</th>\n",
       "      <th>volatile acidity</th>\n",
       "      <th>citric acid</th>\n",
       "      <th>residual sugar</th>\n",
       "      <th>chlorides</th>\n",
       "      <th>free sulfur dioxide</th>\n",
       "      <th>total sulfur dioxide</th>\n",
       "      <th>density</th>\n",
       "      <th>pH</th>\n",
       "      <th>sulphates</th>\n",
       "      <th>alcohol</th>\n",
       "      <th>quality</th>\n",
       "    </tr>\n",
       "  </thead>\n",
       "  <tbody>\n",
       "    <tr>\n",
       "      <th>0</th>\n",
       "      <td>7.5</td>\n",
       "      <td>0.14</td>\n",
       "      <td>0.34</td>\n",
       "      <td>1.3</td>\n",
       "      <td>0.055</td>\n",
       "      <td>50.0</td>\n",
       "      <td>153.0</td>\n",
       "      <td>0.99450</td>\n",
       "      <td>3.29</td>\n",
       "      <td>0.80</td>\n",
       "      <td>9.6</td>\n",
       "      <td>6.0</td>\n",
       "    </tr>\n",
       "    <tr>\n",
       "      <th>1</th>\n",
       "      <td>6.8</td>\n",
       "      <td>0.32</td>\n",
       "      <td>0.32</td>\n",
       "      <td>8.7</td>\n",
       "      <td>0.029</td>\n",
       "      <td>31.0</td>\n",
       "      <td>105.0</td>\n",
       "      <td>0.99146</td>\n",
       "      <td>3.00</td>\n",
       "      <td>0.34</td>\n",
       "      <td>12.3</td>\n",
       "      <td>7.0</td>\n",
       "    </tr>\n",
       "    <tr>\n",
       "      <th>2</th>\n",
       "      <td>7.5</td>\n",
       "      <td>0.28</td>\n",
       "      <td>0.34</td>\n",
       "      <td>4.2</td>\n",
       "      <td>0.028</td>\n",
       "      <td>36.0</td>\n",
       "      <td>116.0</td>\n",
       "      <td>0.99100</td>\n",
       "      <td>2.99</td>\n",
       "      <td>0.41</td>\n",
       "      <td>12.3</td>\n",
       "      <td>8.0</td>\n",
       "    </tr>\n",
       "    <tr>\n",
       "      <th>3</th>\n",
       "      <td>6.5</td>\n",
       "      <td>0.24</td>\n",
       "      <td>0.32</td>\n",
       "      <td>7.6</td>\n",
       "      <td>0.038</td>\n",
       "      <td>48.0</td>\n",
       "      <td>203.0</td>\n",
       "      <td>0.99580</td>\n",
       "      <td>3.45</td>\n",
       "      <td>0.54</td>\n",
       "      <td>9.7</td>\n",
       "      <td>7.0</td>\n",
       "    </tr>\n",
       "    <tr>\n",
       "      <th>4</th>\n",
       "      <td>6.9</td>\n",
       "      <td>0.21</td>\n",
       "      <td>0.62</td>\n",
       "      <td>6.3</td>\n",
       "      <td>0.042</td>\n",
       "      <td>7.0</td>\n",
       "      <td>109.0</td>\n",
       "      <td>0.99358</td>\n",
       "      <td>2.96</td>\n",
       "      <td>0.59</td>\n",
       "      <td>10.2</td>\n",
       "      <td>6.0</td>\n",
       "    </tr>\n",
       "  </tbody>\n",
       "</table>\n",
       "</div>"
      ],
      "text/plain": [
       "   fixed acidity  volatile acidity  citric acid  residual sugar  chlorides  \\\n",
       "0            7.5              0.14         0.34             1.3      0.055   \n",
       "1            6.8              0.32         0.32             8.7      0.029   \n",
       "2            7.5              0.28         0.34             4.2      0.028   \n",
       "3            6.5              0.24         0.32             7.6      0.038   \n",
       "4            6.9              0.21         0.62             6.3      0.042   \n",
       "\n",
       "   free sulfur dioxide  total sulfur dioxide  density    pH  sulphates  \\\n",
       "0                 50.0                 153.0  0.99450  3.29       0.80   \n",
       "1                 31.0                 105.0  0.99146  3.00       0.34   \n",
       "2                 36.0                 116.0  0.99100  2.99       0.41   \n",
       "3                 48.0                 203.0  0.99580  3.45       0.54   \n",
       "4                  7.0                 109.0  0.99358  2.96       0.59   \n",
       "\n",
       "   alcohol  quality  \n",
       "0      9.6      6.0  \n",
       "1     12.3      7.0  \n",
       "2     12.3      8.0  \n",
       "3      9.7      7.0  \n",
       "4     10.2      6.0  "
      ]
     },
     "execution_count": 29,
     "metadata": {},
     "output_type": "execute_result"
    }
   ],
   "source": [
    "wine_dataframe.head()"
   ]
  },
  {
   "cell_type": "code",
   "execution_count": 49,
   "metadata": {},
   "outputs": [
    {
     "data": {
      "text/plain": [
       "6.0    1865\n",
       "5.0    1236\n",
       "7.0     748\n",
       "8.0     149\n",
       "4.0     139\n",
       "3.0      17\n",
       "9.0       4\n",
       "Name: quality, dtype: int64"
      ]
     },
     "execution_count": 49,
     "metadata": {},
     "output_type": "execute_result"
    }
   ],
   "source": [
    "wine_dataframe2.quality.value_counts()"
   ]
  },
  {
   "cell_type": "code",
   "execution_count": 602,
   "metadata": {},
   "outputs": [],
   "source": [
    "from sklearn.preprocessing import MinMaxScaler\n",
    "from sklearn.metrics import roc_auc_score"
   ]
  },
  {
   "cell_type": "code",
   "execution_count": 99,
   "metadata": {},
   "outputs": [
    {
     "data": {
      "text/plain": [
       "6.0    1865\n",
       "5.0    1236\n",
       "7.0     748\n",
       "Name: quality, dtype: int64"
      ]
     },
     "execution_count": 99,
     "metadata": {},
     "output_type": "execute_result"
    }
   ],
   "source": [
    "def preprocess1(dataframe):\n",
    "    return dataframe[(dataframe.quality == 5) | (dataframe.quality ==6) | (dataframe.quality ==7)]\n",
    "\n",
    "wine_dataframe21 = preprocess1(wine_dataframe2)\n",
    "wine_dataframe21.quality.value_counts()\n"
   ]
  },
  {
   "cell_type": "code",
   "execution_count": 100,
   "metadata": {},
   "outputs": [
    {
     "data": {
      "text/html": [
       "<div>\n",
       "<style scoped>\n",
       "    .dataframe tbody tr th:only-of-type {\n",
       "        vertical-align: middle;\n",
       "    }\n",
       "\n",
       "    .dataframe tbody tr th {\n",
       "        vertical-align: top;\n",
       "    }\n",
       "\n",
       "    .dataframe thead th {\n",
       "        text-align: right;\n",
       "    }\n",
       "</style>\n",
       "<table border=\"1\" class=\"dataframe\">\n",
       "  <thead>\n",
       "    <tr style=\"text-align: right;\">\n",
       "      <th></th>\n",
       "      <th>fixed acidity</th>\n",
       "      <th>volatile acidity</th>\n",
       "      <th>citric acid</th>\n",
       "      <th>residual sugar</th>\n",
       "      <th>chlorides</th>\n",
       "      <th>free sulfur dioxide</th>\n",
       "      <th>total sulfur dioxide</th>\n",
       "      <th>density</th>\n",
       "      <th>pH</th>\n",
       "      <th>sulphates</th>\n",
       "      <th>alcohol</th>\n",
       "      <th>quality</th>\n",
       "    </tr>\n",
       "  </thead>\n",
       "  <tbody>\n",
       "    <tr>\n",
       "      <th>0</th>\n",
       "      <td>7.5</td>\n",
       "      <td>0.14</td>\n",
       "      <td>0.34</td>\n",
       "      <td>1.3</td>\n",
       "      <td>0.055</td>\n",
       "      <td>50.0</td>\n",
       "      <td>153.0</td>\n",
       "      <td>0.99450</td>\n",
       "      <td>3.29</td>\n",
       "      <td>0.80</td>\n",
       "      <td>9.6</td>\n",
       "      <td>6.0</td>\n",
       "    </tr>\n",
       "    <tr>\n",
       "      <th>1</th>\n",
       "      <td>6.8</td>\n",
       "      <td>0.32</td>\n",
       "      <td>0.32</td>\n",
       "      <td>8.7</td>\n",
       "      <td>0.029</td>\n",
       "      <td>31.0</td>\n",
       "      <td>105.0</td>\n",
       "      <td>0.99146</td>\n",
       "      <td>3.00</td>\n",
       "      <td>0.34</td>\n",
       "      <td>12.3</td>\n",
       "      <td>7.0</td>\n",
       "    </tr>\n",
       "    <tr>\n",
       "      <th>3</th>\n",
       "      <td>6.5</td>\n",
       "      <td>0.24</td>\n",
       "      <td>0.32</td>\n",
       "      <td>7.6</td>\n",
       "      <td>0.038</td>\n",
       "      <td>48.0</td>\n",
       "      <td>203.0</td>\n",
       "      <td>0.99580</td>\n",
       "      <td>3.45</td>\n",
       "      <td>0.54</td>\n",
       "      <td>9.7</td>\n",
       "      <td>7.0</td>\n",
       "    </tr>\n",
       "    <tr>\n",
       "      <th>4</th>\n",
       "      <td>6.9</td>\n",
       "      <td>0.21</td>\n",
       "      <td>0.62</td>\n",
       "      <td>6.3</td>\n",
       "      <td>0.042</td>\n",
       "      <td>7.0</td>\n",
       "      <td>109.0</td>\n",
       "      <td>0.99358</td>\n",
       "      <td>2.96</td>\n",
       "      <td>0.59</td>\n",
       "      <td>10.2</td>\n",
       "      <td>6.0</td>\n",
       "    </tr>\n",
       "    <tr>\n",
       "      <th>5</th>\n",
       "      <td>6.4</td>\n",
       "      <td>0.16</td>\n",
       "      <td>0.42</td>\n",
       "      <td>1.0</td>\n",
       "      <td>0.036</td>\n",
       "      <td>29.0</td>\n",
       "      <td>113.0</td>\n",
       "      <td>0.99080</td>\n",
       "      <td>3.18</td>\n",
       "      <td>0.52</td>\n",
       "      <td>11.0</td>\n",
       "      <td>6.0</td>\n",
       "    </tr>\n",
       "  </tbody>\n",
       "</table>\n",
       "</div>"
      ],
      "text/plain": [
       "   fixed acidity  volatile acidity  citric acid  residual sugar  chlorides  \\\n",
       "0            7.5              0.14         0.34             1.3      0.055   \n",
       "1            6.8              0.32         0.32             8.7      0.029   \n",
       "3            6.5              0.24         0.32             7.6      0.038   \n",
       "4            6.9              0.21         0.62             6.3      0.042   \n",
       "5            6.4              0.16         0.42             1.0      0.036   \n",
       "\n",
       "   free sulfur dioxide  total sulfur dioxide  density    pH  sulphates  \\\n",
       "0                 50.0                 153.0  0.99450  3.29       0.80   \n",
       "1                 31.0                 105.0  0.99146  3.00       0.34   \n",
       "3                 48.0                 203.0  0.99580  3.45       0.54   \n",
       "4                  7.0                 109.0  0.99358  2.96       0.59   \n",
       "5                 29.0                 113.0  0.99080  3.18       0.52   \n",
       "\n",
       "   alcohol  quality  \n",
       "0      9.6      6.0  \n",
       "1     12.3      7.0  \n",
       "3      9.7      7.0  \n",
       "4     10.2      6.0  \n",
       "5     11.0      6.0  "
      ]
     },
     "execution_count": 100,
     "metadata": {},
     "output_type": "execute_result"
    }
   ],
   "source": [
    "wine_dataframe21.head()"
   ]
  },
  {
   "cell_type": "code",
   "execution_count": 106,
   "metadata": {},
   "outputs": [
    {
     "name": "stdout",
     "output_type": "stream",
     "text": [
      "              precision    recall  f1-score   support\n",
      "\n",
      "         5.0       0.45      0.05      0.10       188\n",
      "         6.0       0.49      0.96      0.65       283\n",
      "         7.0       0.00      0.00      0.00       107\n",
      "\n",
      "    accuracy                           0.49       578\n",
      "   macro avg       0.31      0.34      0.25       578\n",
      "weighted avg       0.39      0.49      0.35       578\n",
      "\n"
     ]
    },
    {
     "name": "stderr",
     "output_type": "stream",
     "text": [
      "C:\\Users\\Ephraim\\AppData\\Local\\Programs\\Python\\Python39\\lib\\site-packages\\sklearn\\metrics\\_classification.py:1318: UndefinedMetricWarning: Precision and F-score are ill-defined and being set to 0.0 in labels with no predicted samples. Use `zero_division` parameter to control this behavior.\n",
      "  _warn_prf(average, modifier, msg_start, len(result))\n",
      "C:\\Users\\Ephraim\\AppData\\Local\\Programs\\Python\\Python39\\lib\\site-packages\\sklearn\\metrics\\_classification.py:1318: UndefinedMetricWarning: Precision and F-score are ill-defined and being set to 0.0 in labels with no predicted samples. Use `zero_division` parameter to control this behavior.\n",
      "  _warn_prf(average, modifier, msg_start, len(result))\n",
      "C:\\Users\\Ephraim\\AppData\\Local\\Programs\\Python\\Python39\\lib\\site-packages\\sklearn\\metrics\\_classification.py:1318: UndefinedMetricWarning: Precision and F-score are ill-defined and being set to 0.0 in labels with no predicted samples. Use `zero_division` parameter to control this behavior.\n",
      "  _warn_prf(average, modifier, msg_start, len(result))\n"
     ]
    }
   ],
   "source": [
    "model = SVC(random_state=10)\n",
    "x_train, x_test, y_train, y_test = train_test_split(wine_dataframe21.drop('quality', axis=1), wine_dataframe21.quality, test_size=0.15,random_state=10);\n",
    "score = model.fit(x_train, y_train);\n",
    "y_preds = model.predict(x_test);\n",
    "print(classification_report(y_test, y_preds));"
   ]
  },
  {
   "cell_type": "code",
   "execution_count": 107,
   "metadata": {},
   "outputs": [
    {
     "name": "stdout",
     "output_type": "stream",
     "text": [
      "              precision    recall  f1-score   support\n",
      "\n",
      "         5.0       0.43      0.04      0.07       219\n",
      "         6.0       0.48      0.97      0.65       330\n",
      "         7.0       0.00      0.00      0.00       132\n",
      "\n",
      "    accuracy                           0.48       681\n",
      "   macro avg       0.30      0.34      0.24       681\n",
      "weighted avg       0.37      0.48      0.34       681\n",
      "\n"
     ]
    },
    {
     "name": "stderr",
     "output_type": "stream",
     "text": [
      "C:\\Users\\Ephraim\\AppData\\Local\\Programs\\Python\\Python39\\lib\\site-packages\\sklearn\\metrics\\_classification.py:1318: UndefinedMetricWarning: Precision and F-score are ill-defined and being set to 0.0 in labels with no predicted samples. Use `zero_division` parameter to control this behavior.\n",
      "  _warn_prf(average, modifier, msg_start, len(result))\n",
      "C:\\Users\\Ephraim\\AppData\\Local\\Programs\\Python\\Python39\\lib\\site-packages\\sklearn\\metrics\\_classification.py:1318: UndefinedMetricWarning: Precision and F-score are ill-defined and being set to 0.0 in labels with no predicted samples. Use `zero_division` parameter to control this behavior.\n",
      "  _warn_prf(average, modifier, msg_start, len(result))\n",
      "C:\\Users\\Ephraim\\AppData\\Local\\Programs\\Python\\Python39\\lib\\site-packages\\sklearn\\metrics\\_classification.py:1318: UndefinedMetricWarning: Precision and F-score are ill-defined and being set to 0.0 in labels with no predicted samples. Use `zero_division` parameter to control this behavior.\n",
      "  _warn_prf(average, modifier, msg_start, len(result))\n"
     ]
    }
   ],
   "source": [
    "testing_data = pd.concat([pd.read_csv(\"../data/wine-testing-data.csv\"), pd.read_csv(\"../data/wine-quality.csv\")], axis=1)\n",
    "testing_data = preprocess1(testing_data)\n",
    "X = testing_data.drop(\"quality\", axis=1)\n",
    "y = testing_data.quality\n",
    "y_test_preds = model.predict(X)\n",
    "print(classification_report(y, y_test_preds));"
   ]
  },
  {
   "cell_type": "code",
   "execution_count": 613,
   "metadata": {},
   "outputs": [],
   "source": [
    "scaler = MinMaxScaler()\n",
    "def preprocess2(X, test=False):\n",
    "    if test:\n",
    "        return scaler.transform(X)\n",
    "    else:\n",
    "        return scaler.fit_transform(X)"
   ]
  },
  {
   "cell_type": "code",
   "execution_count": 109,
   "metadata": {},
   "outputs": [
    {
     "name": "stdout",
     "output_type": "stream",
     "text": [
      "              precision    recall  f1-score   support\n",
      "\n",
      "         5.0       0.60      0.71      0.65       188\n",
      "         6.0       0.57      0.65      0.61       283\n",
      "         7.0       0.52      0.14      0.22       107\n",
      "\n",
      "    accuracy                           0.58       578\n",
      "   macro avg       0.56      0.50      0.49       578\n",
      "weighted avg       0.57      0.58      0.55       578\n",
      "\n"
     ]
    }
   ],
   "source": [
    "model = SVC(random_state=10)\n",
    "x_train, x_test, y_train, y_test = train_test_split(wine_dataframe21.drop('quality', axis=1), wine_dataframe21.quality, test_size=0.15,random_state=10);\n",
    "x_train = preprocess2(x_train)\n",
    "x_test = preprocess2(x_test)\n",
    "score = model.fit(x_train, y_train);\n",
    "y_preds = model.predict(x_test);\n",
    "print(classification_report(y_test, y_preds));"
   ]
  },
  {
   "cell_type": "code",
   "execution_count": 110,
   "metadata": {},
   "outputs": [
    {
     "name": "stdout",
     "output_type": "stream",
     "text": [
      "              precision    recall  f1-score   support\n",
      "\n",
      "         5.0       0.55      0.70      0.62       219\n",
      "         6.0       0.54      0.61      0.58       330\n",
      "         7.0       0.59      0.13      0.21       132\n",
      "\n",
      "    accuracy                           0.55       681\n",
      "   macro avg       0.56      0.48      0.47       681\n",
      "weighted avg       0.55      0.55      0.52       681\n",
      "\n"
     ]
    }
   ],
   "source": [
    "testing_data = pd.concat([pd.read_csv(\"../data/wine-testing-data.csv\"), pd.read_csv(\"../data/wine-quality.csv\")], axis=1)\n",
    "testing_data = preprocess1(testing_data)\n",
    "X = testing_data.drop(\"quality\", axis=1)\n",
    "y = testing_data.quality\n",
    "X = preprocess2(X)\n",
    "y_test_preds = model.predict(X)\n",
    "print(classification_report(y, y_test_preds));"
   ]
  },
  {
   "cell_type": "markdown",
   "metadata": {},
   "source": [
    "## Categorising data into common and less common"
   ]
  },
  {
   "cell_type": "code",
   "execution_count": 114,
   "metadata": {},
   "outputs": [
    {
     "data": {
      "text/html": [
       "<div>\n",
       "<style scoped>\n",
       "    .dataframe tbody tr th:only-of-type {\n",
       "        vertical-align: middle;\n",
       "    }\n",
       "\n",
       "    .dataframe tbody tr th {\n",
       "        vertical-align: top;\n",
       "    }\n",
       "\n",
       "    .dataframe thead th {\n",
       "        text-align: right;\n",
       "    }\n",
       "</style>\n",
       "<table border=\"1\" class=\"dataframe\">\n",
       "  <thead>\n",
       "    <tr style=\"text-align: right;\">\n",
       "      <th></th>\n",
       "      <th>fixed acidity</th>\n",
       "      <th>volatile acidity</th>\n",
       "      <th>citric acid</th>\n",
       "      <th>residual sugar</th>\n",
       "      <th>chlorides</th>\n",
       "      <th>free sulfur dioxide</th>\n",
       "      <th>total sulfur dioxide</th>\n",
       "      <th>density</th>\n",
       "      <th>pH</th>\n",
       "      <th>sulphates</th>\n",
       "      <th>alcohol</th>\n",
       "      <th>common</th>\n",
       "    </tr>\n",
       "  </thead>\n",
       "  <tbody>\n",
       "    <tr>\n",
       "      <th>0</th>\n",
       "      <td>7.5</td>\n",
       "      <td>0.14</td>\n",
       "      <td>0.34</td>\n",
       "      <td>1.3</td>\n",
       "      <td>0.055</td>\n",
       "      <td>50.0</td>\n",
       "      <td>153.0</td>\n",
       "      <td>0.99450</td>\n",
       "      <td>3.29</td>\n",
       "      <td>0.80</td>\n",
       "      <td>9.6</td>\n",
       "      <td>True</td>\n",
       "    </tr>\n",
       "    <tr>\n",
       "      <th>1</th>\n",
       "      <td>6.8</td>\n",
       "      <td>0.32</td>\n",
       "      <td>0.32</td>\n",
       "      <td>8.7</td>\n",
       "      <td>0.029</td>\n",
       "      <td>31.0</td>\n",
       "      <td>105.0</td>\n",
       "      <td>0.99146</td>\n",
       "      <td>3.00</td>\n",
       "      <td>0.34</td>\n",
       "      <td>12.3</td>\n",
       "      <td>True</td>\n",
       "    </tr>\n",
       "    <tr>\n",
       "      <th>2</th>\n",
       "      <td>7.5</td>\n",
       "      <td>0.28</td>\n",
       "      <td>0.34</td>\n",
       "      <td>4.2</td>\n",
       "      <td>0.028</td>\n",
       "      <td>36.0</td>\n",
       "      <td>116.0</td>\n",
       "      <td>0.99100</td>\n",
       "      <td>2.99</td>\n",
       "      <td>0.41</td>\n",
       "      <td>12.3</td>\n",
       "      <td>False</td>\n",
       "    </tr>\n",
       "    <tr>\n",
       "      <th>3</th>\n",
       "      <td>6.5</td>\n",
       "      <td>0.24</td>\n",
       "      <td>0.32</td>\n",
       "      <td>7.6</td>\n",
       "      <td>0.038</td>\n",
       "      <td>48.0</td>\n",
       "      <td>203.0</td>\n",
       "      <td>0.99580</td>\n",
       "      <td>3.45</td>\n",
       "      <td>0.54</td>\n",
       "      <td>9.7</td>\n",
       "      <td>True</td>\n",
       "    </tr>\n",
       "    <tr>\n",
       "      <th>4</th>\n",
       "      <td>6.9</td>\n",
       "      <td>0.21</td>\n",
       "      <td>0.62</td>\n",
       "      <td>6.3</td>\n",
       "      <td>0.042</td>\n",
       "      <td>7.0</td>\n",
       "      <td>109.0</td>\n",
       "      <td>0.99358</td>\n",
       "      <td>2.96</td>\n",
       "      <td>0.59</td>\n",
       "      <td>10.2</td>\n",
       "      <td>True</td>\n",
       "    </tr>\n",
       "  </tbody>\n",
       "</table>\n",
       "</div>"
      ],
      "text/plain": [
       "   fixed acidity  volatile acidity  citric acid  residual sugar  chlorides  \\\n",
       "0            7.5              0.14         0.34             1.3      0.055   \n",
       "1            6.8              0.32         0.32             8.7      0.029   \n",
       "2            7.5              0.28         0.34             4.2      0.028   \n",
       "3            6.5              0.24         0.32             7.6      0.038   \n",
       "4            6.9              0.21         0.62             6.3      0.042   \n",
       "\n",
       "   free sulfur dioxide  total sulfur dioxide  density    pH  sulphates  \\\n",
       "0                 50.0                 153.0  0.99450  3.29       0.80   \n",
       "1                 31.0                 105.0  0.99146  3.00       0.34   \n",
       "2                 36.0                 116.0  0.99100  2.99       0.41   \n",
       "3                 48.0                 203.0  0.99580  3.45       0.54   \n",
       "4                  7.0                 109.0  0.99358  2.96       0.59   \n",
       "\n",
       "   alcohol  common  \n",
       "0      9.6    True  \n",
       "1     12.3    True  \n",
       "2     12.3   False  \n",
       "3      9.7    True  \n",
       "4     10.2    True  "
      ]
     },
     "execution_count": 114,
     "metadata": {},
     "output_type": "execute_result"
    }
   ],
   "source": [
    "wine_dataframe22 = wine_dataframe2.copy()\n",
    "wine_dataframe22[\"common\"] = (wine_dataframe22.quality == 5)|(wine_dataframe22.quality==6)|(wine_dataframe22.quality == 7)\n",
    "wine_dataframe22.drop(\"quality\", axis=1, inplace=True)\n",
    "wine_dataframe22.head()"
   ]
  },
  {
   "cell_type": "code",
   "execution_count": 116,
   "metadata": {},
   "outputs": [
    {
     "data": {
      "text/plain": [
       "True     3849\n",
       "False     309\n",
       "Name: common, dtype: int64"
      ]
     },
     "execution_count": 116,
     "metadata": {},
     "output_type": "execute_result"
    }
   ],
   "source": [
    "wine_dataframe22.common.value_counts()"
   ]
  },
  {
   "cell_type": "code",
   "execution_count": 199,
   "metadata": {},
   "outputs": [
    {
     "data": {
      "text/plain": [
       "True     3849\n",
       "False    3849\n",
       "Name: common, dtype: int64"
      ]
     },
     "execution_count": 199,
     "metadata": {},
     "output_type": "execute_result"
    }
   ],
   "source": [
    "wine_dataframe22 = wine_dataframe2.copy()\n",
    "wine_dataframe22[\"common\"] = (wine_dataframe22.quality == 5)|(wine_dataframe22.quality==6)|(wine_dataframe22.quality == 7)\n",
    "wine_dataframe22.drop(\"quality\", axis=1, inplace=True)\n",
    "\n",
    "smote = SMOTE(random_state=10)\n",
    "x_wine_dataframe, y_wine_dataframe = smote.fit_resample(wine_dataframe22.drop('common', axis=True), wine_dataframe22.common)\n",
    "x_wine_dataframe['common'] = y_wine_dataframe\n",
    "wine_dataframe22 = x_wine_dataframe\n",
    "wine_dataframe22.common.value_counts()"
   ]
  },
  {
   "cell_type": "code",
   "execution_count": 200,
   "metadata": {},
   "outputs": [
    {
     "name": "stdout",
     "output_type": "stream",
     "text": [
      "              precision    recall  f1-score   support\n",
      "\n",
      "       False       0.61      0.71      0.66       549\n",
      "        True       0.69      0.59      0.64       606\n",
      "\n",
      "    accuracy                           0.65      1155\n",
      "   macro avg       0.65      0.65      0.65      1155\n",
      "weighted avg       0.65      0.65      0.65      1155\n",
      "\n"
     ]
    }
   ],
   "source": [
    "model = LogisticRegression(random_state=10)\n",
    "x_train, x_test, y_train, y_test = train_test_split(wine_dataframe22.drop('common', axis=1), wine_dataframe22.common, test_size=0.15,random_state=10);\n",
    "x_train = preprocess2(x_train)\n",
    "x_test = preprocess2(x_test)\n",
    "score = model.fit(x_train, y_train);\n",
    "y_preds = model.predict(x_test);\n",
    "print(classification_report(y_test, y_preds));"
   ]
  },
  {
   "cell_type": "code",
   "execution_count": 201,
   "metadata": {},
   "outputs": [
    {
     "name": "stdout",
     "output_type": "stream",
     "text": [
      "              precision    recall  f1-score   support\n",
      "\n",
      "       False       0.09      0.74      0.16        54\n",
      "        True       0.95      0.40      0.57       681\n",
      "\n",
      "    accuracy                           0.43       735\n",
      "   macro avg       0.52      0.57      0.36       735\n",
      "weighted avg       0.89      0.43      0.54       735\n",
      "\n"
     ]
    }
   ],
   "source": [
    "testing_data = pd.concat([pd.read_csv(\"../data/wine-testing-data.csv\"), pd.read_csv(\"../data/wine-quality.csv\")], axis=1)\n",
    "testing_data[\"common\"] = (testing_data.quality == 5)|(testing_data.quality==6)|(testing_data.quality == 7)\n",
    "testing_data.drop(\"quality\", axis=1, inplace=True)\n",
    "X = testing_data.drop(\"common\", axis=1)\n",
    "y = testing_data.common\n",
    "X = preprocess2(X)\n",
    "y_test_preds = model.predict(X)\n",
    "print(classification_report(y, y_test_preds));"
   ]
  },
  {
   "cell_type": "code",
   "execution_count": 146,
   "metadata": {},
   "outputs": [
    {
     "data": {
      "text/plain": [
       "array([[-1.34148030e-01, -3.38798782e+00,  1.84289341e+00,\n",
       "         5.06866486e-02, -6.00503290e-02, -3.60280210e-03,\n",
       "         2.21230350e-03,  7.26382730e-01,  1.95697837e-01,\n",
       "         5.62732382e-01, -1.42993807e-01]])"
      ]
     },
     "execution_count": 146,
     "metadata": {},
     "output_type": "execute_result"
    }
   ],
   "source": [
    "model.coef_"
   ]
  },
  {
   "cell_type": "markdown",
   "metadata": {},
   "source": [
    "## Features crossing"
   ]
  },
  {
   "cell_type": "code",
   "execution_count": 614,
   "metadata": {},
   "outputs": [
    {
     "data": {
      "text/html": [
       "<div>\n",
       "<style scoped>\n",
       "    .dataframe tbody tr th:only-of-type {\n",
       "        vertical-align: middle;\n",
       "    }\n",
       "\n",
       "    .dataframe tbody tr th {\n",
       "        vertical-align: top;\n",
       "    }\n",
       "\n",
       "    .dataframe thead th {\n",
       "        text-align: right;\n",
       "    }\n",
       "</style>\n",
       "<table border=\"1\" class=\"dataframe\">\n",
       "  <thead>\n",
       "    <tr style=\"text-align: right;\">\n",
       "      <th></th>\n",
       "      <th>fixed acidity</th>\n",
       "      <th>volatile acidity</th>\n",
       "      <th>citric acid</th>\n",
       "      <th>residual sugar</th>\n",
       "      <th>chlorides</th>\n",
       "      <th>free sulfur dioxide</th>\n",
       "      <th>total sulfur dioxide</th>\n",
       "      <th>density</th>\n",
       "      <th>pH</th>\n",
       "      <th>sulphates</th>\n",
       "      <th>alcohol</th>\n",
       "      <th>quality</th>\n",
       "    </tr>\n",
       "  </thead>\n",
       "  <tbody>\n",
       "    <tr>\n",
       "      <th>0</th>\n",
       "      <td>7.5</td>\n",
       "      <td>0.14</td>\n",
       "      <td>0.34</td>\n",
       "      <td>1.3</td>\n",
       "      <td>0.055</td>\n",
       "      <td>50.0</td>\n",
       "      <td>153.0</td>\n",
       "      <td>0.99450</td>\n",
       "      <td>3.29</td>\n",
       "      <td>0.80</td>\n",
       "      <td>9.6</td>\n",
       "      <td>6.0</td>\n",
       "    </tr>\n",
       "    <tr>\n",
       "      <th>1</th>\n",
       "      <td>6.8</td>\n",
       "      <td>0.32</td>\n",
       "      <td>0.32</td>\n",
       "      <td>8.7</td>\n",
       "      <td>0.029</td>\n",
       "      <td>31.0</td>\n",
       "      <td>105.0</td>\n",
       "      <td>0.99146</td>\n",
       "      <td>3.00</td>\n",
       "      <td>0.34</td>\n",
       "      <td>12.3</td>\n",
       "      <td>7.0</td>\n",
       "    </tr>\n",
       "    <tr>\n",
       "      <th>2</th>\n",
       "      <td>7.5</td>\n",
       "      <td>0.28</td>\n",
       "      <td>0.34</td>\n",
       "      <td>4.2</td>\n",
       "      <td>0.028</td>\n",
       "      <td>36.0</td>\n",
       "      <td>116.0</td>\n",
       "      <td>0.99100</td>\n",
       "      <td>2.99</td>\n",
       "      <td>0.41</td>\n",
       "      <td>12.3</td>\n",
       "      <td>8.0</td>\n",
       "    </tr>\n",
       "    <tr>\n",
       "      <th>3</th>\n",
       "      <td>6.5</td>\n",
       "      <td>0.24</td>\n",
       "      <td>0.32</td>\n",
       "      <td>7.6</td>\n",
       "      <td>0.038</td>\n",
       "      <td>48.0</td>\n",
       "      <td>203.0</td>\n",
       "      <td>0.99580</td>\n",
       "      <td>3.45</td>\n",
       "      <td>0.54</td>\n",
       "      <td>9.7</td>\n",
       "      <td>7.0</td>\n",
       "    </tr>\n",
       "    <tr>\n",
       "      <th>4</th>\n",
       "      <td>6.9</td>\n",
       "      <td>0.21</td>\n",
       "      <td>0.62</td>\n",
       "      <td>6.3</td>\n",
       "      <td>0.042</td>\n",
       "      <td>7.0</td>\n",
       "      <td>109.0</td>\n",
       "      <td>0.99358</td>\n",
       "      <td>2.96</td>\n",
       "      <td>0.59</td>\n",
       "      <td>10.2</td>\n",
       "      <td>6.0</td>\n",
       "    </tr>\n",
       "  </tbody>\n",
       "</table>\n",
       "</div>"
      ],
      "text/plain": [
       "   fixed acidity  volatile acidity  citric acid  residual sugar  chlorides  \\\n",
       "0            7.5              0.14         0.34             1.3      0.055   \n",
       "1            6.8              0.32         0.32             8.7      0.029   \n",
       "2            7.5              0.28         0.34             4.2      0.028   \n",
       "3            6.5              0.24         0.32             7.6      0.038   \n",
       "4            6.9              0.21         0.62             6.3      0.042   \n",
       "\n",
       "   free sulfur dioxide  total sulfur dioxide  density    pH  sulphates  \\\n",
       "0                 50.0                 153.0  0.99450  3.29       0.80   \n",
       "1                 31.0                 105.0  0.99146  3.00       0.34   \n",
       "2                 36.0                 116.0  0.99100  2.99       0.41   \n",
       "3                 48.0                 203.0  0.99580  3.45       0.54   \n",
       "4                  7.0                 109.0  0.99358  2.96       0.59   \n",
       "\n",
       "   alcohol  quality  \n",
       "0      9.6      6.0  \n",
       "1     12.3      7.0  \n",
       "2     12.3      8.0  \n",
       "3      9.7      7.0  \n",
       "4     10.2      6.0  "
      ]
     },
     "execution_count": 614,
     "metadata": {},
     "output_type": "execute_result"
    }
   ],
   "source": [
    "wine_dataframe2.head()"
   ]
  },
  {
   "cell_type": "code",
   "execution_count": 615,
   "metadata": {},
   "outputs": [
    {
     "data": {
      "text/html": [
       "<div>\n",
       "<style scoped>\n",
       "    .dataframe tbody tr th:only-of-type {\n",
       "        vertical-align: middle;\n",
       "    }\n",
       "\n",
       "    .dataframe tbody tr th {\n",
       "        vertical-align: top;\n",
       "    }\n",
       "\n",
       "    .dataframe thead th {\n",
       "        text-align: right;\n",
       "    }\n",
       "</style>\n",
       "<table border=\"1\" class=\"dataframe\">\n",
       "  <thead>\n",
       "    <tr style=\"text-align: right;\">\n",
       "      <th></th>\n",
       "      <th>fixed acidity</th>\n",
       "      <th>volatile acidity</th>\n",
       "      <th>citric acid</th>\n",
       "      <th>residual sugar</th>\n",
       "      <th>free sulfur dioxide</th>\n",
       "      <th>total sulfur dioxide</th>\n",
       "      <th>pH</th>\n",
       "      <th>alcohol</th>\n",
       "      <th>quality</th>\n",
       "      <th>alcohol_sugar</th>\n",
       "    </tr>\n",
       "  </thead>\n",
       "  <tbody>\n",
       "    <tr>\n",
       "      <th>0</th>\n",
       "      <td>7.5</td>\n",
       "      <td>0.14</td>\n",
       "      <td>0.34</td>\n",
       "      <td>1.3</td>\n",
       "      <td>50.0</td>\n",
       "      <td>153.0</td>\n",
       "      <td>3.29</td>\n",
       "      <td>9.6</td>\n",
       "      <td>6.0</td>\n",
       "      <td>0.103594</td>\n",
       "    </tr>\n",
       "    <tr>\n",
       "      <th>1</th>\n",
       "      <td>6.8</td>\n",
       "      <td>0.32</td>\n",
       "      <td>0.32</td>\n",
       "      <td>8.7</td>\n",
       "      <td>31.0</td>\n",
       "      <td>105.0</td>\n",
       "      <td>3.00</td>\n",
       "      <td>12.3</td>\n",
       "      <td>7.0</td>\n",
       "      <td>0.080607</td>\n",
       "    </tr>\n",
       "    <tr>\n",
       "      <th>2</th>\n",
       "      <td>7.5</td>\n",
       "      <td>0.28</td>\n",
       "      <td>0.34</td>\n",
       "      <td>4.2</td>\n",
       "      <td>36.0</td>\n",
       "      <td>116.0</td>\n",
       "      <td>2.99</td>\n",
       "      <td>12.3</td>\n",
       "      <td>8.0</td>\n",
       "      <td>0.080569</td>\n",
       "    </tr>\n",
       "    <tr>\n",
       "      <th>3</th>\n",
       "      <td>6.5</td>\n",
       "      <td>0.24</td>\n",
       "      <td>0.32</td>\n",
       "      <td>7.6</td>\n",
       "      <td>48.0</td>\n",
       "      <td>203.0</td>\n",
       "      <td>3.45</td>\n",
       "      <td>9.7</td>\n",
       "      <td>7.0</td>\n",
       "      <td>0.102660</td>\n",
       "    </tr>\n",
       "    <tr>\n",
       "      <th>4</th>\n",
       "      <td>6.9</td>\n",
       "      <td>0.21</td>\n",
       "      <td>0.62</td>\n",
       "      <td>6.3</td>\n",
       "      <td>7.0</td>\n",
       "      <td>109.0</td>\n",
       "      <td>2.96</td>\n",
       "      <td>10.2</td>\n",
       "      <td>6.0</td>\n",
       "      <td>0.097410</td>\n",
       "    </tr>\n",
       "  </tbody>\n",
       "</table>\n",
       "</div>"
      ],
      "text/plain": [
       "   fixed acidity  volatile acidity  citric acid  residual sugar  \\\n",
       "0            7.5              0.14         0.34             1.3   \n",
       "1            6.8              0.32         0.32             8.7   \n",
       "2            7.5              0.28         0.34             4.2   \n",
       "3            6.5              0.24         0.32             7.6   \n",
       "4            6.9              0.21         0.62             6.3   \n",
       "\n",
       "   free sulfur dioxide  total sulfur dioxide    pH  alcohol  quality  \\\n",
       "0                 50.0                 153.0  3.29      9.6      6.0   \n",
       "1                 31.0                 105.0  3.00     12.3      7.0   \n",
       "2                 36.0                 116.0  2.99     12.3      8.0   \n",
       "3                 48.0                 203.0  3.45      9.7      7.0   \n",
       "4                  7.0                 109.0  2.96     10.2      6.0   \n",
       "\n",
       "   alcohol_sugar  \n",
       "0       0.103594  \n",
       "1       0.080607  \n",
       "2       0.080569  \n",
       "3       0.102660  \n",
       "4       0.097410  "
      ]
     },
     "execution_count": 615,
     "metadata": {},
     "output_type": "execute_result"
    }
   ],
   "source": [
    "wine_dataframe23 = wine_dataframe2.copy()\n",
    "def preprocess3d(dataframe):\n",
    "    dataframe[\"alcohol_sugar\"] = dataframe[\"density\"]/dataframe['alcohol']\n",
    "    dataframe.drop(\"sulphates\",axis=1, inplace=True)\n",
    "    dataframe.drop(\"density\",axis=1, inplace=True)\n",
    "    dataframe.drop(\"chlorides\",axis=1, inplace=True)\n",
    "    pass\n",
    "\n",
    "preprocess3d(wine_dataframe23)\n",
    "wine_dataframe23.head()"
   ]
  },
  {
   "cell_type": "code",
   "execution_count": 616,
   "metadata": {},
   "outputs": [
    {
     "data": {
      "text/html": [
       "<div>\n",
       "<style scoped>\n",
       "    .dataframe tbody tr th:only-of-type {\n",
       "        vertical-align: middle;\n",
       "    }\n",
       "\n",
       "    .dataframe tbody tr th {\n",
       "        vertical-align: top;\n",
       "    }\n",
       "\n",
       "    .dataframe thead th {\n",
       "        text-align: right;\n",
       "    }\n",
       "</style>\n",
       "<table border=\"1\" class=\"dataframe\">\n",
       "  <thead>\n",
       "    <tr style=\"text-align: right;\">\n",
       "      <th></th>\n",
       "      <th>fixed acidity</th>\n",
       "      <th>volatile acidity</th>\n",
       "      <th>citric acid</th>\n",
       "      <th>residual sugar</th>\n",
       "      <th>free sulfur dioxide</th>\n",
       "      <th>total sulfur dioxide</th>\n",
       "      <th>pH</th>\n",
       "      <th>alcohol</th>\n",
       "      <th>alcohol_sugar</th>\n",
       "    </tr>\n",
       "    <tr>\n",
       "      <th>quality</th>\n",
       "      <th></th>\n",
       "      <th></th>\n",
       "      <th></th>\n",
       "      <th></th>\n",
       "      <th></th>\n",
       "      <th></th>\n",
       "      <th></th>\n",
       "      <th></th>\n",
       "      <th></th>\n",
       "    </tr>\n",
       "  </thead>\n",
       "  <tbody>\n",
       "    <tr>\n",
       "      <th>3.0</th>\n",
       "      <td>7.60</td>\n",
       "      <td>0.260</td>\n",
       "      <td>0.350</td>\n",
       "      <td>3.5</td>\n",
       "      <td>34.0</td>\n",
       "      <td>182.0</td>\n",
       "      <td>3.20</td>\n",
       "      <td>10.5</td>\n",
       "      <td>0.094957</td>\n",
       "    </tr>\n",
       "    <tr>\n",
       "      <th>4.0</th>\n",
       "      <td>6.90</td>\n",
       "      <td>0.340</td>\n",
       "      <td>0.290</td>\n",
       "      <td>2.4</td>\n",
       "      <td>18.0</td>\n",
       "      <td>119.0</td>\n",
       "      <td>3.16</td>\n",
       "      <td>10.0</td>\n",
       "      <td>0.099320</td>\n",
       "    </tr>\n",
       "    <tr>\n",
       "      <th>5.0</th>\n",
       "      <td>6.80</td>\n",
       "      <td>0.290</td>\n",
       "      <td>0.320</td>\n",
       "      <td>7.2</td>\n",
       "      <td>36.0</td>\n",
       "      <td>153.0</td>\n",
       "      <td>3.16</td>\n",
       "      <td>9.5</td>\n",
       "      <td>0.104632</td>\n",
       "    </tr>\n",
       "    <tr>\n",
       "      <th>6.0</th>\n",
       "      <td>6.80</td>\n",
       "      <td>0.250</td>\n",
       "      <td>0.320</td>\n",
       "      <td>5.4</td>\n",
       "      <td>34.0</td>\n",
       "      <td>132.0</td>\n",
       "      <td>3.18</td>\n",
       "      <td>10.5</td>\n",
       "      <td>0.094853</td>\n",
       "    </tr>\n",
       "    <tr>\n",
       "      <th>7.0</th>\n",
       "      <td>6.70</td>\n",
       "      <td>0.250</td>\n",
       "      <td>0.310</td>\n",
       "      <td>3.6</td>\n",
       "      <td>33.0</td>\n",
       "      <td>123.5</td>\n",
       "      <td>3.20</td>\n",
       "      <td>11.4</td>\n",
       "      <td>0.087009</td>\n",
       "    </tr>\n",
       "    <tr>\n",
       "      <th>8.0</th>\n",
       "      <td>6.70</td>\n",
       "      <td>0.260</td>\n",
       "      <td>0.320</td>\n",
       "      <td>4.3</td>\n",
       "      <td>35.0</td>\n",
       "      <td>122.0</td>\n",
       "      <td>3.24</td>\n",
       "      <td>12.0</td>\n",
       "      <td>0.082932</td>\n",
       "    </tr>\n",
       "    <tr>\n",
       "      <th>9.0</th>\n",
       "      <td>7.25</td>\n",
       "      <td>0.265</td>\n",
       "      <td>0.405</td>\n",
       "      <td>3.2</td>\n",
       "      <td>29.5</td>\n",
       "      <td>121.5</td>\n",
       "      <td>3.28</td>\n",
       "      <td>12.6</td>\n",
       "      <td>0.078591</td>\n",
       "    </tr>\n",
       "  </tbody>\n",
       "</table>\n",
       "</div>"
      ],
      "text/plain": [
       "         fixed acidity  volatile acidity  citric acid  residual sugar  \\\n",
       "quality                                                                 \n",
       "3.0               7.60             0.260        0.350             3.5   \n",
       "4.0               6.90             0.340        0.290             2.4   \n",
       "5.0               6.80             0.290        0.320             7.2   \n",
       "6.0               6.80             0.250        0.320             5.4   \n",
       "7.0               6.70             0.250        0.310             3.6   \n",
       "8.0               6.70             0.260        0.320             4.3   \n",
       "9.0               7.25             0.265        0.405             3.2   \n",
       "\n",
       "         free sulfur dioxide  total sulfur dioxide    pH  alcohol  \\\n",
       "quality                                                             \n",
       "3.0                     34.0                 182.0  3.20     10.5   \n",
       "4.0                     18.0                 119.0  3.16     10.0   \n",
       "5.0                     36.0                 153.0  3.16      9.5   \n",
       "6.0                     34.0                 132.0  3.18     10.5   \n",
       "7.0                     33.0                 123.5  3.20     11.4   \n",
       "8.0                     35.0                 122.0  3.24     12.0   \n",
       "9.0                     29.5                 121.5  3.28     12.6   \n",
       "\n",
       "         alcohol_sugar  \n",
       "quality                 \n",
       "3.0           0.094957  \n",
       "4.0           0.099320  \n",
       "5.0           0.104632  \n",
       "6.0           0.094853  \n",
       "7.0           0.087009  \n",
       "8.0           0.082932  \n",
       "9.0           0.078591  "
      ]
     },
     "execution_count": 616,
     "metadata": {},
     "output_type": "execute_result"
    }
   ],
   "source": [
    "wine_dataframe23.groupby(\"quality\").median()"
   ]
  },
  {
   "cell_type": "code",
   "execution_count": 760,
   "metadata": {},
   "outputs": [
    {
     "name": "stdout",
     "output_type": "stream",
     "text": [
      "              precision    recall  f1-score   support\n",
      "\n",
      "       False       0.65      0.61      0.63       549\n",
      "        True       0.67      0.71      0.69       606\n",
      "\n",
      "    accuracy                           0.66      1155\n",
      "   macro avg       0.66      0.66      0.66      1155\n",
      "weighted avg       0.66      0.66      0.66      1155\n",
      "\n"
     ]
    },
    {
     "name": "stderr",
     "output_type": "stream",
     "text": [
      "C:\\Users\\Ephraim\\AppData\\Local\\Programs\\Python\\Python39\\lib\\site-packages\\sklearn\\svm\\_base.py:1206: ConvergenceWarning: Liblinear failed to converge, increase the number of iterations.\n",
      "  warnings.warn(\n"
     ]
    }
   ],
   "source": [
    "wine_dataframe231 = wine_dataframe23.copy()\n",
    "wine_dataframe231[\"common\"] = (wine_dataframe231.quality == 5)|(wine_dataframe231.quality==6)|(wine_dataframe231.quality == 7)\n",
    "wine_dataframe231.drop(\"quality\", axis=1, inplace=True)\n",
    "\n",
    "smote = SMOTE(random_state=10)\n",
    "x_wine_dataframe, y_wine_dataframe = smote.fit_resample(wine_dataframe231.drop('common', axis=True), wine_dataframe231.common)\n",
    "x_wine_dataframe['common'] = y_wine_dataframe\n",
    "wine_dataframe231 = x_wine_dataframe\n",
    "\n",
    "model = LinearSVC(C=4, loss=\"hinge\", random_state=10)\n",
    "x_train, x_test, y_train, y_test = train_test_split(wine_dataframe231.drop('common', axis=1), wine_dataframe231.common, test_size=0.15,random_state=10);\n",
    "x_train = preprocess2(x_train)\n",
    "x_test = preprocess2(x_test)\n",
    "score = model.fit(x_train, y_train)\n",
    "y_preds = model.predict(x_test)\n",
    "print(classification_report(y_test, y_preds))"
   ]
  },
  {
   "cell_type": "code",
   "execution_count": 762,
   "metadata": {},
   "outputs": [
    {
     "name": "stdout",
     "output_type": "stream",
     "text": [
      "              precision    recall  f1-score   support\n",
      "\n",
      "       False       0.13      0.59      0.22        54\n",
      "        True       0.96      0.69      0.80       681\n",
      "\n",
      "    accuracy                           0.68       735\n",
      "   macro avg       0.54      0.64      0.51       735\n",
      "weighted avg       0.89      0.68      0.76       735\n",
      "\n"
     ]
    }
   ],
   "source": [
    "testing_data = pd.concat([pd.read_csv(\"../data/wine-testing-data.csv\"), pd.read_csv(\"../data/wine-quality.csv\")], axis=1)\n",
    "preprocess3d(testing_data)\n",
    "testing_data[\"common\"] = (testing_data.quality == 5)|(testing_data.quality==6)|(testing_data.quality == 7)\n",
    "testing_data.drop(\"quality\", axis=1, inplace=True)\n",
    "X = testing_data.drop(\"common\", axis=1)\n",
    "y = testing_data.common\n",
    "X = preprocess2(X, True)\n",
    "y_test_preds = model.predict(X)\n",
    "print(classification_report(y, y_test_preds));"
   ]
  },
  {
   "cell_type": "code",
   "execution_count": 763,
   "metadata": {},
   "outputs": [
    {
     "data": {
      "text/plain": [
       "0.6413770598792625"
      ]
     },
     "execution_count": 763,
     "metadata": {},
     "output_type": "execute_result"
    }
   ],
   "source": [
    "roc_auc_score(y, y_test_preds)"
   ]
  },
  {
   "cell_type": "code",
   "execution_count": 764,
   "metadata": {},
   "outputs": [
    {
     "data": {
      "text/plain": [
       "<AxesSubplot:>"
      ]
     },
     "execution_count": 764,
     "metadata": {},
     "output_type": "execute_result"
    },
    {
     "data": {
      "image/png": "[encoded data removed]",
      "text/plain": [
       "<Figure size 432x288 with 1 Axes>"
      ]
     },
     "metadata": {
      "needs_background": "light"
     },
     "output_type": "display_data"
    }
   ],
   "source": [
    "pd.Series(model.coef_[0], index=wine_dataframe231.drop(\"common\", axis=1).columns).plot.bar()"
   ]
  },
  {
   "cell_type": "code",
   "execution_count": 560,
   "metadata": {},
   "outputs": [
    {
     "data": {
      "image/png": "[encoded data removed]",
      "text/plain": [
       "<Figure size 720x432 with 2 Axes>"
      ]
     },
     "metadata": {},
     "output_type": "display_data"
    }
   ],
   "source": [
    "import seaborn as sns\n",
    "fig, axes = plt.subplots(figsize=(10, 6))\n",
    "sns.heatmap(wine_dataframe.corr(),annot=True, ax=axes)\n",
    "axes.tick_params(colors=\"white\")"
   ]
  },
  {
   "cell_type": "markdown",
   "metadata": {},
   "source": [
    "## Model tuning (SVC, LinearSVC, LogisticRegressor)"
   ]
  },
  {
   "cell_type": "code",
   "execution_count": 634,
   "metadata": {},
   "outputs": [],
   "source": [
    "wine_dataframe4 = wine_dataframe231.copy()\n",
    "wine_dataframe4[\"common\"]"
   ]
  },
  {
   "cell_type": "code",
   "execution_count": null,
   "metadata": {},
   "outputs": [],
   "source": [
    "param = {\n",
    "    \"penalty\": [\"l1\", \"l2\"],\n",
    "    \"loss\": [\"hinge\", \"squared_hinge\"],\n",
    "    \"dual\": [True, False],\n",
    "    \"C\": [i for i in range(1,5, 1)]\n",
    "}\n",
    "gridmodel = GridSearchCV(estimator=LinearSVC(random_state=10))\n",
    "gridmodel.fi"
   ]
  },
  {
   "cell_type": "code",
   "execution_count": 746,
   "metadata": {},
   "outputs": [],
   "source": [
    "from sklearn.ensemble import VotingClassifier, StackingClassifier"
   ]
  },
  {
   "cell_type": "code",
   "execution_count": 699,
   "metadata": {},
   "outputs": [],
   "source": [
    "a1 = LinearSVC(random_state=10).fit(x_train, y_train)\n",
    "a2 = SVC(random_state=10).fit(x_train, y_train)\n",
    "a3 = LogisticRegression(random_state=10).fit(x_train, y_train)"
   ]
  },
  {
   "cell_type": "code",
   "execution_count": 706,
   "metadata": {},
   "outputs": [],
   "source": [
    "_model1_fits = a1.predict(x_train)\n",
    "_model2_fits = a2.predict(x_train)\n",
    "_model3_fits = a3.predict(x_train)"
   ]
  },
  {
   "cell_type": "code",
   "execution_count": 727,
   "metadata": {},
   "outputs": [
    {
     "data": {
      "text/plain": [
       "array([False, False, False])"
      ]
     },
     "execution_count": 727,
     "metadata": {},
     "output_type": "execute_result"
    }
   ],
   "source": [
    "(np.zeros(3)+np.ones(3)+np.zeros(3)) == 0"
   ]
  },
  {
   "cell_type": "code",
   "execution_count": 708,
   "metadata": {},
   "outputs": [
    {
     "data": {
      "text/plain": [
       "(6543, 6543)"
      ]
     },
     "execution_count": 708,
     "metadata": {},
     "output_type": "execute_result"
    }
   ],
   "source": [
    "len(_model1_fits), len(y_train)"
   ]
  },
  {
   "cell_type": "code",
   "execution_count": 717,
   "metadata": {},
   "outputs": [
    {
     "data": {
      "text/html": [
       "<div>\n",
       "<style scoped>\n",
       "    .dataframe tbody tr th:only-of-type {\n",
       "        vertical-align: middle;\n",
       "    }\n",
       "\n",
       "    .dataframe tbody tr th {\n",
       "        vertical-align: top;\n",
       "    }\n",
       "\n",
       "    .dataframe thead th {\n",
       "        text-align: right;\n",
       "    }\n",
       "</style>\n",
       "<table border=\"1\" class=\"dataframe\">\n",
       "  <thead>\n",
       "    <tr style=\"text-align: right;\">\n",
       "      <th></th>\n",
       "      <th>0</th>\n",
       "      <th>1</th>\n",
       "      <th>2</th>\n",
       "    </tr>\n",
       "  </thead>\n",
       "  <tbody>\n",
       "    <tr>\n",
       "      <th>0</th>\n",
       "      <td>False</td>\n",
       "      <td>False</td>\n",
       "      <td>False</td>\n",
       "    </tr>\n",
       "    <tr>\n",
       "      <th>1</th>\n",
       "      <td>True</td>\n",
       "      <td>False</td>\n",
       "      <td>True</td>\n",
       "    </tr>\n",
       "    <tr>\n",
       "      <th>2</th>\n",
       "      <td>True</td>\n",
       "      <td>True</td>\n",
       "      <td>True</td>\n",
       "    </tr>\n",
       "    <tr>\n",
       "      <th>3</th>\n",
       "      <td>False</td>\n",
       "      <td>False</td>\n",
       "      <td>False</td>\n",
       "    </tr>\n",
       "    <tr>\n",
       "      <th>4</th>\n",
       "      <td>True</td>\n",
       "      <td>True</td>\n",
       "      <td>True</td>\n",
       "    </tr>\n",
       "    <tr>\n",
       "      <th>...</th>\n",
       "      <td>...</td>\n",
       "      <td>...</td>\n",
       "      <td>...</td>\n",
       "    </tr>\n",
       "    <tr>\n",
       "      <th>6538</th>\n",
       "      <td>True</td>\n",
       "      <td>True</td>\n",
       "      <td>True</td>\n",
       "    </tr>\n",
       "    <tr>\n",
       "      <th>6539</th>\n",
       "      <td>False</td>\n",
       "      <td>False</td>\n",
       "      <td>True</td>\n",
       "    </tr>\n",
       "    <tr>\n",
       "      <th>6540</th>\n",
       "      <td>False</td>\n",
       "      <td>False</td>\n",
       "      <td>False</td>\n",
       "    </tr>\n",
       "    <tr>\n",
       "      <th>6541</th>\n",
       "      <td>False</td>\n",
       "      <td>False</td>\n",
       "      <td>False</td>\n",
       "    </tr>\n",
       "    <tr>\n",
       "      <th>6542</th>\n",
       "      <td>True</td>\n",
       "      <td>True</td>\n",
       "      <td>True</td>\n",
       "    </tr>\n",
       "  </tbody>\n",
       "</table>\n",
       "<p>6543 rows × 3 columns</p>\n",
       "</div>"
      ],
      "text/plain": [
       "          0      1      2\n",
       "0     False  False  False\n",
       "1      True  False   True\n",
       "2      True   True   True\n",
       "3     False  False  False\n",
       "4      True   True   True\n",
       "...     ...    ...    ...\n",
       "6538   True   True   True\n",
       "6539  False  False   True\n",
       "6540  False  False  False\n",
       "6541  False  False  False\n",
       "6542   True   True   True\n",
       "\n",
       "[6543 rows x 3 columns]"
      ]
     },
     "execution_count": 717,
     "metadata": {},
     "output_type": "execute_result"
    }
   ],
   "source": [
    "atotal = np.array([_model1_fits, _model2_fits, _model3_fits]).T\n",
    "pd.DataFrame(atotal)"
   ]
  },
  {
   "cell_type": "code",
   "execution_count": null,
   "metadata": {},
   "outputs": [],
   "source": []
  }
 ],
 "metadata": {
  "interpreter": {
   "hash": "b2139590a2e13eb994860a5bf1c3d85c510c7215ce6be3d3540f342385f80d05"
  },
  "kernelspec": {
   "display_name": "Python 3.9.6 64-bit",
   "language": "python",
   "name": "python3"
  },
  "language_info": {
   "codemirror_mode": {
    "name": "ipython",
    "version": 3
   },
   "file_extension": ".py",
   "mimetype": "text/x-python",
   "name": "python",
   "nbconvert_exporter": "python",
   "pygments_lexer": "ipython3",
   "version": "3.9.6"
  },
  "orig_nbformat": 4
 },
 "nbformat": 4,
 "nbformat_minor": 2
}
