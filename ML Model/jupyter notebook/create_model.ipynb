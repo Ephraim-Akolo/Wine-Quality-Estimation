{
 "cells": [
  {
   "cell_type": "markdown",
   "metadata": {},
   "source": [
    "# WINE QUALITY ESTIMATION PROJECT"
   ]
  },
  {
   "cell_type": "markdown",
   "metadata": {},
   "source": [
    "## Problem Statement\n",
    "Given the following data, build a model that can accurately estimate the quality of wine from 0 to 10.\n"
   ]
  },
  {
   "cell_type": "markdown",
   "metadata": {},
   "source": [
    "imblearn.under_sampling NearMiss\n",
    "\n",
    "imblearn.combine SMOTEomek(ratio=, random_state)\n",
    "\n",
    "imblearn.combine SMOTE(ratio=, random_state)\n",
    "\n",
    "imblearn.oversampling RandomOverSampler(ratio=1)\n",
    "\n",
    "!pip install imbalanced-learn"
   ]
  },
  {
   "cell_type": "code",
   "execution_count": null,
   "metadata": {},
   "outputs": [],
   "source": [
    "import pandas as pd\n",
    "import numpy as np\n",
    "%matplotlib inline\n",
    "import matplotlib.pyplot as plt\n",
    "import sklearn"
   ]
  },
  {
   "cell_type": "code",
   "execution_count": null,
   "metadata": {},
   "outputs": [],
   "source": []
  }
 ],
 "metadata": {
  "interpreter": {
   "hash": "b2139590a2e13eb994860a5bf1c3d85c510c7215ce6be3d3540f342385f80d05"
  },
  "kernelspec": {
   "display_name": "Python 3.9.6 64-bit",
   "language": "python",
   "name": "python3"
  },
  "language_info": {
   "name": "python",
   "version": "3.9.6"
  },
  "orig_nbformat": 4
 },
 "nbformat": 4,
 "nbformat_minor": 2
}
