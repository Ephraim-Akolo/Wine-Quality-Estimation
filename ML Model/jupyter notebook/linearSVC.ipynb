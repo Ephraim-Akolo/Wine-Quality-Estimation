{
 "cells": [
  {
   "cell_type": "code",
   "execution_count": 33,
   "metadata": {},
   "outputs": [],
   "source": [
    "import pandas as pd\n",
    "import numpy as np\n",
    "%matplotlib inline\n",
    "import matplotlib.pyplot as plt"
   ]
  },
  {
   "cell_type": "code",
   "execution_count": 34,
   "metadata": {},
   "outputs": [],
   "source": [
    "def preprocess(dataframe:pd.DataFrame):\n",
    "    '''\n",
    "    data preparation.\n",
    "    '''\n",
    "    "
   ]
  },
  {
   "cell_type": "code",
   "execution_count": 35,
   "metadata": {},
   "outputs": [
    {
     "data": {
      "text/html": [
       "<div>\n",
       "<style scoped>\n",
       "    .dataframe tbody tr th:only-of-type {\n",
       "        vertical-align: middle;\n",
       "    }\n",
       "\n",
       "    .dataframe tbody tr th {\n",
       "        vertical-align: top;\n",
       "    }\n",
       "\n",
       "    .dataframe thead th {\n",
       "        text-align: right;\n",
       "    }\n",
       "</style>\n",
       "<table border=\"1\" class=\"dataframe\">\n",
       "  <thead>\n",
       "    <tr style=\"text-align: right;\">\n",
       "      <th></th>\n",
       "      <th>fixed acidity</th>\n",
       "      <th>volatile acidity</th>\n",
       "      <th>citric acid</th>\n",
       "      <th>residual sugar</th>\n",
       "      <th>chlorides</th>\n",
       "      <th>free sulfur dioxide</th>\n",
       "      <th>total sulfur dioxide</th>\n",
       "      <th>density</th>\n",
       "      <th>pH</th>\n",
       "      <th>sulphates</th>\n",
       "      <th>alcohol</th>\n",
       "      <th>quality</th>\n",
       "    </tr>\n",
       "  </thead>\n",
       "  <tbody>\n",
       "    <tr>\n",
       "      <th>0</th>\n",
       "      <td>7.5</td>\n",
       "      <td>0.14</td>\n",
       "      <td>0.34</td>\n",
       "      <td>1.3</td>\n",
       "      <td>0.055</td>\n",
       "      <td>50.0</td>\n",
       "      <td>153.0</td>\n",
       "      <td>0.99450</td>\n",
       "      <td>3.29</td>\n",
       "      <td>0.80</td>\n",
       "      <td>9.6</td>\n",
       "      <td>6.0</td>\n",
       "    </tr>\n",
       "    <tr>\n",
       "      <th>1</th>\n",
       "      <td>6.8</td>\n",
       "      <td>0.32</td>\n",
       "      <td>0.32</td>\n",
       "      <td>8.7</td>\n",
       "      <td>0.029</td>\n",
       "      <td>31.0</td>\n",
       "      <td>105.0</td>\n",
       "      <td>0.99146</td>\n",
       "      <td>3.00</td>\n",
       "      <td>0.34</td>\n",
       "      <td>12.3</td>\n",
       "      <td>7.0</td>\n",
       "    </tr>\n",
       "    <tr>\n",
       "      <th>2</th>\n",
       "      <td>7.5</td>\n",
       "      <td>0.28</td>\n",
       "      <td>0.34</td>\n",
       "      <td>4.2</td>\n",
       "      <td>0.028</td>\n",
       "      <td>36.0</td>\n",
       "      <td>116.0</td>\n",
       "      <td>0.99100</td>\n",
       "      <td>2.99</td>\n",
       "      <td>0.41</td>\n",
       "      <td>12.3</td>\n",
       "      <td>8.0</td>\n",
       "    </tr>\n",
       "    <tr>\n",
       "      <th>3</th>\n",
       "      <td>6.5</td>\n",
       "      <td>0.24</td>\n",
       "      <td>0.32</td>\n",
       "      <td>7.6</td>\n",
       "      <td>0.038</td>\n",
       "      <td>48.0</td>\n",
       "      <td>203.0</td>\n",
       "      <td>0.99580</td>\n",
       "      <td>3.45</td>\n",
       "      <td>0.54</td>\n",
       "      <td>9.7</td>\n",
       "      <td>7.0</td>\n",
       "    </tr>\n",
       "    <tr>\n",
       "      <th>4</th>\n",
       "      <td>6.9</td>\n",
       "      <td>0.21</td>\n",
       "      <td>0.62</td>\n",
       "      <td>6.3</td>\n",
       "      <td>0.042</td>\n",
       "      <td>7.0</td>\n",
       "      <td>109.0</td>\n",
       "      <td>0.99358</td>\n",
       "      <td>2.96</td>\n",
       "      <td>0.59</td>\n",
       "      <td>10.2</td>\n",
       "      <td>6.0</td>\n",
       "    </tr>\n",
       "  </tbody>\n",
       "</table>\n",
       "</div>"
      ],
      "text/plain": [
       "   fixed acidity  volatile acidity  citric acid  residual sugar  chlorides  \\\n",
       "0            7.5              0.14         0.34             1.3      0.055   \n",
       "1            6.8              0.32         0.32             8.7      0.029   \n",
       "2            7.5              0.28         0.34             4.2      0.028   \n",
       "3            6.5              0.24         0.32             7.6      0.038   \n",
       "4            6.9              0.21         0.62             6.3      0.042   \n",
       "\n",
       "   free sulfur dioxide  total sulfur dioxide  density    pH  sulphates  \\\n",
       "0                 50.0                 153.0  0.99450  3.29       0.80   \n",
       "1                 31.0                 105.0  0.99146  3.00       0.34   \n",
       "2                 36.0                 116.0  0.99100  2.99       0.41   \n",
       "3                 48.0                 203.0  0.99580  3.45       0.54   \n",
       "4                  7.0                 109.0  0.99358  2.96       0.59   \n",
       "\n",
       "   alcohol  quality  \n",
       "0      9.6      6.0  \n",
       "1     12.3      7.0  \n",
       "2     12.3      8.0  \n",
       "3      9.7      7.0  \n",
       "4     10.2      6.0  "
      ]
     },
     "execution_count": 35,
     "metadata": {},
     "output_type": "execute_result"
    }
   ],
   "source": [
    "df = pd.read_csv(\"../data/wine-model-training-data.csv\")\n",
    "df.head()"
   ]
  },
  {
   "cell_type": "code",
   "execution_count": 36,
   "metadata": {},
   "outputs": [
    {
     "data": {
      "text/html": [
       "<div>\n",
       "<style scoped>\n",
       "    .dataframe tbody tr th:only-of-type {\n",
       "        vertical-align: middle;\n",
       "    }\n",
       "\n",
       "    .dataframe tbody tr th {\n",
       "        vertical-align: top;\n",
       "    }\n",
       "\n",
       "    .dataframe thead th {\n",
       "        text-align: right;\n",
       "    }\n",
       "</style>\n",
       "<table border=\"1\" class=\"dataframe\">\n",
       "  <thead>\n",
       "    <tr style=\"text-align: right;\">\n",
       "      <th></th>\n",
       "      <th>fixed acidity</th>\n",
       "      <th>volatile acidity</th>\n",
       "      <th>citric acid</th>\n",
       "      <th>residual sugar</th>\n",
       "      <th>chlorides</th>\n",
       "      <th>free sulfur dioxide</th>\n",
       "      <th>total sulfur dioxide</th>\n",
       "      <th>density</th>\n",
       "      <th>pH</th>\n",
       "      <th>sulphates</th>\n",
       "      <th>alcohol</th>\n",
       "      <th>quality</th>\n",
       "    </tr>\n",
       "  </thead>\n",
       "  <tbody>\n",
       "    <tr>\n",
       "      <th>0</th>\n",
       "      <td>7.5</td>\n",
       "      <td>0.14</td>\n",
       "      <td>0.34</td>\n",
       "      <td>1.3</td>\n",
       "      <td>0.055</td>\n",
       "      <td>50.0</td>\n",
       "      <td>153.0</td>\n",
       "      <td>0.99450</td>\n",
       "      <td>3.29</td>\n",
       "      <td>0.80</td>\n",
       "      <td>9.6</td>\n",
       "      <td>6.0</td>\n",
       "    </tr>\n",
       "    <tr>\n",
       "      <th>1</th>\n",
       "      <td>6.8</td>\n",
       "      <td>0.32</td>\n",
       "      <td>0.32</td>\n",
       "      <td>8.7</td>\n",
       "      <td>0.029</td>\n",
       "      <td>31.0</td>\n",
       "      <td>105.0</td>\n",
       "      <td>0.99146</td>\n",
       "      <td>3.00</td>\n",
       "      <td>0.34</td>\n",
       "      <td>12.3</td>\n",
       "      <td>7.0</td>\n",
       "    </tr>\n",
       "    <tr>\n",
       "      <th>2</th>\n",
       "      <td>7.5</td>\n",
       "      <td>0.28</td>\n",
       "      <td>0.34</td>\n",
       "      <td>4.2</td>\n",
       "      <td>0.028</td>\n",
       "      <td>36.0</td>\n",
       "      <td>116.0</td>\n",
       "      <td>0.99100</td>\n",
       "      <td>2.99</td>\n",
       "      <td>0.41</td>\n",
       "      <td>12.3</td>\n",
       "      <td>8.0</td>\n",
       "    </tr>\n",
       "    <tr>\n",
       "      <th>3</th>\n",
       "      <td>6.5</td>\n",
       "      <td>0.24</td>\n",
       "      <td>0.32</td>\n",
       "      <td>7.6</td>\n",
       "      <td>0.038</td>\n",
       "      <td>48.0</td>\n",
       "      <td>203.0</td>\n",
       "      <td>0.99580</td>\n",
       "      <td>3.45</td>\n",
       "      <td>0.54</td>\n",
       "      <td>9.7</td>\n",
       "      <td>7.0</td>\n",
       "    </tr>\n",
       "    <tr>\n",
       "      <th>4</th>\n",
       "      <td>6.9</td>\n",
       "      <td>0.21</td>\n",
       "      <td>0.62</td>\n",
       "      <td>6.3</td>\n",
       "      <td>0.042</td>\n",
       "      <td>7.0</td>\n",
       "      <td>109.0</td>\n",
       "      <td>0.99358</td>\n",
       "      <td>2.96</td>\n",
       "      <td>0.59</td>\n",
       "      <td>10.2</td>\n",
       "      <td>6.0</td>\n",
       "    </tr>\n",
       "  </tbody>\n",
       "</table>\n",
       "</div>"
      ],
      "text/plain": [
       "   fixed acidity  volatile acidity  citric acid  residual sugar  chlorides  \\\n",
       "0            7.5              0.14         0.34             1.3      0.055   \n",
       "1            6.8              0.32         0.32             8.7      0.029   \n",
       "2            7.5              0.28         0.34             4.2      0.028   \n",
       "3            6.5              0.24         0.32             7.6      0.038   \n",
       "4            6.9              0.21         0.62             6.3      0.042   \n",
       "\n",
       "   free sulfur dioxide  total sulfur dioxide  density    pH  sulphates  \\\n",
       "0                 50.0                 153.0  0.99450  3.29       0.80   \n",
       "1                 31.0                 105.0  0.99146  3.00       0.34   \n",
       "2                 36.0                 116.0  0.99100  2.99       0.41   \n",
       "3                 48.0                 203.0  0.99580  3.45       0.54   \n",
       "4                  7.0                 109.0  0.99358  2.96       0.59   \n",
       "\n",
       "   alcohol  quality  \n",
       "0      9.6      6.0  \n",
       "1     12.3      7.0  \n",
       "2     12.3      8.0  \n",
       "3      9.7      7.0  \n",
       "4     10.2      6.0  "
      ]
     },
     "execution_count": 36,
     "metadata": {},
     "output_type": "execute_result"
    }
   ],
   "source": [
    "df2 = df\n",
    "df2 = df2[df2['fixed acidity'] < 13]\n",
    "df2 = df2[df2['residual sugar'] < 60]\n",
    "df2 = df2[df2['chlorides'] < 0.3]\n",
    "df2 = df2[df2['citric acid'] < 1.1]\n",
    "df2.reset_index(drop=True, inplace=True)\n",
    "df2.head()"
   ]
  },
  {
   "cell_type": "code",
   "execution_count": 37,
   "metadata": {},
   "outputs": [],
   "source": [
    "def preprocess3d(dataframe):\n",
    "    dataframe[\"densit_alcohol\"] = dataframe[\"density\"]/dataframe['alcohol']\n",
    "    dataframe.drop(\"sulphates\",axis=1, inplace=True)\n",
    "    dataframe.drop(\"density\",axis=1, inplace=True)\n",
    "    dataframe.drop(\"chlorides\",axis=1, inplace=True)\n",
    "    pass"
   ]
  },
  {
   "cell_type": "code",
   "execution_count": 38,
   "metadata": {},
   "outputs": [
    {
     "data": {
      "text/html": [
       "<div>\n",
       "<style scoped>\n",
       "    .dataframe tbody tr th:only-of-type {\n",
       "        vertical-align: middle;\n",
       "    }\n",
       "\n",
       "    .dataframe tbody tr th {\n",
       "        vertical-align: top;\n",
       "    }\n",
       "\n",
       "    .dataframe thead th {\n",
       "        text-align: right;\n",
       "    }\n",
       "</style>\n",
       "<table border=\"1\" class=\"dataframe\">\n",
       "  <thead>\n",
       "    <tr style=\"text-align: right;\">\n",
       "      <th></th>\n",
       "      <th>fixed acidity</th>\n",
       "      <th>volatile acidity</th>\n",
       "      <th>citric acid</th>\n",
       "      <th>residual sugar</th>\n",
       "      <th>free sulfur dioxide</th>\n",
       "      <th>total sulfur dioxide</th>\n",
       "      <th>pH</th>\n",
       "      <th>alcohol</th>\n",
       "      <th>quality</th>\n",
       "      <th>densit_alcohol</th>\n",
       "    </tr>\n",
       "  </thead>\n",
       "  <tbody>\n",
       "    <tr>\n",
       "      <th>0</th>\n",
       "      <td>7.5</td>\n",
       "      <td>0.14</td>\n",
       "      <td>0.34</td>\n",
       "      <td>1.3</td>\n",
       "      <td>50.0</td>\n",
       "      <td>153.0</td>\n",
       "      <td>3.29</td>\n",
       "      <td>9.6</td>\n",
       "      <td>6.0</td>\n",
       "      <td>0.103594</td>\n",
       "    </tr>\n",
       "    <tr>\n",
       "      <th>1</th>\n",
       "      <td>6.8</td>\n",
       "      <td>0.32</td>\n",
       "      <td>0.32</td>\n",
       "      <td>8.7</td>\n",
       "      <td>31.0</td>\n",
       "      <td>105.0</td>\n",
       "      <td>3.00</td>\n",
       "      <td>12.3</td>\n",
       "      <td>7.0</td>\n",
       "      <td>0.080607</td>\n",
       "    </tr>\n",
       "    <tr>\n",
       "      <th>2</th>\n",
       "      <td>7.5</td>\n",
       "      <td>0.28</td>\n",
       "      <td>0.34</td>\n",
       "      <td>4.2</td>\n",
       "      <td>36.0</td>\n",
       "      <td>116.0</td>\n",
       "      <td>2.99</td>\n",
       "      <td>12.3</td>\n",
       "      <td>8.0</td>\n",
       "      <td>0.080569</td>\n",
       "    </tr>\n",
       "    <tr>\n",
       "      <th>3</th>\n",
       "      <td>6.5</td>\n",
       "      <td>0.24</td>\n",
       "      <td>0.32</td>\n",
       "      <td>7.6</td>\n",
       "      <td>48.0</td>\n",
       "      <td>203.0</td>\n",
       "      <td>3.45</td>\n",
       "      <td>9.7</td>\n",
       "      <td>7.0</td>\n",
       "      <td>0.102660</td>\n",
       "    </tr>\n",
       "    <tr>\n",
       "      <th>4</th>\n",
       "      <td>6.9</td>\n",
       "      <td>0.21</td>\n",
       "      <td>0.62</td>\n",
       "      <td>6.3</td>\n",
       "      <td>7.0</td>\n",
       "      <td>109.0</td>\n",
       "      <td>2.96</td>\n",
       "      <td>10.2</td>\n",
       "      <td>6.0</td>\n",
       "      <td>0.097410</td>\n",
       "    </tr>\n",
       "  </tbody>\n",
       "</table>\n",
       "</div>"
      ],
      "text/plain": [
       "   fixed acidity  volatile acidity  citric acid  residual sugar  \\\n",
       "0            7.5              0.14         0.34             1.3   \n",
       "1            6.8              0.32         0.32             8.7   \n",
       "2            7.5              0.28         0.34             4.2   \n",
       "3            6.5              0.24         0.32             7.6   \n",
       "4            6.9              0.21         0.62             6.3   \n",
       "\n",
       "   free sulfur dioxide  total sulfur dioxide    pH  alcohol  quality  \\\n",
       "0                 50.0                 153.0  3.29      9.6      6.0   \n",
       "1                 31.0                 105.0  3.00     12.3      7.0   \n",
       "2                 36.0                 116.0  2.99     12.3      8.0   \n",
       "3                 48.0                 203.0  3.45      9.7      7.0   \n",
       "4                  7.0                 109.0  2.96     10.2      6.0   \n",
       "\n",
       "   densit_alcohol  \n",
       "0        0.103594  \n",
       "1        0.080607  \n",
       "2        0.080569  \n",
       "3        0.102660  \n",
       "4        0.097410  "
      ]
     },
     "execution_count": 38,
     "metadata": {},
     "output_type": "execute_result"
    }
   ],
   "source": [
    "df3 = df2.copy()\n",
    "preprocess3d(df3)\n",
    "df3.head()"
   ]
  },
  {
   "cell_type": "code",
   "execution_count": 39,
   "metadata": {},
   "outputs": [],
   "source": [
    "from sklearn.svm import LinearSVC"
   ]
  },
  {
   "cell_type": "code",
   "execution_count": 40,
   "metadata": {},
   "outputs": [
    {
     "name": "stderr",
     "output_type": "stream",
     "text": [
      "C:\\Users\\Ephraim\\AppData\\Local\\Programs\\Python\\Python39\\lib\\site-packages\\sklearn\\svm\\_base.py:1206: ConvergenceWarning: Liblinear failed to converge, increase the number of iterations.\n",
      "  warnings.warn(\n"
     ]
    },
    {
     "data": {
      "text/plain": [
       "LinearSVC(random_state=10)"
      ]
     },
     "execution_count": 40,
     "metadata": {},
     "output_type": "execute_result"
    }
   ],
   "source": [
    "model = LinearSVC(random_state=10)\n",
    "model.fit(df3.drop(\"quality\", axis=1), df3.quality)"
   ]
  },
  {
   "cell_type": "code",
   "execution_count": 205,
   "metadata": {},
   "outputs": [
    {
     "data": {
      "text/html": [
       "<div>\n",
       "<style scoped>\n",
       "    .dataframe tbody tr th:only-of-type {\n",
       "        vertical-align: middle;\n",
       "    }\n",
       "\n",
       "    .dataframe tbody tr th {\n",
       "        vertical-align: top;\n",
       "    }\n",
       "\n",
       "    .dataframe thead th {\n",
       "        text-align: right;\n",
       "    }\n",
       "</style>\n",
       "<table border=\"1\" class=\"dataframe\">\n",
       "  <thead>\n",
       "    <tr style=\"text-align: right;\">\n",
       "      <th></th>\n",
       "      <th>fixed acidity</th>\n",
       "      <th>volatile acidity</th>\n",
       "      <th>citric acid</th>\n",
       "      <th>residual sugar</th>\n",
       "      <th>chlorides</th>\n",
       "      <th>free sulfur dioxide</th>\n",
       "      <th>total sulfur dioxide</th>\n",
       "      <th>density</th>\n",
       "      <th>pH</th>\n",
       "      <th>sulphates</th>\n",
       "      <th>alcohol</th>\n",
       "    </tr>\n",
       "  </thead>\n",
       "  <tbody>\n",
       "    <tr>\n",
       "      <th>0</th>\n",
       "      <td>6.3</td>\n",
       "      <td>0.31</td>\n",
       "      <td>0.30</td>\n",
       "      <td>10.00</td>\n",
       "      <td>0.046</td>\n",
       "      <td>49.0</td>\n",
       "      <td>212.0</td>\n",
       "      <td>0.99620</td>\n",
       "      <td>3.74</td>\n",
       "      <td>0.55</td>\n",
       "      <td>11.9</td>\n",
       "    </tr>\n",
       "    <tr>\n",
       "      <th>1</th>\n",
       "      <td>6.8</td>\n",
       "      <td>0.19</td>\n",
       "      <td>0.33</td>\n",
       "      <td>1.30</td>\n",
       "      <td>0.031</td>\n",
       "      <td>22.0</td>\n",
       "      <td>87.0</td>\n",
       "      <td>0.98987</td>\n",
       "      <td>3.08</td>\n",
       "      <td>0.62</td>\n",
       "      <td>12.3</td>\n",
       "    </tr>\n",
       "    <tr>\n",
       "      <th>2</th>\n",
       "      <td>7.8</td>\n",
       "      <td>0.40</td>\n",
       "      <td>0.26</td>\n",
       "      <td>9.50</td>\n",
       "      <td>0.059</td>\n",
       "      <td>32.0</td>\n",
       "      <td>178.0</td>\n",
       "      <td>0.99550</td>\n",
       "      <td>3.04</td>\n",
       "      <td>0.43</td>\n",
       "      <td>10.9</td>\n",
       "    </tr>\n",
       "    <tr>\n",
       "      <th>3</th>\n",
       "      <td>6.2</td>\n",
       "      <td>0.21</td>\n",
       "      <td>0.38</td>\n",
       "      <td>6.80</td>\n",
       "      <td>0.036</td>\n",
       "      <td>64.0</td>\n",
       "      <td>245.0</td>\n",
       "      <td>0.99510</td>\n",
       "      <td>3.06</td>\n",
       "      <td>0.36</td>\n",
       "      <td>9.3</td>\n",
       "    </tr>\n",
       "    <tr>\n",
       "      <th>4</th>\n",
       "      <td>6.1</td>\n",
       "      <td>0.36</td>\n",
       "      <td>0.41</td>\n",
       "      <td>19.35</td>\n",
       "      <td>0.070</td>\n",
       "      <td>67.0</td>\n",
       "      <td>207.0</td>\n",
       "      <td>1.00118</td>\n",
       "      <td>3.39</td>\n",
       "      <td>0.53</td>\n",
       "      <td>9.1</td>\n",
       "    </tr>\n",
       "  </tbody>\n",
       "</table>\n",
       "</div>"
      ],
      "text/plain": [
       "   fixed acidity  volatile acidity  citric acid  residual sugar  chlorides  \\\n",
       "0            6.3              0.31         0.30           10.00      0.046   \n",
       "1            6.8              0.19         0.33            1.30      0.031   \n",
       "2            7.8              0.40         0.26            9.50      0.059   \n",
       "3            6.2              0.21         0.38            6.80      0.036   \n",
       "4            6.1              0.36         0.41           19.35      0.070   \n",
       "\n",
       "   free sulfur dioxide  total sulfur dioxide  density    pH  sulphates  \\\n",
       "0                 49.0                 212.0  0.99620  3.74       0.55   \n",
       "1                 22.0                  87.0  0.98987  3.08       0.62   \n",
       "2                 32.0                 178.0  0.99550  3.04       0.43   \n",
       "3                 64.0                 245.0  0.99510  3.06       0.36   \n",
       "4                 67.0                 207.0  1.00118  3.39       0.53   \n",
       "\n",
       "   alcohol  \n",
       "0     11.9  \n",
       "1     12.3  \n",
       "2     10.9  \n",
       "3      9.3  \n",
       "4      9.1  "
      ]
     },
     "execution_count": 205,
     "metadata": {},
     "output_type": "execute_result"
    }
   ],
   "source": [
    "xtest_df = pd.read_csv(\"../data/wine-testing-data.csv\")\n",
    "ytest_df = pd.read_csv(\"../data/wine-quality.csv\")\n",
    "xtest_df.head()"
   ]
  },
  {
   "cell_type": "code",
   "execution_count": 42,
   "metadata": {},
   "outputs": [
    {
     "data": {
      "text/html": [
       "<div>\n",
       "<style scoped>\n",
       "    .dataframe tbody tr th:only-of-type {\n",
       "        vertical-align: middle;\n",
       "    }\n",
       "\n",
       "    .dataframe tbody tr th {\n",
       "        vertical-align: top;\n",
       "    }\n",
       "\n",
       "    .dataframe thead th {\n",
       "        text-align: right;\n",
       "    }\n",
       "</style>\n",
       "<table border=\"1\" class=\"dataframe\">\n",
       "  <thead>\n",
       "    <tr style=\"text-align: right;\">\n",
       "      <th></th>\n",
       "      <th>quality</th>\n",
       "    </tr>\n",
       "  </thead>\n",
       "  <tbody>\n",
       "    <tr>\n",
       "      <th>0</th>\n",
       "      <td>6.0</td>\n",
       "    </tr>\n",
       "    <tr>\n",
       "      <th>1</th>\n",
       "      <td>7.0</td>\n",
       "    </tr>\n",
       "    <tr>\n",
       "      <th>2</th>\n",
       "      <td>6.0</td>\n",
       "    </tr>\n",
       "    <tr>\n",
       "      <th>3</th>\n",
       "      <td>6.0</td>\n",
       "    </tr>\n",
       "    <tr>\n",
       "      <th>4</th>\n",
       "      <td>5.0</td>\n",
       "    </tr>\n",
       "  </tbody>\n",
       "</table>\n",
       "</div>"
      ],
      "text/plain": [
       "   quality\n",
       "0      6.0\n",
       "1      7.0\n",
       "2      6.0\n",
       "3      6.0\n",
       "4      5.0"
      ]
     },
     "execution_count": 42,
     "metadata": {},
     "output_type": "execute_result"
    }
   ],
   "source": [
    "ytest_df.head()"
   ]
  },
  {
   "cell_type": "code",
   "execution_count": 43,
   "metadata": {},
   "outputs": [
    {
     "data": {
      "text/html": [
       "<div>\n",
       "<style scoped>\n",
       "    .dataframe tbody tr th:only-of-type {\n",
       "        vertical-align: middle;\n",
       "    }\n",
       "\n",
       "    .dataframe tbody tr th {\n",
       "        vertical-align: top;\n",
       "    }\n",
       "\n",
       "    .dataframe thead th {\n",
       "        text-align: right;\n",
       "    }\n",
       "</style>\n",
       "<table border=\"1\" class=\"dataframe\">\n",
       "  <thead>\n",
       "    <tr style=\"text-align: right;\">\n",
       "      <th></th>\n",
       "      <th>fixed acidity</th>\n",
       "      <th>volatile acidity</th>\n",
       "      <th>citric acid</th>\n",
       "      <th>residual sugar</th>\n",
       "      <th>free sulfur dioxide</th>\n",
       "      <th>total sulfur dioxide</th>\n",
       "      <th>pH</th>\n",
       "      <th>alcohol</th>\n",
       "      <th>densit_alcohol</th>\n",
       "    </tr>\n",
       "  </thead>\n",
       "  <tbody>\n",
       "    <tr>\n",
       "      <th>0</th>\n",
       "      <td>6.3</td>\n",
       "      <td>0.31</td>\n",
       "      <td>0.30</td>\n",
       "      <td>10.00</td>\n",
       "      <td>49.0</td>\n",
       "      <td>212.0</td>\n",
       "      <td>3.74</td>\n",
       "      <td>11.9</td>\n",
       "      <td>0.083714</td>\n",
       "    </tr>\n",
       "    <tr>\n",
       "      <th>1</th>\n",
       "      <td>6.8</td>\n",
       "      <td>0.19</td>\n",
       "      <td>0.33</td>\n",
       "      <td>1.30</td>\n",
       "      <td>22.0</td>\n",
       "      <td>87.0</td>\n",
       "      <td>3.08</td>\n",
       "      <td>12.3</td>\n",
       "      <td>0.080477</td>\n",
       "    </tr>\n",
       "    <tr>\n",
       "      <th>2</th>\n",
       "      <td>7.8</td>\n",
       "      <td>0.40</td>\n",
       "      <td>0.26</td>\n",
       "      <td>9.50</td>\n",
       "      <td>32.0</td>\n",
       "      <td>178.0</td>\n",
       "      <td>3.04</td>\n",
       "      <td>10.9</td>\n",
       "      <td>0.091330</td>\n",
       "    </tr>\n",
       "    <tr>\n",
       "      <th>3</th>\n",
       "      <td>6.2</td>\n",
       "      <td>0.21</td>\n",
       "      <td>0.38</td>\n",
       "      <td>6.80</td>\n",
       "      <td>64.0</td>\n",
       "      <td>245.0</td>\n",
       "      <td>3.06</td>\n",
       "      <td>9.3</td>\n",
       "      <td>0.107000</td>\n",
       "    </tr>\n",
       "    <tr>\n",
       "      <th>4</th>\n",
       "      <td>6.1</td>\n",
       "      <td>0.36</td>\n",
       "      <td>0.41</td>\n",
       "      <td>19.35</td>\n",
       "      <td>67.0</td>\n",
       "      <td>207.0</td>\n",
       "      <td>3.39</td>\n",
       "      <td>9.1</td>\n",
       "      <td>0.110020</td>\n",
       "    </tr>\n",
       "  </tbody>\n",
       "</table>\n",
       "</div>"
      ],
      "text/plain": [
       "   fixed acidity  volatile acidity  citric acid  residual sugar  \\\n",
       "0            6.3              0.31         0.30           10.00   \n",
       "1            6.8              0.19         0.33            1.30   \n",
       "2            7.8              0.40         0.26            9.50   \n",
       "3            6.2              0.21         0.38            6.80   \n",
       "4            6.1              0.36         0.41           19.35   \n",
       "\n",
       "   free sulfur dioxide  total sulfur dioxide    pH  alcohol  densit_alcohol  \n",
       "0                 49.0                 212.0  3.74     11.9        0.083714  \n",
       "1                 22.0                  87.0  3.08     12.3        0.080477  \n",
       "2                 32.0                 178.0  3.04     10.9        0.091330  \n",
       "3                 64.0                 245.0  3.06      9.3        0.107000  \n",
       "4                 67.0                 207.0  3.39      9.1        0.110020  "
      ]
     },
     "execution_count": 43,
     "metadata": {},
     "output_type": "execute_result"
    }
   ],
   "source": [
    "preprocess3d(xtest_df)\n",
    "xtest_df.head()"
   ]
  },
  {
   "cell_type": "code",
   "execution_count": 44,
   "metadata": {},
   "outputs": [
    {
     "data": {
      "text/plain": [
       "array([6., 6., 6., 6., 6.])"
      ]
     },
     "execution_count": 44,
     "metadata": {},
     "output_type": "execute_result"
    }
   ],
   "source": [
    "preds = model.predict(xtest_df)\n",
    "preds[:5]"
   ]
  },
  {
   "cell_type": "code",
   "execution_count": 45,
   "metadata": {},
   "outputs": [],
   "source": [
    "from sklearn.metrics import classification_report"
   ]
  },
  {
   "cell_type": "code",
   "execution_count": 46,
   "metadata": {},
   "outputs": [
    {
     "name": "stdout",
     "output_type": "stream",
     "text": [
      "              precision    recall  f1-score   support\n",
      "\n",
      "         3.0       0.00      0.00      0.00         3\n",
      "         4.0       0.33      0.04      0.07        24\n",
      "         5.0       0.00      0.00      0.00       219\n",
      "         6.0       0.45      1.00      0.62       330\n",
      "         7.0       0.00      0.00      0.00       132\n",
      "         8.0       0.00      0.00      0.00        26\n",
      "         9.0       0.00      0.00      0.00         1\n",
      "\n",
      "    accuracy                           0.45       735\n",
      "   macro avg       0.11      0.15      0.10       735\n",
      "weighted avg       0.21      0.45      0.28       735\n",
      "\n"
     ]
    },
    {
     "name": "stderr",
     "output_type": "stream",
     "text": [
      "C:\\Users\\Ephraim\\AppData\\Local\\Programs\\Python\\Python39\\lib\\site-packages\\sklearn\\metrics\\_classification.py:1318: UndefinedMetricWarning: Precision and F-score are ill-defined and being set to 0.0 in labels with no predicted samples. Use `zero_division` parameter to control this behavior.\n",
      "  _warn_prf(average, modifier, msg_start, len(result))\n",
      "C:\\Users\\Ephraim\\AppData\\Local\\Programs\\Python\\Python39\\lib\\site-packages\\sklearn\\metrics\\_classification.py:1318: UndefinedMetricWarning: Precision and F-score are ill-defined and being set to 0.0 in labels with no predicted samples. Use `zero_division` parameter to control this behavior.\n",
      "  _warn_prf(average, modifier, msg_start, len(result))\n",
      "C:\\Users\\Ephraim\\AppData\\Local\\Programs\\Python\\Python39\\lib\\site-packages\\sklearn\\metrics\\_classification.py:1318: UndefinedMetricWarning: Precision and F-score are ill-defined and being set to 0.0 in labels with no predicted samples. Use `zero_division` parameter to control this behavior.\n",
      "  _warn_prf(average, modifier, msg_start, len(result))\n"
     ]
    }
   ],
   "source": [
    "print(classification_report(ytest_df.quality, preds))"
   ]
  },
  {
   "cell_type": "code",
   "execution_count": 47,
   "metadata": {},
   "outputs": [
    {
     "data": {
      "text/html": [
       "<div>\n",
       "<style scoped>\n",
       "    .dataframe tbody tr th:only-of-type {\n",
       "        vertical-align: middle;\n",
       "    }\n",
       "\n",
       "    .dataframe tbody tr th {\n",
       "        vertical-align: top;\n",
       "    }\n",
       "\n",
       "    .dataframe thead th {\n",
       "        text-align: right;\n",
       "    }\n",
       "</style>\n",
       "<table border=\"1\" class=\"dataframe\">\n",
       "  <thead>\n",
       "    <tr style=\"text-align: right;\">\n",
       "      <th></th>\n",
       "      <th>fixed acidity</th>\n",
       "      <th>volatile acidity</th>\n",
       "      <th>citric acid</th>\n",
       "      <th>residual sugar</th>\n",
       "      <th>free sulfur dioxide</th>\n",
       "      <th>total sulfur dioxide</th>\n",
       "      <th>pH</th>\n",
       "      <th>alcohol</th>\n",
       "      <th>quality</th>\n",
       "      <th>densit_alcohol</th>\n",
       "    </tr>\n",
       "  </thead>\n",
       "  <tbody>\n",
       "    <tr>\n",
       "      <th>0</th>\n",
       "      <td>7.5</td>\n",
       "      <td>0.14</td>\n",
       "      <td>0.34</td>\n",
       "      <td>1.3</td>\n",
       "      <td>50.0</td>\n",
       "      <td>153.0</td>\n",
       "      <td>3.29</td>\n",
       "      <td>9.6</td>\n",
       "      <td>6.0</td>\n",
       "      <td>0.103594</td>\n",
       "    </tr>\n",
       "    <tr>\n",
       "      <th>1</th>\n",
       "      <td>6.8</td>\n",
       "      <td>0.32</td>\n",
       "      <td>0.32</td>\n",
       "      <td>8.7</td>\n",
       "      <td>31.0</td>\n",
       "      <td>105.0</td>\n",
       "      <td>3.00</td>\n",
       "      <td>12.3</td>\n",
       "      <td>7.0</td>\n",
       "      <td>0.080607</td>\n",
       "    </tr>\n",
       "    <tr>\n",
       "      <th>2</th>\n",
       "      <td>7.5</td>\n",
       "      <td>0.28</td>\n",
       "      <td>0.34</td>\n",
       "      <td>4.2</td>\n",
       "      <td>36.0</td>\n",
       "      <td>116.0</td>\n",
       "      <td>2.99</td>\n",
       "      <td>12.3</td>\n",
       "      <td>8.0</td>\n",
       "      <td>0.080569</td>\n",
       "    </tr>\n",
       "    <tr>\n",
       "      <th>3</th>\n",
       "      <td>6.5</td>\n",
       "      <td>0.24</td>\n",
       "      <td>0.32</td>\n",
       "      <td>7.6</td>\n",
       "      <td>48.0</td>\n",
       "      <td>203.0</td>\n",
       "      <td>3.45</td>\n",
       "      <td>9.7</td>\n",
       "      <td>7.0</td>\n",
       "      <td>0.102660</td>\n",
       "    </tr>\n",
       "    <tr>\n",
       "      <th>4</th>\n",
       "      <td>6.9</td>\n",
       "      <td>0.21</td>\n",
       "      <td>0.62</td>\n",
       "      <td>6.3</td>\n",
       "      <td>7.0</td>\n",
       "      <td>109.0</td>\n",
       "      <td>2.96</td>\n",
       "      <td>10.2</td>\n",
       "      <td>6.0</td>\n",
       "      <td>0.097410</td>\n",
       "    </tr>\n",
       "  </tbody>\n",
       "</table>\n",
       "</div>"
      ],
      "text/plain": [
       "   fixed acidity  volatile acidity  citric acid  residual sugar  \\\n",
       "0            7.5              0.14         0.34             1.3   \n",
       "1            6.8              0.32         0.32             8.7   \n",
       "2            7.5              0.28         0.34             4.2   \n",
       "3            6.5              0.24         0.32             7.6   \n",
       "4            6.9              0.21         0.62             6.3   \n",
       "\n",
       "   free sulfur dioxide  total sulfur dioxide    pH  alcohol  quality  \\\n",
       "0                 50.0                 153.0  3.29      9.6      6.0   \n",
       "1                 31.0                 105.0  3.00     12.3      7.0   \n",
       "2                 36.0                 116.0  2.99     12.3      8.0   \n",
       "3                 48.0                 203.0  3.45      9.7      7.0   \n",
       "4                  7.0                 109.0  2.96     10.2      6.0   \n",
       "\n",
       "   densit_alcohol  \n",
       "0        0.103594  \n",
       "1        0.080607  \n",
       "2        0.080569  \n",
       "3        0.102660  \n",
       "4        0.097410  "
      ]
     },
     "execution_count": 47,
     "metadata": {},
     "output_type": "execute_result"
    }
   ],
   "source": [
    "df3.head()"
   ]
  },
  {
   "cell_type": "code",
   "execution_count": 167,
   "metadata": {},
   "outputs": [
    {
     "data": {
      "text/html": [
       "<div>\n",
       "<style scoped>\n",
       "    .dataframe tbody tr th:only-of-type {\n",
       "        vertical-align: middle;\n",
       "    }\n",
       "\n",
       "    .dataframe tbody tr th {\n",
       "        vertical-align: top;\n",
       "    }\n",
       "\n",
       "    .dataframe thead th {\n",
       "        text-align: right;\n",
       "    }\n",
       "</style>\n",
       "<table border=\"1\" class=\"dataframe\">\n",
       "  <thead>\n",
       "    <tr style=\"text-align: right;\">\n",
       "      <th></th>\n",
       "      <th>fixed acidity</th>\n",
       "      <th>volatile acidity</th>\n",
       "      <th>citric acid</th>\n",
       "      <th>residual sugar</th>\n",
       "      <th>free sulfur dioxide</th>\n",
       "      <th>total sulfur dioxide</th>\n",
       "      <th>pH</th>\n",
       "      <th>alcohol</th>\n",
       "      <th>densit_alcohol</th>\n",
       "      <th>common</th>\n",
       "    </tr>\n",
       "  </thead>\n",
       "  <tbody>\n",
       "    <tr>\n",
       "      <th>0</th>\n",
       "      <td>7.5</td>\n",
       "      <td>0.14</td>\n",
       "      <td>0.34</td>\n",
       "      <td>1.3</td>\n",
       "      <td>50.0</td>\n",
       "      <td>153.0</td>\n",
       "      <td>3.29</td>\n",
       "      <td>9.6</td>\n",
       "      <td>0.103594</td>\n",
       "      <td>True</td>\n",
       "    </tr>\n",
       "    <tr>\n",
       "      <th>1</th>\n",
       "      <td>6.8</td>\n",
       "      <td>0.32</td>\n",
       "      <td>0.32</td>\n",
       "      <td>8.7</td>\n",
       "      <td>31.0</td>\n",
       "      <td>105.0</td>\n",
       "      <td>3.00</td>\n",
       "      <td>12.3</td>\n",
       "      <td>0.080607</td>\n",
       "      <td>True</td>\n",
       "    </tr>\n",
       "    <tr>\n",
       "      <th>2</th>\n",
       "      <td>7.5</td>\n",
       "      <td>0.28</td>\n",
       "      <td>0.34</td>\n",
       "      <td>4.2</td>\n",
       "      <td>36.0</td>\n",
       "      <td>116.0</td>\n",
       "      <td>2.99</td>\n",
       "      <td>12.3</td>\n",
       "      <td>0.080569</td>\n",
       "      <td>False</td>\n",
       "    </tr>\n",
       "    <tr>\n",
       "      <th>3</th>\n",
       "      <td>6.5</td>\n",
       "      <td>0.24</td>\n",
       "      <td>0.32</td>\n",
       "      <td>7.6</td>\n",
       "      <td>48.0</td>\n",
       "      <td>203.0</td>\n",
       "      <td>3.45</td>\n",
       "      <td>9.7</td>\n",
       "      <td>0.102660</td>\n",
       "      <td>True</td>\n",
       "    </tr>\n",
       "    <tr>\n",
       "      <th>4</th>\n",
       "      <td>6.9</td>\n",
       "      <td>0.21</td>\n",
       "      <td>0.62</td>\n",
       "      <td>6.3</td>\n",
       "      <td>7.0</td>\n",
       "      <td>109.0</td>\n",
       "      <td>2.96</td>\n",
       "      <td>10.2</td>\n",
       "      <td>0.097410</td>\n",
       "      <td>True</td>\n",
       "    </tr>\n",
       "  </tbody>\n",
       "</table>\n",
       "</div>"
      ],
      "text/plain": [
       "   fixed acidity  volatile acidity  citric acid  residual sugar  \\\n",
       "0            7.5              0.14         0.34             1.3   \n",
       "1            6.8              0.32         0.32             8.7   \n",
       "2            7.5              0.28         0.34             4.2   \n",
       "3            6.5              0.24         0.32             7.6   \n",
       "4            6.9              0.21         0.62             6.3   \n",
       "\n",
       "   free sulfur dioxide  total sulfur dioxide    pH  alcohol  densit_alcohol  \\\n",
       "0                 50.0                 153.0  3.29      9.6        0.103594   \n",
       "1                 31.0                 105.0  3.00     12.3        0.080607   \n",
       "2                 36.0                 116.0  2.99     12.3        0.080569   \n",
       "3                 48.0                 203.0  3.45      9.7        0.102660   \n",
       "4                  7.0                 109.0  2.96     10.2        0.097410   \n",
       "\n",
       "   common  \n",
       "0    True  \n",
       "1    True  \n",
       "2   False  \n",
       "3    True  \n",
       "4    True  "
      ]
     },
     "execution_count": 167,
     "metadata": {},
     "output_type": "execute_result"
    }
   ],
   "source": [
    "df4 = df3.copy()\n",
    "df4['common'] = (df4.quality == 5)|(df4.quality==6)|(df4.quality == 7)\n",
    "df5 = df4[df4.common == True]\n",
    "df5 = df5.drop(\"common\", axis=1)\n",
    "df6 = df4[df4.common == False]\n",
    "df6 = df6.drop(\"common\", axis=1)\n",
    "df4.drop(\"quality\", axis=1, inplace=True)\n",
    "df4.head()"
   ]
  },
  {
   "cell_type": "code",
   "execution_count": 168,
   "metadata": {},
   "outputs": [
    {
     "data": {
      "text/html": [
       "<div>\n",
       "<style scoped>\n",
       "    .dataframe tbody tr th:only-of-type {\n",
       "        vertical-align: middle;\n",
       "    }\n",
       "\n",
       "    .dataframe tbody tr th {\n",
       "        vertical-align: top;\n",
       "    }\n",
       "\n",
       "    .dataframe thead th {\n",
       "        text-align: right;\n",
       "    }\n",
       "</style>\n",
       "<table border=\"1\" class=\"dataframe\">\n",
       "  <thead>\n",
       "    <tr style=\"text-align: right;\">\n",
       "      <th></th>\n",
       "      <th>fixed acidity</th>\n",
       "      <th>volatile acidity</th>\n",
       "      <th>citric acid</th>\n",
       "      <th>residual sugar</th>\n",
       "      <th>free sulfur dioxide</th>\n",
       "      <th>total sulfur dioxide</th>\n",
       "      <th>pH</th>\n",
       "      <th>alcohol</th>\n",
       "      <th>densit_alcohol</th>\n",
       "      <th>quality</th>\n",
       "    </tr>\n",
       "  </thead>\n",
       "  <tbody>\n",
       "    <tr>\n",
       "      <th>0</th>\n",
       "      <td>7.5</td>\n",
       "      <td>0.14</td>\n",
       "      <td>0.34</td>\n",
       "      <td>1.3</td>\n",
       "      <td>50.0</td>\n",
       "      <td>153.0</td>\n",
       "      <td>3.29</td>\n",
       "      <td>9.6</td>\n",
       "      <td>0.103594</td>\n",
       "      <td>6.0</td>\n",
       "    </tr>\n",
       "    <tr>\n",
       "      <th>1</th>\n",
       "      <td>6.8</td>\n",
       "      <td>0.32</td>\n",
       "      <td>0.32</td>\n",
       "      <td>8.7</td>\n",
       "      <td>31.0</td>\n",
       "      <td>105.0</td>\n",
       "      <td>3.00</td>\n",
       "      <td>12.3</td>\n",
       "      <td>0.080607</td>\n",
       "      <td>7.0</td>\n",
       "    </tr>\n",
       "    <tr>\n",
       "      <th>2</th>\n",
       "      <td>6.5</td>\n",
       "      <td>0.24</td>\n",
       "      <td>0.32</td>\n",
       "      <td>7.6</td>\n",
       "      <td>48.0</td>\n",
       "      <td>203.0</td>\n",
       "      <td>3.45</td>\n",
       "      <td>9.7</td>\n",
       "      <td>0.102660</td>\n",
       "      <td>7.0</td>\n",
       "    </tr>\n",
       "    <tr>\n",
       "      <th>3</th>\n",
       "      <td>6.9</td>\n",
       "      <td>0.21</td>\n",
       "      <td>0.62</td>\n",
       "      <td>6.3</td>\n",
       "      <td>7.0</td>\n",
       "      <td>109.0</td>\n",
       "      <td>2.96</td>\n",
       "      <td>10.2</td>\n",
       "      <td>0.097410</td>\n",
       "      <td>6.0</td>\n",
       "    </tr>\n",
       "    <tr>\n",
       "      <th>4</th>\n",
       "      <td>6.4</td>\n",
       "      <td>0.16</td>\n",
       "      <td>0.42</td>\n",
       "      <td>1.0</td>\n",
       "      <td>29.0</td>\n",
       "      <td>113.0</td>\n",
       "      <td>3.18</td>\n",
       "      <td>11.0</td>\n",
       "      <td>0.090073</td>\n",
       "      <td>6.0</td>\n",
       "    </tr>\n",
       "  </tbody>\n",
       "</table>\n",
       "</div>"
      ],
      "text/plain": [
       "   fixed acidity  volatile acidity  citric acid  residual sugar  \\\n",
       "0            7.5              0.14         0.34             1.3   \n",
       "1            6.8              0.32         0.32             8.7   \n",
       "2            6.5              0.24         0.32             7.6   \n",
       "3            6.9              0.21         0.62             6.3   \n",
       "4            6.4              0.16         0.42             1.0   \n",
       "\n",
       "   free sulfur dioxide  total sulfur dioxide    pH  alcohol  densit_alcohol  \\\n",
       "0                 50.0                 153.0  3.29      9.6        0.103594   \n",
       "1                 31.0                 105.0  3.00     12.3        0.080607   \n",
       "2                 48.0                 203.0  3.45      9.7        0.102660   \n",
       "3                  7.0                 109.0  2.96     10.2        0.097410   \n",
       "4                 29.0                 113.0  3.18     11.0        0.090073   \n",
       "\n",
       "   quality  \n",
       "0      6.0  \n",
       "1      7.0  \n",
       "2      7.0  \n",
       "3      6.0  \n",
       "4      6.0  "
      ]
     },
     "execution_count": 168,
     "metadata": {},
     "output_type": "execute_result"
    }
   ],
   "source": [
    "df5 = df5.reset_index(drop=True)\n",
    "y = df5.quality\n",
    "df5 = df5.drop(\"quality\", axis=1)\n",
    "df5['quality'] = y\n",
    "df5.head()"
   ]
  },
  {
   "cell_type": "code",
   "execution_count": 169,
   "metadata": {},
   "outputs": [
    {
     "data": {
      "text/html": [
       "<div>\n",
       "<style scoped>\n",
       "    .dataframe tbody tr th:only-of-type {\n",
       "        vertical-align: middle;\n",
       "    }\n",
       "\n",
       "    .dataframe tbody tr th {\n",
       "        vertical-align: top;\n",
       "    }\n",
       "\n",
       "    .dataframe thead th {\n",
       "        text-align: right;\n",
       "    }\n",
       "</style>\n",
       "<table border=\"1\" class=\"dataframe\">\n",
       "  <thead>\n",
       "    <tr style=\"text-align: right;\">\n",
       "      <th></th>\n",
       "      <th>fixed acidity</th>\n",
       "      <th>volatile acidity</th>\n",
       "      <th>citric acid</th>\n",
       "      <th>residual sugar</th>\n",
       "      <th>free sulfur dioxide</th>\n",
       "      <th>total sulfur dioxide</th>\n",
       "      <th>pH</th>\n",
       "      <th>alcohol</th>\n",
       "      <th>densit_alcohol</th>\n",
       "      <th>quality</th>\n",
       "    </tr>\n",
       "  </thead>\n",
       "  <tbody>\n",
       "    <tr>\n",
       "      <th>0</th>\n",
       "      <td>7.5</td>\n",
       "      <td>0.28</td>\n",
       "      <td>0.34</td>\n",
       "      <td>4.2</td>\n",
       "      <td>36.0</td>\n",
       "      <td>116.0</td>\n",
       "      <td>2.99</td>\n",
       "      <td>12.3</td>\n",
       "      <td>0.080569</td>\n",
       "      <td>8.0</td>\n",
       "    </tr>\n",
       "    <tr>\n",
       "      <th>1</th>\n",
       "      <td>6.4</td>\n",
       "      <td>0.22</td>\n",
       "      <td>0.32</td>\n",
       "      <td>7.2</td>\n",
       "      <td>15.0</td>\n",
       "      <td>83.0</td>\n",
       "      <td>3.13</td>\n",
       "      <td>10.9</td>\n",
       "      <td>0.091101</td>\n",
       "      <td>8.0</td>\n",
       "    </tr>\n",
       "    <tr>\n",
       "      <th>2</th>\n",
       "      <td>7.5</td>\n",
       "      <td>0.42</td>\n",
       "      <td>0.34</td>\n",
       "      <td>4.3</td>\n",
       "      <td>34.0</td>\n",
       "      <td>108.0</td>\n",
       "      <td>3.14</td>\n",
       "      <td>12.8</td>\n",
       "      <td>0.077465</td>\n",
       "      <td>8.0</td>\n",
       "    </tr>\n",
       "    <tr>\n",
       "      <th>3</th>\n",
       "      <td>4.8</td>\n",
       "      <td>0.65</td>\n",
       "      <td>0.12</td>\n",
       "      <td>1.1</td>\n",
       "      <td>4.0</td>\n",
       "      <td>10.0</td>\n",
       "      <td>3.32</td>\n",
       "      <td>13.5</td>\n",
       "      <td>0.073516</td>\n",
       "      <td>4.0</td>\n",
       "    </tr>\n",
       "    <tr>\n",
       "      <th>4</th>\n",
       "      <td>6.5</td>\n",
       "      <td>0.48</td>\n",
       "      <td>0.02</td>\n",
       "      <td>0.9</td>\n",
       "      <td>32.0</td>\n",
       "      <td>99.0</td>\n",
       "      <td>3.14</td>\n",
       "      <td>9.8</td>\n",
       "      <td>0.101251</td>\n",
       "      <td>4.0</td>\n",
       "    </tr>\n",
       "  </tbody>\n",
       "</table>\n",
       "</div>"
      ],
      "text/plain": [
       "   fixed acidity  volatile acidity  citric acid  residual sugar  \\\n",
       "0            7.5              0.28         0.34             4.2   \n",
       "1            6.4              0.22         0.32             7.2   \n",
       "2            7.5              0.42         0.34             4.3   \n",
       "3            4.8              0.65         0.12             1.1   \n",
       "4            6.5              0.48         0.02             0.9   \n",
       "\n",
       "   free sulfur dioxide  total sulfur dioxide    pH  alcohol  densit_alcohol  \\\n",
       "0                 36.0                 116.0  2.99     12.3        0.080569   \n",
       "1                 15.0                  83.0  3.13     10.9        0.091101   \n",
       "2                 34.0                 108.0  3.14     12.8        0.077465   \n",
       "3                  4.0                  10.0  3.32     13.5        0.073516   \n",
       "4                 32.0                  99.0  3.14      9.8        0.101251   \n",
       "\n",
       "   quality  \n",
       "0      8.0  \n",
       "1      8.0  \n",
       "2      8.0  \n",
       "3      4.0  \n",
       "4      4.0  "
      ]
     },
     "execution_count": 169,
     "metadata": {},
     "output_type": "execute_result"
    }
   ],
   "source": [
    "df6 = df6.reset_index(drop=True)\n",
    "y = df6.quality\n",
    "df6 = df6.drop(\"quality\", axis=1)\n",
    "df6['quality'] = y\n",
    "df6.head()"
   ]
  },
  {
   "cell_type": "code",
   "execution_count": 51,
   "metadata": {},
   "outputs": [
    {
     "data": {
      "text/plain": [
       "True     3849\n",
       "False     309\n",
       "Name: common, dtype: int64"
      ]
     },
     "execution_count": 51,
     "metadata": {},
     "output_type": "execute_result"
    }
   ],
   "source": [
    "df4.common.value_counts()"
   ]
  },
  {
   "cell_type": "code",
   "execution_count": 52,
   "metadata": {},
   "outputs": [
    {
     "data": {
      "text/plain": [
       "6.0    1865\n",
       "5.0    1236\n",
       "7.0     748\n",
       "Name: quality, dtype: int64"
      ]
     },
     "execution_count": 52,
     "metadata": {},
     "output_type": "execute_result"
    }
   ],
   "source": [
    "df5.quality.value_counts()"
   ]
  },
  {
   "cell_type": "code",
   "execution_count": 53,
   "metadata": {},
   "outputs": [
    {
     "data": {
      "text/plain": [
       "8.0    149\n",
       "4.0    139\n",
       "3.0     17\n",
       "9.0      4\n",
       "Name: quality, dtype: int64"
      ]
     },
     "execution_count": 53,
     "metadata": {},
     "output_type": "execute_result"
    }
   ],
   "source": [
    "df6.quality.value_counts()"
   ]
  },
  {
   "cell_type": "code",
   "execution_count": 129,
   "metadata": {},
   "outputs": [],
   "source": [
    "from imblearn.over_sampling import SMOTE\n",
    "def oversampledata(data, t, n=5):\n",
    "    smote = SMOTE(random_state=10, k_neighbors=n)\n",
    "    x_wine_dataframe, y_wine_dataframe = smote.fit_resample(data.drop(t, axis=1), data[t])\n",
    "    x_wine_dataframe[t] = y_wine_dataframe\n",
    "    return x_wine_dataframe"
   ]
  },
  {
   "cell_type": "code",
   "execution_count": 55,
   "metadata": {},
   "outputs": [
    {
     "data": {
      "text/plain": [
       "True     3849\n",
       "False    3849\n",
       "Name: common, dtype: int64"
      ]
     },
     "execution_count": 55,
     "metadata": {},
     "output_type": "execute_result"
    }
   ],
   "source": [
    "df4 = oversampledata(df4, \"common\")\n",
    "df4.common.value_counts()"
   ]
  },
  {
   "cell_type": "code",
   "execution_count": 99,
   "metadata": {},
   "outputs": [
    {
     "data": {
      "text/plain": [
       "Pipeline(steps=[('standardscaler', StandardScaler()),\n",
       "                ('svc', SVC(C=100, gamma=1, random_state=10))])"
      ]
     },
     "execution_count": 99,
     "metadata": {},
     "output_type": "execute_result"
    }
   ],
   "source": [
    "from sklearn.pipeline import make_pipeline\n",
    "from sklearn.preprocessing import MinMaxScaler, StandardScaler\n",
    "from sklearn.svm import SVC\n",
    "from sklearn.linear_model import LogisticRegression\n",
    "\n",
    "model1a = make_pipeline(MinMaxScaler(), SVC(C=100, gamma=1, random_state=10))\n",
    "model1b = make_pipeline(StandardScaler(), SVC(C=100, gamma=1, random_state=10))\n",
    "model1a.fit(df4.drop(\"common\", axis=1), df4.common)\n",
    "model1b.fit(df4.drop(\"common\", axis=1), df4.common)"
   ]
  },
  {
   "cell_type": "code",
   "execution_count": 100,
   "metadata": {},
   "outputs": [
    {
     "data": {
      "text/html": [
       "<div>\n",
       "<style scoped>\n",
       "    .dataframe tbody tr th:only-of-type {\n",
       "        vertical-align: middle;\n",
       "    }\n",
       "\n",
       "    .dataframe tbody tr th {\n",
       "        vertical-align: top;\n",
       "    }\n",
       "\n",
       "    .dataframe thead th {\n",
       "        text-align: right;\n",
       "    }\n",
       "</style>\n",
       "<table border=\"1\" class=\"dataframe\">\n",
       "  <thead>\n",
       "    <tr style=\"text-align: right;\">\n",
       "      <th></th>\n",
       "      <th>fixed acidity</th>\n",
       "      <th>volatile acidity</th>\n",
       "      <th>citric acid</th>\n",
       "      <th>residual sugar</th>\n",
       "      <th>free sulfur dioxide</th>\n",
       "      <th>total sulfur dioxide</th>\n",
       "      <th>pH</th>\n",
       "      <th>alcohol</th>\n",
       "      <th>densit_alcohol</th>\n",
       "      <th>common</th>\n",
       "    </tr>\n",
       "  </thead>\n",
       "  <tbody>\n",
       "    <tr>\n",
       "      <th>0</th>\n",
       "      <td>6.3</td>\n",
       "      <td>0.31</td>\n",
       "      <td>0.30</td>\n",
       "      <td>10.00</td>\n",
       "      <td>49.0</td>\n",
       "      <td>212.0</td>\n",
       "      <td>3.74</td>\n",
       "      <td>11.9</td>\n",
       "      <td>0.083714</td>\n",
       "      <td>True</td>\n",
       "    </tr>\n",
       "    <tr>\n",
       "      <th>1</th>\n",
       "      <td>6.8</td>\n",
       "      <td>0.19</td>\n",
       "      <td>0.33</td>\n",
       "      <td>1.30</td>\n",
       "      <td>22.0</td>\n",
       "      <td>87.0</td>\n",
       "      <td>3.08</td>\n",
       "      <td>12.3</td>\n",
       "      <td>0.080477</td>\n",
       "      <td>True</td>\n",
       "    </tr>\n",
       "    <tr>\n",
       "      <th>2</th>\n",
       "      <td>7.8</td>\n",
       "      <td>0.40</td>\n",
       "      <td>0.26</td>\n",
       "      <td>9.50</td>\n",
       "      <td>32.0</td>\n",
       "      <td>178.0</td>\n",
       "      <td>3.04</td>\n",
       "      <td>10.9</td>\n",
       "      <td>0.091330</td>\n",
       "      <td>True</td>\n",
       "    </tr>\n",
       "    <tr>\n",
       "      <th>3</th>\n",
       "      <td>6.2</td>\n",
       "      <td>0.21</td>\n",
       "      <td>0.38</td>\n",
       "      <td>6.80</td>\n",
       "      <td>64.0</td>\n",
       "      <td>245.0</td>\n",
       "      <td>3.06</td>\n",
       "      <td>9.3</td>\n",
       "      <td>0.107000</td>\n",
       "      <td>True</td>\n",
       "    </tr>\n",
       "    <tr>\n",
       "      <th>4</th>\n",
       "      <td>6.1</td>\n",
       "      <td>0.36</td>\n",
       "      <td>0.41</td>\n",
       "      <td>19.35</td>\n",
       "      <td>67.0</td>\n",
       "      <td>207.0</td>\n",
       "      <td>3.39</td>\n",
       "      <td>9.1</td>\n",
       "      <td>0.110020</td>\n",
       "      <td>True</td>\n",
       "    </tr>\n",
       "  </tbody>\n",
       "</table>\n",
       "</div>"
      ],
      "text/plain": [
       "   fixed acidity  volatile acidity  citric acid  residual sugar  \\\n",
       "0            6.3              0.31         0.30           10.00   \n",
       "1            6.8              0.19         0.33            1.30   \n",
       "2            7.8              0.40         0.26            9.50   \n",
       "3            6.2              0.21         0.38            6.80   \n",
       "4            6.1              0.36         0.41           19.35   \n",
       "\n",
       "   free sulfur dioxide  total sulfur dioxide    pH  alcohol  densit_alcohol  \\\n",
       "0                 49.0                 212.0  3.74     11.9        0.083714   \n",
       "1                 22.0                  87.0  3.08     12.3        0.080477   \n",
       "2                 32.0                 178.0  3.04     10.9        0.091330   \n",
       "3                 64.0                 245.0  3.06      9.3        0.107000   \n",
       "4                 67.0                 207.0  3.39      9.1        0.110020   \n",
       "\n",
       "   common  \n",
       "0    True  \n",
       "1    True  \n",
       "2    True  \n",
       "3    True  \n",
       "4    True  "
      ]
     },
     "execution_count": 100,
     "metadata": {},
     "output_type": "execute_result"
    }
   ],
   "source": [
    "df4_test = xtest_df.copy()\n",
    "df4_test[\"quality\"] = ytest_df.quality\n",
    "df4_test['common'] = (df4_test.quality == 5)|(df4_test.quality==6)|(df4_test.quality == 7)\n",
    "df4_test.drop(\"quality\", axis=1, inplace=True)\n",
    "df4_test.head()"
   ]
  },
  {
   "cell_type": "code",
   "execution_count": 101,
   "metadata": {},
   "outputs": [
    {
     "name": "stdout",
     "output_type": "stream",
     "text": [
      "              precision    recall  f1-score   support\n",
      "\n",
      "       False       0.17      0.48      0.25        54\n",
      "        True       0.95      0.82      0.88       681\n",
      "\n",
      "    accuracy                           0.79       735\n",
      "   macro avg       0.56      0.65      0.57       735\n",
      "weighted avg       0.89      0.79      0.83       735\n",
      "\n"
     ]
    }
   ],
   "source": [
    "preds = model1a.predict(df4_test.drop(\"common\", axis=1))\n",
    "print(classification_report(df4_test.common, preds))"
   ]
  },
  {
   "cell_type": "code",
   "execution_count": 102,
   "metadata": {},
   "outputs": [
    {
     "name": "stdout",
     "output_type": "stream",
     "text": [
      "              precision    recall  f1-score   support\n",
      "\n",
      "       False       0.32      0.44      0.37        54\n",
      "        True       0.95      0.93      0.94       681\n",
      "\n",
      "    accuracy                           0.89       735\n",
      "   macro avg       0.64      0.68      0.66       735\n",
      "weighted avg       0.91      0.89      0.90       735\n",
      "\n"
     ]
    }
   ],
   "source": [
    "preds = model1b.predict(df4_test.drop(\"common\", axis=1))\n",
    "print(classification_report(df4_test.common, preds))"
   ]
  },
  {
   "cell_type": "code",
   "execution_count": 103,
   "metadata": {},
   "outputs": [],
   "source": [
    "import pickle\n",
    "with open(\"C:/Users/Ephraim/Desktop/vscode/ML/Paritie Test Project/Wine-Quality-Estimation/Kivy App/models/model1a\", \"wb\") as f:\n",
    "    pickle.dump(model1b, f)\n",
    "with open(\"C:/Users/Ephraim/Desktop/vscode/ML/Paritie Test Project/Wine-Quality-Estimation/Kivy App/models/model1b\", \"wb\") as f:\n",
    "    pickle.dump(model1b, f)"
   ]
  },
  {
   "cell_type": "code",
   "execution_count": 104,
   "metadata": {},
   "outputs": [
    {
     "data": {
      "text/plain": [
       "6.0    1865\n",
       "7.0    1865\n",
       "5.0    1865\n",
       "Name: quality, dtype: int64"
      ]
     },
     "execution_count": 104,
     "metadata": {},
     "output_type": "execute_result"
    }
   ],
   "source": [
    "df5 = oversampledata(df5, \"quality\")\n",
    "df5.quality.value_counts()"
   ]
  },
  {
   "cell_type": "code",
   "execution_count": 111,
   "metadata": {},
   "outputs": [],
   "source": [
    "model2a = make_pipeline(StandardScaler(), LogisticRegression(random_state=10))\n",
    "model2c = make_pipeline(StandardScaler(), SVC(C=100, gamma=1, random_state=10))"
   ]
  },
  {
   "cell_type": "code",
   "execution_count": 112,
   "metadata": {},
   "outputs": [
    {
     "data": {
      "text/plain": [
       "Pipeline(steps=[('standardscaler', StandardScaler()),\n",
       "                ('svc', SVC(C=100, gamma=1, random_state=10))])"
      ]
     },
     "execution_count": 112,
     "metadata": {},
     "output_type": "execute_result"
    }
   ],
   "source": [
    "model2a.fit(df5.drop(\"quality\", axis=1), df5.quality)\n",
    "model2c.fit(df5.drop(\"quality\", axis=1), df5.quality)"
   ]
  },
  {
   "cell_type": "code",
   "execution_count": 113,
   "metadata": {},
   "outputs": [
    {
     "data": {
      "text/html": [
       "<div>\n",
       "<style scoped>\n",
       "    .dataframe tbody tr th:only-of-type {\n",
       "        vertical-align: middle;\n",
       "    }\n",
       "\n",
       "    .dataframe tbody tr th {\n",
       "        vertical-align: top;\n",
       "    }\n",
       "\n",
       "    .dataframe thead th {\n",
       "        text-align: right;\n",
       "    }\n",
       "</style>\n",
       "<table border=\"1\" class=\"dataframe\">\n",
       "  <thead>\n",
       "    <tr style=\"text-align: right;\">\n",
       "      <th></th>\n",
       "      <th>fixed acidity</th>\n",
       "      <th>volatile acidity</th>\n",
       "      <th>citric acid</th>\n",
       "      <th>residual sugar</th>\n",
       "      <th>free sulfur dioxide</th>\n",
       "      <th>total sulfur dioxide</th>\n",
       "      <th>pH</th>\n",
       "      <th>alcohol</th>\n",
       "      <th>densit_alcohol</th>\n",
       "      <th>quality</th>\n",
       "    </tr>\n",
       "  </thead>\n",
       "  <tbody>\n",
       "    <tr>\n",
       "      <th>0</th>\n",
       "      <td>6.3</td>\n",
       "      <td>0.31</td>\n",
       "      <td>0.30</td>\n",
       "      <td>10.00</td>\n",
       "      <td>49.0</td>\n",
       "      <td>212.0</td>\n",
       "      <td>3.74</td>\n",
       "      <td>11.9</td>\n",
       "      <td>0.083714</td>\n",
       "      <td>6.0</td>\n",
       "    </tr>\n",
       "    <tr>\n",
       "      <th>1</th>\n",
       "      <td>6.8</td>\n",
       "      <td>0.19</td>\n",
       "      <td>0.33</td>\n",
       "      <td>1.30</td>\n",
       "      <td>22.0</td>\n",
       "      <td>87.0</td>\n",
       "      <td>3.08</td>\n",
       "      <td>12.3</td>\n",
       "      <td>0.080477</td>\n",
       "      <td>7.0</td>\n",
       "    </tr>\n",
       "    <tr>\n",
       "      <th>2</th>\n",
       "      <td>7.8</td>\n",
       "      <td>0.40</td>\n",
       "      <td>0.26</td>\n",
       "      <td>9.50</td>\n",
       "      <td>32.0</td>\n",
       "      <td>178.0</td>\n",
       "      <td>3.04</td>\n",
       "      <td>10.9</td>\n",
       "      <td>0.091330</td>\n",
       "      <td>6.0</td>\n",
       "    </tr>\n",
       "    <tr>\n",
       "      <th>3</th>\n",
       "      <td>6.2</td>\n",
       "      <td>0.21</td>\n",
       "      <td>0.38</td>\n",
       "      <td>6.80</td>\n",
       "      <td>64.0</td>\n",
       "      <td>245.0</td>\n",
       "      <td>3.06</td>\n",
       "      <td>9.3</td>\n",
       "      <td>0.107000</td>\n",
       "      <td>6.0</td>\n",
       "    </tr>\n",
       "    <tr>\n",
       "      <th>4</th>\n",
       "      <td>6.1</td>\n",
       "      <td>0.36</td>\n",
       "      <td>0.41</td>\n",
       "      <td>19.35</td>\n",
       "      <td>67.0</td>\n",
       "      <td>207.0</td>\n",
       "      <td>3.39</td>\n",
       "      <td>9.1</td>\n",
       "      <td>0.110020</td>\n",
       "      <td>5.0</td>\n",
       "    </tr>\n",
       "  </tbody>\n",
       "</table>\n",
       "</div>"
      ],
      "text/plain": [
       "   fixed acidity  volatile acidity  citric acid  residual sugar  \\\n",
       "0            6.3              0.31         0.30           10.00   \n",
       "1            6.8              0.19         0.33            1.30   \n",
       "2            7.8              0.40         0.26            9.50   \n",
       "3            6.2              0.21         0.38            6.80   \n",
       "4            6.1              0.36         0.41           19.35   \n",
       "\n",
       "   free sulfur dioxide  total sulfur dioxide    pH  alcohol  densit_alcohol  \\\n",
       "0                 49.0                 212.0  3.74     11.9        0.083714   \n",
       "1                 22.0                  87.0  3.08     12.3        0.080477   \n",
       "2                 32.0                 178.0  3.04     10.9        0.091330   \n",
       "3                 64.0                 245.0  3.06      9.3        0.107000   \n",
       "4                 67.0                 207.0  3.39      9.1        0.110020   \n",
       "\n",
       "   quality  \n",
       "0      6.0  \n",
       "1      7.0  \n",
       "2      6.0  \n",
       "3      6.0  \n",
       "4      5.0  "
      ]
     },
     "execution_count": 113,
     "metadata": {},
     "output_type": "execute_result"
    }
   ],
   "source": [
    "df5_test = xtest_df.copy()\n",
    "df5_test[\"quality\"] = ytest_df.quality\n",
    "df5_test = df5_test[(df5_test.quality == 5)|(df5_test.quality==6)|(df5_test.quality == 7)]\n",
    "df5_test.reset_index(drop=True)\n",
    "df5_test.head()"
   ]
  },
  {
   "cell_type": "code",
   "execution_count": 114,
   "metadata": {},
   "outputs": [
    {
     "data": {
      "text/html": [
       "<div>\n",
       "<style scoped>\n",
       "    .dataframe tbody tr th:only-of-type {\n",
       "        vertical-align: middle;\n",
       "    }\n",
       "\n",
       "    .dataframe tbody tr th {\n",
       "        vertical-align: top;\n",
       "    }\n",
       "\n",
       "    .dataframe thead th {\n",
       "        text-align: right;\n",
       "    }\n",
       "</style>\n",
       "<table border=\"1\" class=\"dataframe\">\n",
       "  <thead>\n",
       "    <tr style=\"text-align: right;\">\n",
       "      <th></th>\n",
       "      <th>fixed acidity</th>\n",
       "      <th>volatile acidity</th>\n",
       "      <th>citric acid</th>\n",
       "      <th>residual sugar</th>\n",
       "      <th>free sulfur dioxide</th>\n",
       "      <th>total sulfur dioxide</th>\n",
       "      <th>pH</th>\n",
       "      <th>alcohol</th>\n",
       "      <th>densit_alcohol</th>\n",
       "      <th>quality</th>\n",
       "    </tr>\n",
       "  </thead>\n",
       "  <tbody>\n",
       "    <tr>\n",
       "      <th>0</th>\n",
       "      <td>7.5</td>\n",
       "      <td>0.14</td>\n",
       "      <td>0.34</td>\n",
       "      <td>1.3</td>\n",
       "      <td>50.0</td>\n",
       "      <td>153.0</td>\n",
       "      <td>3.29</td>\n",
       "      <td>9.6</td>\n",
       "      <td>0.103594</td>\n",
       "      <td>6.0</td>\n",
       "    </tr>\n",
       "    <tr>\n",
       "      <th>1</th>\n",
       "      <td>6.8</td>\n",
       "      <td>0.32</td>\n",
       "      <td>0.32</td>\n",
       "      <td>8.7</td>\n",
       "      <td>31.0</td>\n",
       "      <td>105.0</td>\n",
       "      <td>3.00</td>\n",
       "      <td>12.3</td>\n",
       "      <td>0.080607</td>\n",
       "      <td>7.0</td>\n",
       "    </tr>\n",
       "    <tr>\n",
       "      <th>2</th>\n",
       "      <td>6.5</td>\n",
       "      <td>0.24</td>\n",
       "      <td>0.32</td>\n",
       "      <td>7.6</td>\n",
       "      <td>48.0</td>\n",
       "      <td>203.0</td>\n",
       "      <td>3.45</td>\n",
       "      <td>9.7</td>\n",
       "      <td>0.102660</td>\n",
       "      <td>7.0</td>\n",
       "    </tr>\n",
       "    <tr>\n",
       "      <th>3</th>\n",
       "      <td>6.9</td>\n",
       "      <td>0.21</td>\n",
       "      <td>0.62</td>\n",
       "      <td>6.3</td>\n",
       "      <td>7.0</td>\n",
       "      <td>109.0</td>\n",
       "      <td>2.96</td>\n",
       "      <td>10.2</td>\n",
       "      <td>0.097410</td>\n",
       "      <td>6.0</td>\n",
       "    </tr>\n",
       "    <tr>\n",
       "      <th>4</th>\n",
       "      <td>6.4</td>\n",
       "      <td>0.16</td>\n",
       "      <td>0.42</td>\n",
       "      <td>1.0</td>\n",
       "      <td>29.0</td>\n",
       "      <td>113.0</td>\n",
       "      <td>3.18</td>\n",
       "      <td>11.0</td>\n",
       "      <td>0.090073</td>\n",
       "      <td>6.0</td>\n",
       "    </tr>\n",
       "  </tbody>\n",
       "</table>\n",
       "</div>"
      ],
      "text/plain": [
       "   fixed acidity  volatile acidity  citric acid  residual sugar  \\\n",
       "0            7.5              0.14         0.34             1.3   \n",
       "1            6.8              0.32         0.32             8.7   \n",
       "2            6.5              0.24         0.32             7.6   \n",
       "3            6.9              0.21         0.62             6.3   \n",
       "4            6.4              0.16         0.42             1.0   \n",
       "\n",
       "   free sulfur dioxide  total sulfur dioxide    pH  alcohol  densit_alcohol  \\\n",
       "0                 50.0                 153.0  3.29      9.6        0.103594   \n",
       "1                 31.0                 105.0  3.00     12.3        0.080607   \n",
       "2                 48.0                 203.0  3.45      9.7        0.102660   \n",
       "3                  7.0                 109.0  2.96     10.2        0.097410   \n",
       "4                 29.0                 113.0  3.18     11.0        0.090073   \n",
       "\n",
       "   quality  \n",
       "0      6.0  \n",
       "1      7.0  \n",
       "2      7.0  \n",
       "3      6.0  \n",
       "4      6.0  "
      ]
     },
     "execution_count": 114,
     "metadata": {},
     "output_type": "execute_result"
    }
   ],
   "source": [
    "df5.head()"
   ]
  },
  {
   "cell_type": "code",
   "execution_count": 115,
   "metadata": {},
   "outputs": [
    {
     "name": "stdout",
     "output_type": "stream",
     "text": [
      "              precision    recall  f1-score   support\n",
      "\n",
      "         5.0       0.53      0.72      0.61       219\n",
      "         6.0       0.57      0.36      0.44       330\n",
      "         7.0       0.44      0.60      0.51       132\n",
      "\n",
      "    accuracy                           0.52       681\n",
      "   macro avg       0.52      0.56      0.52       681\n",
      "weighted avg       0.54      0.52      0.51       681\n",
      "\n"
     ]
    }
   ],
   "source": [
    "preds = model2a.predict(df5_test.drop(\"quality\", axis=1))\n",
    "print(classification_report(df5_test.quality, preds))"
   ]
  },
  {
   "cell_type": "code",
   "execution_count": 116,
   "metadata": {},
   "outputs": [
    {
     "name": "stdout",
     "output_type": "stream",
     "text": [
      "              precision    recall  f1-score   support\n",
      "\n",
      "         5.0       0.67      0.67      0.67       219\n",
      "         6.0       0.67      0.66      0.67       330\n",
      "         7.0       0.59      0.60      0.59       132\n",
      "\n",
      "    accuracy                           0.65       681\n",
      "   macro avg       0.64      0.64      0.64       681\n",
      "weighted avg       0.65      0.65      0.65       681\n",
      "\n"
     ]
    }
   ],
   "source": [
    "preds = model2c.predict(df5_test.drop(\"quality\", axis=1))\n",
    "print(classification_report(df5_test.quality, preds))"
   ]
  },
  {
   "cell_type": "code",
   "execution_count": 117,
   "metadata": {},
   "outputs": [],
   "source": [
    "\n",
    "with open(\"C:/Users/Ephraim/Desktop/vscode/ML/Paritie Test Project/Wine-Quality-Estimation/Kivy App/models/model2c\", \"wb\") as f:\n",
    "    pickle.dump(model2c, f)"
   ]
  },
  {
   "cell_type": "code",
   "execution_count": 118,
   "metadata": {},
   "outputs": [
    {
     "data": {
      "text/html": [
       "<div>\n",
       "<style scoped>\n",
       "    .dataframe tbody tr th:only-of-type {\n",
       "        vertical-align: middle;\n",
       "    }\n",
       "\n",
       "    .dataframe tbody tr th {\n",
       "        vertical-align: top;\n",
       "    }\n",
       "\n",
       "    .dataframe thead th {\n",
       "        text-align: right;\n",
       "    }\n",
       "</style>\n",
       "<table border=\"1\" class=\"dataframe\">\n",
       "  <thead>\n",
       "    <tr style=\"text-align: right;\">\n",
       "      <th></th>\n",
       "      <th>fixed acidity</th>\n",
       "      <th>volatile acidity</th>\n",
       "      <th>citric acid</th>\n",
       "      <th>residual sugar</th>\n",
       "      <th>free sulfur dioxide</th>\n",
       "      <th>total sulfur dioxide</th>\n",
       "      <th>pH</th>\n",
       "      <th>alcohol</th>\n",
       "      <th>densit_alcohol</th>\n",
       "      <th>quality</th>\n",
       "    </tr>\n",
       "  </thead>\n",
       "  <tbody>\n",
       "    <tr>\n",
       "      <th>0</th>\n",
       "      <td>7.5</td>\n",
       "      <td>0.28</td>\n",
       "      <td>0.34</td>\n",
       "      <td>4.2</td>\n",
       "      <td>36.0</td>\n",
       "      <td>116.0</td>\n",
       "      <td>2.99</td>\n",
       "      <td>12.3</td>\n",
       "      <td>0.080569</td>\n",
       "      <td>8.0</td>\n",
       "    </tr>\n",
       "    <tr>\n",
       "      <th>1</th>\n",
       "      <td>6.4</td>\n",
       "      <td>0.22</td>\n",
       "      <td>0.32</td>\n",
       "      <td>7.2</td>\n",
       "      <td>15.0</td>\n",
       "      <td>83.0</td>\n",
       "      <td>3.13</td>\n",
       "      <td>10.9</td>\n",
       "      <td>0.091101</td>\n",
       "      <td>8.0</td>\n",
       "    </tr>\n",
       "    <tr>\n",
       "      <th>2</th>\n",
       "      <td>7.5</td>\n",
       "      <td>0.42</td>\n",
       "      <td>0.34</td>\n",
       "      <td>4.3</td>\n",
       "      <td>34.0</td>\n",
       "      <td>108.0</td>\n",
       "      <td>3.14</td>\n",
       "      <td>12.8</td>\n",
       "      <td>0.077465</td>\n",
       "      <td>8.0</td>\n",
       "    </tr>\n",
       "    <tr>\n",
       "      <th>3</th>\n",
       "      <td>4.8</td>\n",
       "      <td>0.65</td>\n",
       "      <td>0.12</td>\n",
       "      <td>1.1</td>\n",
       "      <td>4.0</td>\n",
       "      <td>10.0</td>\n",
       "      <td>3.32</td>\n",
       "      <td>13.5</td>\n",
       "      <td>0.073516</td>\n",
       "      <td>4.0</td>\n",
       "    </tr>\n",
       "    <tr>\n",
       "      <th>4</th>\n",
       "      <td>6.5</td>\n",
       "      <td>0.48</td>\n",
       "      <td>0.02</td>\n",
       "      <td>0.9</td>\n",
       "      <td>32.0</td>\n",
       "      <td>99.0</td>\n",
       "      <td>3.14</td>\n",
       "      <td>9.8</td>\n",
       "      <td>0.101251</td>\n",
       "      <td>4.0</td>\n",
       "    </tr>\n",
       "  </tbody>\n",
       "</table>\n",
       "</div>"
      ],
      "text/plain": [
       "   fixed acidity  volatile acidity  citric acid  residual sugar  \\\n",
       "0            7.5              0.28         0.34             4.2   \n",
       "1            6.4              0.22         0.32             7.2   \n",
       "2            7.5              0.42         0.34             4.3   \n",
       "3            4.8              0.65         0.12             1.1   \n",
       "4            6.5              0.48         0.02             0.9   \n",
       "\n",
       "   free sulfur dioxide  total sulfur dioxide    pH  alcohol  densit_alcohol  \\\n",
       "0                 36.0                 116.0  2.99     12.3        0.080569   \n",
       "1                 15.0                  83.0  3.13     10.9        0.091101   \n",
       "2                 34.0                 108.0  3.14     12.8        0.077465   \n",
       "3                  4.0                  10.0  3.32     13.5        0.073516   \n",
       "4                 32.0                  99.0  3.14      9.8        0.101251   \n",
       "\n",
       "   quality  \n",
       "0      8.0  \n",
       "1      8.0  \n",
       "2      8.0  \n",
       "3      4.0  \n",
       "4      4.0  "
      ]
     },
     "execution_count": 118,
     "metadata": {},
     "output_type": "execute_result"
    }
   ],
   "source": [
    "df6.head()"
   ]
  },
  {
   "cell_type": "code",
   "execution_count": 127,
   "metadata": {},
   "outputs": [
    {
     "data": {
      "text/plain": [
       "8.0    149\n",
       "4.0    139\n",
       "3.0     17\n",
       "9.0      4\n",
       "Name: quality, dtype: int64"
      ]
     },
     "execution_count": 127,
     "metadata": {},
     "output_type": "execute_result"
    }
   ],
   "source": [
    "df6.quality.value_counts()"
   ]
  },
  {
   "cell_type": "code",
   "execution_count": 170,
   "metadata": {},
   "outputs": [
    {
     "data": {
      "text/plain": [
       "8.0    156\n",
       "4.0    156\n",
       "Name: quality, dtype: int64"
      ]
     },
     "execution_count": 170,
     "metadata": {},
     "output_type": "execute_result"
    }
   ],
   "source": [
    "df6[\"quality\"] = df6.quality.apply(lambda x: 8. if x > 5 else 4.)\n",
    "df6 = oversampledata(df6, \"quality\", 3)\n",
    "df6.quality.value_counts()"
   ]
  },
  {
   "cell_type": "code",
   "execution_count": 192,
   "metadata": {},
   "outputs": [],
   "source": [
    "model3a = make_pipeline(StandardScaler(), LogisticRegression(random_state=10))\n",
    "model3b = make_pipeline(StandardScaler(), SVC(kernel=\"rbf\", random_state=10))"
   ]
  },
  {
   "cell_type": "code",
   "execution_count": 198,
   "metadata": {},
   "outputs": [
    {
     "data": {
      "text/plain": [
       "Index(['fixed acidity', 'volatile acidity', 'citric acid', 'residual sugar',\n",
       "       'free sulfur dioxide', 'total sulfur dioxide', 'pH', 'alcohol',\n",
       "       'densit_alcohol', 'quality'],\n",
       "      dtype='object')"
      ]
     },
     "execution_count": 198,
     "metadata": {},
     "output_type": "execute_result"
    }
   ],
   "source": [
    "df6_test = xtest_df.copy()\n",
    "df6_test[\"quality\"] = ytest_df.quality\n",
    "df6_test = df6_test[(df6_test.quality != 5)&(df6_test.quality!=6)&(df6_test.quality != 7)]\n",
    "df6_test[\"quality\"] = df6_test.quality.apply(lambda x: 8. if x > 5 else 4.)\n",
    "df6_test = df6_test.reset_index(drop=True)\n",
    "df6_test.columns"
   ]
  },
  {
   "cell_type": "code",
   "execution_count": 194,
   "metadata": {},
   "outputs": [
    {
     "data": {
      "text/plain": [
       "Pipeline(steps=[('standardscaler', StandardScaler()),\n",
       "                ('svc', SVC(random_state=10))])"
      ]
     },
     "execution_count": 194,
     "metadata": {},
     "output_type": "execute_result"
    }
   ],
   "source": [
    "model3a.fit(df6.drop(\"quality\", axis=1), df6.quality)\n",
    "model3b.fit(df6.drop(\"quality\", axis=1), df6.quality)"
   ]
  },
  {
   "cell_type": "code",
   "execution_count": 195,
   "metadata": {},
   "outputs": [
    {
     "name": "stdout",
     "output_type": "stream",
     "text": [
      "              precision    recall  f1-score   support\n",
      "\n",
      "         4.0       0.79      0.81      0.80        27\n",
      "         8.0       0.81      0.78      0.79        27\n",
      "\n",
      "    accuracy                           0.80        54\n",
      "   macro avg       0.80      0.80      0.80        54\n",
      "weighted avg       0.80      0.80      0.80        54\n",
      "\n"
     ]
    }
   ],
   "source": [
    "preds = model3a.predict(df6_test.drop(\"quality\", axis=1))\n",
    "print(classification_report(df6_test.quality, preds))"
   ]
  },
  {
   "cell_type": "code",
   "execution_count": 196,
   "metadata": {},
   "outputs": [
    {
     "name": "stdout",
     "output_type": "stream",
     "text": [
      "              precision    recall  f1-score   support\n",
      "\n",
      "         4.0       0.89      0.93      0.91        27\n",
      "         8.0       0.92      0.89      0.91        27\n",
      "\n",
      "    accuracy                           0.91        54\n",
      "   macro avg       0.91      0.91      0.91        54\n",
      "weighted avg       0.91      0.91      0.91        54\n",
      "\n"
     ]
    }
   ],
   "source": [
    "preds = model3b.predict(df6_test.drop(\"quality\", axis=1))\n",
    "print(classification_report(df6_test.quality, preds))"
   ]
  },
  {
   "cell_type": "code",
   "execution_count": 197,
   "metadata": {},
   "outputs": [],
   "source": [
    "\n",
    "with open(\"C:/Users/Ephraim/Desktop/vscode/ML/Paritie Test Project/Wine-Quality-Estimation/Kivy App/models/model3b\", \"wb\") as f:\n",
    "    pickle.dump(model3b, f)"
   ]
  },
  {
   "cell_type": "code",
   "execution_count": 241,
   "metadata": {},
   "outputs": [],
   "source": [
    "import pickle\n",
    "class Model:\n",
    "    def __init__(self, directory=\"./models/\"):\n",
    "        self.iscsv = True\n",
    "        with open(directory + \"model1b\", \"rb\") as f:\n",
    "            self._model1 = pickle.load(f)\n",
    "        with open(directory + \"model2c\", \"rb\") as f:\n",
    "            self._model2 = pickle.load(f)\n",
    "        with open(directory + \"model3b\", \"rb\") as f:\n",
    "            self._model3 = pickle.load(f)\n",
    "    \n",
    "    def predict(self, X:pd.DataFrame, csv=True):\n",
    "        X = self.preprocess(X)\n",
    "        preds = self._model1.predict(X)\n",
    "        X[\"common\"] = preds\n",
    "        X1 = X[X.common == True]\n",
    "        X2 = X[X.common == False]\n",
    "        X1 = X1.drop(\"common\", axis=1)\n",
    "        X2 = X2.drop(\"common\", axis=1)\n",
    "        if csv:\n",
    "            preds1 = self._model2.predict(X1)\n",
    "            preds2 = self._model3.predict(X2)\n",
    "            X1['preds'] = preds1\n",
    "            X2['preds'] = preds2\n",
    "            X = pd.concat([X1, X2])\n",
    "            X = X.sort_index()\n",
    "            return X[\"preds\"]\n",
    "        elif preds[0]:\n",
    "            return self._model2.predict(X1)\n",
    "        else:\n",
    "            return self._model3.predict(X2)\n",
    "        \n",
    "        \n",
    "\n",
    "    def preprocess(self, dataframe:pd.DataFrame):\n",
    "        dataframe[\"densit_alcohol\"] = dataframe[\"density\"]/dataframe['alcohol']\n",
    "        dataframe.drop(\"sulphates\",axis=1, inplace=True)\n",
    "        dataframe.drop(\"density\",axis=1, inplace=True)\n",
    "        return dataframe.drop(\"chlorides\",axis=1)\n"
   ]
  },
  {
   "cell_type": "code",
   "execution_count": 242,
   "metadata": {},
   "outputs": [],
   "source": [
    "model = Model(\"C:/Users/Ephraim/Desktop/vscode/ML/Paritie Test Project/Wine-Quality-Estimation/Kivy App/models/\")"
   ]
  },
  {
   "cell_type": "code",
   "execution_count": 243,
   "metadata": {},
   "outputs": [],
   "source": [
    "preds = model.predict(xtest_df.copy())"
   ]
  },
  {
   "cell_type": "code",
   "execution_count": 244,
   "metadata": {},
   "outputs": [
    {
     "name": "stdout",
     "output_type": "stream",
     "text": [
      "              precision    recall  f1-score   support\n",
      "\n",
      "         3.0       0.00      0.00      0.00         3\n",
      "         4.0       0.28      0.38      0.32        24\n",
      "         5.0       0.67      0.63      0.65       219\n",
      "         6.0       0.64      0.63      0.63       330\n",
      "         7.0       0.57      0.54      0.55       132\n",
      "         8.0       0.28      0.46      0.35        26\n",
      "         9.0       0.00      0.00      0.00         1\n",
      "\n",
      "    accuracy                           0.60       735\n",
      "   macro avg       0.35      0.38      0.36       735\n",
      "weighted avg       0.61      0.60      0.60       735\n",
      "\n"
     ]
    },
    {
     "name": "stderr",
     "output_type": "stream",
     "text": [
      "C:\\Users\\Ephraim\\AppData\\Local\\Programs\\Python\\Python39\\lib\\site-packages\\sklearn\\metrics\\_classification.py:1318: UndefinedMetricWarning: Precision and F-score are ill-defined and being set to 0.0 in labels with no predicted samples. Use `zero_division` parameter to control this behavior.\n",
      "  _warn_prf(average, modifier, msg_start, len(result))\n",
      "C:\\Users\\Ephraim\\AppData\\Local\\Programs\\Python\\Python39\\lib\\site-packages\\sklearn\\metrics\\_classification.py:1318: UndefinedMetricWarning: Precision and F-score are ill-defined and being set to 0.0 in labels with no predicted samples. Use `zero_division` parameter to control this behavior.\n",
      "  _warn_prf(average, modifier, msg_start, len(result))\n",
      "C:\\Users\\Ephraim\\AppData\\Local\\Programs\\Python\\Python39\\lib\\site-packages\\sklearn\\metrics\\_classification.py:1318: UndefinedMetricWarning: Precision and F-score are ill-defined and being set to 0.0 in labels with no predicted samples. Use `zero_division` parameter to control this behavior.\n",
      "  _warn_prf(average, modifier, msg_start, len(result))\n"
     ]
    }
   ],
   "source": [
    "print(classification_report(ytest_df.quality, preds))"
   ]
  },
  {
   "cell_type": "code",
   "execution_count": 245,
   "metadata": {},
   "outputs": [],
   "source": [
    "l1 = ('fixed acidity',\n",
    "                'volatile acidity',\n",
    "                'citric acid',\n",
    "                'residual sugar',\n",
    "                'chlorides',\n",
    "                'free sulfur dioxide',\n",
    "                'total sulfur dioxide',\n",
    "                'density',\n",
    "                'pH',\n",
    "                'sulphates',\n",
    "                'alcohol')\n",
    "l2 = list(xtest_df.iloc[0])"
   ]
  },
  {
   "cell_type": "code",
   "execution_count": 246,
   "metadata": {},
   "outputs": [
    {
     "data": {
      "text/plain": [
       "('fixed acidity',\n",
       " 'volatile acidity',\n",
       " 'citric acid',\n",
       " 'residual sugar',\n",
       " 'chlorides',\n",
       " 'free sulfur dioxide',\n",
       " 'total sulfur dioxide',\n",
       " 'density',\n",
       " 'pH',\n",
       " 'sulphates',\n",
       " 'alcohol')"
      ]
     },
     "execution_count": 246,
     "metadata": {},
     "output_type": "execute_result"
    }
   ],
   "source": [
    "l1"
   ]
  },
  {
   "cell_type": "code",
   "execution_count": 247,
   "metadata": {},
   "outputs": [
    {
     "data": {
      "text/plain": [
       "[6.3, 0.31, 0.3, 10.0, 0.046, 49.0, 212.0, 0.9962, 3.74, 0.55, 11.9]"
      ]
     },
     "execution_count": 247,
     "metadata": {},
     "output_type": "execute_result"
    }
   ],
   "source": [
    "l2"
   ]
  },
  {
   "cell_type": "code",
   "execution_count": 249,
   "metadata": {},
   "outputs": [],
   "source": [
    "def createdFrame(col, val):\n",
    "    return pd.DataFrame([val], columns=col)"
   ]
  },
  {
   "cell_type": "code",
   "execution_count": 253,
   "metadata": {},
   "outputs": [
    {
     "data": {
      "text/html": [
       "<div>\n",
       "<style scoped>\n",
       "    .dataframe tbody tr th:only-of-type {\n",
       "        vertical-align: middle;\n",
       "    }\n",
       "\n",
       "    .dataframe tbody tr th {\n",
       "        vertical-align: top;\n",
       "    }\n",
       "\n",
       "    .dataframe thead th {\n",
       "        text-align: right;\n",
       "    }\n",
       "</style>\n",
       "<table border=\"1\" class=\"dataframe\">\n",
       "  <thead>\n",
       "    <tr style=\"text-align: right;\">\n",
       "      <th></th>\n",
       "      <th>fixed acidity</th>\n",
       "      <th>volatile acidity</th>\n",
       "      <th>citric acid</th>\n",
       "      <th>residual sugar</th>\n",
       "      <th>chlorides</th>\n",
       "      <th>free sulfur dioxide</th>\n",
       "      <th>total sulfur dioxide</th>\n",
       "      <th>density</th>\n",
       "      <th>pH</th>\n",
       "      <th>sulphates</th>\n",
       "      <th>alcohol</th>\n",
       "    </tr>\n",
       "  </thead>\n",
       "  <tbody>\n",
       "    <tr>\n",
       "      <th>0</th>\n",
       "      <td>6.3</td>\n",
       "      <td>0.31</td>\n",
       "      <td>0.3</td>\n",
       "      <td>10.0</td>\n",
       "      <td>0.046</td>\n",
       "      <td>49.0</td>\n",
       "      <td>212.0</td>\n",
       "      <td>0.9962</td>\n",
       "      <td>3.74</td>\n",
       "      <td>0.55</td>\n",
       "      <td>11.9</td>\n",
       "    </tr>\n",
       "  </tbody>\n",
       "</table>\n",
       "</div>"
      ],
      "text/plain": [
       "   fixed acidity  volatile acidity  citric acid  residual sugar  chlorides  \\\n",
       "0            6.3              0.31          0.3            10.0      0.046   \n",
       "\n",
       "   free sulfur dioxide  total sulfur dioxide  density    pH  sulphates  \\\n",
       "0                 49.0                 212.0   0.9962  3.74       0.55   \n",
       "\n",
       "   alcohol  \n",
       "0     11.9  "
      ]
     },
     "execution_count": 253,
     "metadata": {},
     "output_type": "execute_result"
    }
   ],
   "source": [
    "d = createdFrame(l1, l2)\n",
    "d"
   ]
  },
  {
   "cell_type": "code",
   "execution_count": 254,
   "metadata": {},
   "outputs": [
    {
     "data": {
      "text/plain": [
       "[7.5, 0.14, 0.34, 1.3, 0.055, 50.0, 153.0, 0.9945, 3.29, 0.8, 9.6]"
      ]
     },
     "execution_count": 254,
     "metadata": {},
     "output_type": "execute_result"
    }
   ],
   "source": [
    "list(df2.drop(\"quality\", axis=1).iloc[0])"
   ]
  },
  {
   "cell_type": "code",
   "execution_count": 255,
   "metadata": {},
   "outputs": [
    {
     "data": {
      "text/plain": [
       "array([6.])"
      ]
     },
     "execution_count": 255,
     "metadata": {},
     "output_type": "execute_result"
    }
   ],
   "source": [
    "model.predict(d, False)"
   ]
  },
  {
   "cell_type": "code",
   "execution_count": 256,
   "metadata": {},
   "outputs": [
    {
     "data": {
      "text/plain": [
       "quality    6.0\n",
       "Name: 0, dtype: float64"
      ]
     },
     "execution_count": 256,
     "metadata": {},
     "output_type": "execute_result"
    }
   ],
   "source": [
    "ytest_df.iloc[0]"
   ]
  },
  {
   "cell_type": "code",
   "execution_count": null,
   "metadata": {},
   "outputs": [],
   "source": []
  }
 ],
 "metadata": {
  "interpreter": {
   "hash": "b2139590a2e13eb994860a5bf1c3d85c510c7215ce6be3d3540f342385f80d05"
  },
  "kernelspec": {
   "display_name": "Python 3.9.6 64-bit",
   "language": "python",
   "name": "python3"
  },
  "language_info": {
   "codemirror_mode": {
    "name": "ipython",
    "version": 3
   },
   "file_extension": ".py",
   "mimetype": "text/x-python",
   "name": "python",
   "nbconvert_exporter": "python",
   "pygments_lexer": "ipython3",
   "version": "3.9.6"
  },
  "orig_nbformat": 4
 },
 "nbformat": 4,
 "nbformat_minor": 2
}
